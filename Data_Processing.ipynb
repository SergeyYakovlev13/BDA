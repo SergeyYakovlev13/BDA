{
  "metadata": {
    "kernelspec": {
      "language": "python",
      "display_name": "Python 3",
      "name": "python3"
    },
    "language_info": {
      "name": "python",
      "version": "3.10.13",
      "mimetype": "text/x-python",
      "codemirror_mode": {
        "name": "ipython",
        "version": 3
      },
      "pygments_lexer": "ipython3",
      "nbconvert_exporter": "python",
      "file_extension": ".py"
    },
    "kaggle": {
      "accelerator": "gpu",
      "dataSources": [
        {
          "sourceId": 1207035,
          "sourceType": "datasetVersion",
          "datasetId": 688532
        },
        {
          "sourceId": 5037255,
          "sourceType": "datasetVersion",
          "datasetId": 2811044
        },
        {
          "sourceId": 7512376,
          "sourceType": "datasetVersion",
          "datasetId": 4375530
        },
        {
          "sourceId": 6491929,
          "sourceType": "datasetVersion",
          "datasetId": 3321433
        }
      ],
      "dockerImageVersionId": 30646,
      "isInternetEnabled": true,
      "language": "python",
      "sourceType": "notebook",
      "isGpuEnabled": true
    },
    "colab": {
      "provenance": []
    }
  },
  "nbformat_minor": 0,
  "nbformat": 4,
  "cells": [
    {
      "cell_type": "markdown",
      "source": [
        "# **Importing all necessary libraries (for both tasks)**"
      ],
      "metadata": {
        "id": "erx-Tzz_n4GR"
      }
    },
    {
      "cell_type": "code",
      "source": [
        "import warnings\n",
        "warnings.simplefilter('ignore')\n",
        "import pandas as pd\n",
        "import numpy as np\n",
        "import matplotlib.pyplot as plt\n",
        "from sklearn.experimental import enable_iterative_imputer\n",
        "from sklearn.impute import SimpleImputer,IterativeImputer,KNNImputer\n",
        "from sklearn.ensemble import GradientBoostingRegressor,GradientBoostingClassifier\n",
        "from sklearn.neighbors import KNeighborsRegressor\n",
        "from sklearn.kernel_approximation import Nystroem\n",
        "from sklearn.linear_model import BayesianRidge,Ridge,LinearRegression\n",
        "from sklearn.model_selection import cross_val_score\n",
        "from sklearn.pipeline import make_pipeline"
      ],
      "metadata": {
        "_uuid": "8f2839f25d086af736a60e9eeb907d3b93b6e0e5",
        "_cell_guid": "b1076dfc-b9ad-4769-8c92-a6c4dae69d19",
        "execution": {
          "iopub.status.busy": "2024-02-13T14:25:20.950914Z",
          "iopub.execute_input": "2024-02-13T14:25:20.951746Z",
          "iopub.status.idle": "2024-02-13T14:25:23.328224Z",
          "shell.execute_reply.started": "2024-02-13T14:25:20.951713Z",
          "shell.execute_reply": "2024-02-13T14:25:23.327251Z"
        },
        "trusted": true,
        "id": "myqHzf9nn4GV"
      },
      "execution_count": null,
      "outputs": []
    },
    {
      "cell_type": "markdown",
      "source": [
        "# **Processing categorical variables**"
      ],
      "metadata": {
        "id": "lLkd58ESn4GX"
      }
    },
    {
      "cell_type": "markdown",
      "source": [
        "## **For a task of processing categorical variables was chosen dataset 'Sleep Health and Lifestyle Dataset' from Kaggle:  https://www.kaggle.com/datasets/uom190346a/sleep-health-and-lifestyle-dataset**"
      ],
      "metadata": {
        "id": "xLSOt__qn4GX"
      }
    },
    {
      "cell_type": "markdown",
      "source": [
        "## **Analysing data with respect to categorical features**"
      ],
      "metadata": {
        "id": "qNkTZL4dn4GX"
      }
    },
    {
      "cell_type": "markdown",
      "source": [
        "**Whlie analysing, which categorical features are nominal, and which are order - it was discovered, that in this dataset one binary feature - 'Gender', one nominal feature - 'Occupation', one order feature - 'BMI Category', class label 'Sleep Disorder', which have 3 possible values, and feature called 'Blood Pressure', which in fact could be divided into two numeric features, corresponding to higher and lower blood pressure**"
      ],
      "metadata": {
        "id": "XmmGOxlRn4GY"
      }
    },
    {
      "cell_type": "code",
      "source": [
        "df=pd.read_csv('/kaggle/input/sleep-health-and-lifestyle-dataset/Sleep_health_and_lifestyle_dataset.csv')\n",
        "display(df)"
      ],
      "metadata": {
        "execution": {
          "iopub.status.busy": "2024-02-13T14:25:23.330029Z",
          "iopub.execute_input": "2024-02-13T14:25:23.330535Z",
          "iopub.status.idle": "2024-02-13T14:25:23.379802Z",
          "shell.execute_reply.started": "2024-02-13T14:25:23.330506Z",
          "shell.execute_reply": "2024-02-13T14:25:23.378822Z"
        },
        "trusted": true,
        "id": "aNb9C9FMn4GY",
        "outputId": "db2e418d-7ac4-4e3c-a51f-84f68cc2555d"
      },
      "execution_count": null,
      "outputs": [
        {
          "output_type": "display_data",
          "data": {
            "text/plain": "     Person ID  Gender  Age            Occupation  Sleep Duration  \\\n0            1    Male   27     Software Engineer             6.1   \n1            2    Male   28                Doctor             6.2   \n2            3    Male   28                Doctor             6.2   \n3            4    Male   28  Sales Representative             5.9   \n4            5    Male   28  Sales Representative             5.9   \n..         ...     ...  ...                   ...             ...   \n369        370  Female   59                 Nurse             8.1   \n370        371  Female   59                 Nurse             8.0   \n371        372  Female   59                 Nurse             8.1   \n372        373  Female   59                 Nurse             8.1   \n373        374  Female   59                 Nurse             8.1   \n\n     Quality of Sleep  Physical Activity Level  Stress Level BMI Category  \\\n0                   6                       42             6   Overweight   \n1                   6                       60             8       Normal   \n2                   6                       60             8       Normal   \n3                   4                       30             8        Obese   \n4                   4                       30             8        Obese   \n..                ...                      ...           ...          ...   \n369                 9                       75             3   Overweight   \n370                 9                       75             3   Overweight   \n371                 9                       75             3   Overweight   \n372                 9                       75             3   Overweight   \n373                 9                       75             3   Overweight   \n\n    Blood Pressure  Heart Rate  Daily Steps Sleep Disorder  \n0           126/83          77         4200            NaN  \n1           125/80          75        10000            NaN  \n2           125/80          75        10000            NaN  \n3           140/90          85         3000    Sleep Apnea  \n4           140/90          85         3000    Sleep Apnea  \n..             ...         ...          ...            ...  \n369         140/95          68         7000    Sleep Apnea  \n370         140/95          68         7000    Sleep Apnea  \n371         140/95          68         7000    Sleep Apnea  \n372         140/95          68         7000    Sleep Apnea  \n373         140/95          68         7000    Sleep Apnea  \n\n[374 rows x 13 columns]",
            "text/html": "<div>\n<style scoped>\n    .dataframe tbody tr th:only-of-type {\n        vertical-align: middle;\n    }\n\n    .dataframe tbody tr th {\n        vertical-align: top;\n    }\n\n    .dataframe thead th {\n        text-align: right;\n    }\n</style>\n<table border=\"1\" class=\"dataframe\">\n  <thead>\n    <tr style=\"text-align: right;\">\n      <th></th>\n      <th>Person ID</th>\n      <th>Gender</th>\n      <th>Age</th>\n      <th>Occupation</th>\n      <th>Sleep Duration</th>\n      <th>Quality of Sleep</th>\n      <th>Physical Activity Level</th>\n      <th>Stress Level</th>\n      <th>BMI Category</th>\n      <th>Blood Pressure</th>\n      <th>Heart Rate</th>\n      <th>Daily Steps</th>\n      <th>Sleep Disorder</th>\n    </tr>\n  </thead>\n  <tbody>\n    <tr>\n      <th>0</th>\n      <td>1</td>\n      <td>Male</td>\n      <td>27</td>\n      <td>Software Engineer</td>\n      <td>6.1</td>\n      <td>6</td>\n      <td>42</td>\n      <td>6</td>\n      <td>Overweight</td>\n      <td>126/83</td>\n      <td>77</td>\n      <td>4200</td>\n      <td>NaN</td>\n    </tr>\n    <tr>\n      <th>1</th>\n      <td>2</td>\n      <td>Male</td>\n      <td>28</td>\n      <td>Doctor</td>\n      <td>6.2</td>\n      <td>6</td>\n      <td>60</td>\n      <td>8</td>\n      <td>Normal</td>\n      <td>125/80</td>\n      <td>75</td>\n      <td>10000</td>\n      <td>NaN</td>\n    </tr>\n    <tr>\n      <th>2</th>\n      <td>3</td>\n      <td>Male</td>\n      <td>28</td>\n      <td>Doctor</td>\n      <td>6.2</td>\n      <td>6</td>\n      <td>60</td>\n      <td>8</td>\n      <td>Normal</td>\n      <td>125/80</td>\n      <td>75</td>\n      <td>10000</td>\n      <td>NaN</td>\n    </tr>\n    <tr>\n      <th>3</th>\n      <td>4</td>\n      <td>Male</td>\n      <td>28</td>\n      <td>Sales Representative</td>\n      <td>5.9</td>\n      <td>4</td>\n      <td>30</td>\n      <td>8</td>\n      <td>Obese</td>\n      <td>140/90</td>\n      <td>85</td>\n      <td>3000</td>\n      <td>Sleep Apnea</td>\n    </tr>\n    <tr>\n      <th>4</th>\n      <td>5</td>\n      <td>Male</td>\n      <td>28</td>\n      <td>Sales Representative</td>\n      <td>5.9</td>\n      <td>4</td>\n      <td>30</td>\n      <td>8</td>\n      <td>Obese</td>\n      <td>140/90</td>\n      <td>85</td>\n      <td>3000</td>\n      <td>Sleep Apnea</td>\n    </tr>\n    <tr>\n      <th>...</th>\n      <td>...</td>\n      <td>...</td>\n      <td>...</td>\n      <td>...</td>\n      <td>...</td>\n      <td>...</td>\n      <td>...</td>\n      <td>...</td>\n      <td>...</td>\n      <td>...</td>\n      <td>...</td>\n      <td>...</td>\n      <td>...</td>\n    </tr>\n    <tr>\n      <th>369</th>\n      <td>370</td>\n      <td>Female</td>\n      <td>59</td>\n      <td>Nurse</td>\n      <td>8.1</td>\n      <td>9</td>\n      <td>75</td>\n      <td>3</td>\n      <td>Overweight</td>\n      <td>140/95</td>\n      <td>68</td>\n      <td>7000</td>\n      <td>Sleep Apnea</td>\n    </tr>\n    <tr>\n      <th>370</th>\n      <td>371</td>\n      <td>Female</td>\n      <td>59</td>\n      <td>Nurse</td>\n      <td>8.0</td>\n      <td>9</td>\n      <td>75</td>\n      <td>3</td>\n      <td>Overweight</td>\n      <td>140/95</td>\n      <td>68</td>\n      <td>7000</td>\n      <td>Sleep Apnea</td>\n    </tr>\n    <tr>\n      <th>371</th>\n      <td>372</td>\n      <td>Female</td>\n      <td>59</td>\n      <td>Nurse</td>\n      <td>8.1</td>\n      <td>9</td>\n      <td>75</td>\n      <td>3</td>\n      <td>Overweight</td>\n      <td>140/95</td>\n      <td>68</td>\n      <td>7000</td>\n      <td>Sleep Apnea</td>\n    </tr>\n    <tr>\n      <th>372</th>\n      <td>373</td>\n      <td>Female</td>\n      <td>59</td>\n      <td>Nurse</td>\n      <td>8.1</td>\n      <td>9</td>\n      <td>75</td>\n      <td>3</td>\n      <td>Overweight</td>\n      <td>140/95</td>\n      <td>68</td>\n      <td>7000</td>\n      <td>Sleep Apnea</td>\n    </tr>\n    <tr>\n      <th>373</th>\n      <td>374</td>\n      <td>Female</td>\n      <td>59</td>\n      <td>Nurse</td>\n      <td>8.1</td>\n      <td>9</td>\n      <td>75</td>\n      <td>3</td>\n      <td>Overweight</td>\n      <td>140/95</td>\n      <td>68</td>\n      <td>7000</td>\n      <td>Sleep Apnea</td>\n    </tr>\n  </tbody>\n</table>\n<p>374 rows × 13 columns</p>\n</div>"
          },
          "metadata": {}
        }
      ]
    },
    {
      "cell_type": "code",
      "source": [
        "df.info()"
      ],
      "metadata": {
        "execution": {
          "iopub.status.busy": "2024-02-13T14:25:23.380899Z",
          "iopub.execute_input": "2024-02-13T14:25:23.381177Z",
          "iopub.status.idle": "2024-02-13T14:25:23.401894Z",
          "shell.execute_reply.started": "2024-02-13T14:25:23.381153Z",
          "shell.execute_reply": "2024-02-13T14:25:23.400711Z"
        },
        "trusted": true,
        "id": "d3trvMWin4GZ",
        "outputId": "28325fa3-7c85-4d34-e5d1-3af2ecd09c00"
      },
      "execution_count": null,
      "outputs": [
        {
          "name": "stdout",
          "text": "<class 'pandas.core.frame.DataFrame'>\nRangeIndex: 374 entries, 0 to 373\nData columns (total 13 columns):\n #   Column                   Non-Null Count  Dtype  \n---  ------                   --------------  -----  \n 0   Person ID                374 non-null    int64  \n 1   Gender                   374 non-null    object \n 2   Age                      374 non-null    int64  \n 3   Occupation               374 non-null    object \n 4   Sleep Duration           374 non-null    float64\n 5   Quality of Sleep         374 non-null    int64  \n 6   Physical Activity Level  374 non-null    int64  \n 7   Stress Level             374 non-null    int64  \n 8   BMI Category             374 non-null    object \n 9   Blood Pressure           374 non-null    object \n 10  Heart Rate               374 non-null    int64  \n 11  Daily Steps              374 non-null    int64  \n 12  Sleep Disorder           155 non-null    object \ndtypes: float64(1), int64(7), object(5)\nmemory usage: 38.1+ KB\n",
          "output_type": "stream"
        }
      ]
    },
    {
      "cell_type": "code",
      "source": [
        "print(pd.unique(df['Gender']))\n",
        "print(pd.unique(df['Occupation']))\n",
        "print(pd.unique(df['BMI Category']))\n",
        "print(pd.unique(df['Sleep Disorder']))"
      ],
      "metadata": {
        "execution": {
          "iopub.status.busy": "2024-02-13T14:25:23.404095Z",
          "iopub.execute_input": "2024-02-13T14:25:23.404443Z",
          "iopub.status.idle": "2024-02-13T14:25:23.414391Z",
          "shell.execute_reply.started": "2024-02-13T14:25:23.404415Z",
          "shell.execute_reply": "2024-02-13T14:25:23.413290Z"
        },
        "trusted": true,
        "id": "fwF64k3un4GZ",
        "outputId": "c903b44a-0546-4ac0-aa1c-9e4657ed6cfc"
      },
      "execution_count": null,
      "outputs": [
        {
          "name": "stdout",
          "text": "['Male' 'Female']\n['Software Engineer' 'Doctor' 'Sales Representative' 'Teacher' 'Nurse'\n 'Engineer' 'Accountant' 'Scientist' 'Lawyer' 'Salesperson' 'Manager']\n['Overweight' 'Normal' 'Obese' 'Normal Weight']\n[nan 'Sleep Apnea' 'Insomnia']\n",
          "output_type": "stream"
        }
      ]
    },
    {
      "cell_type": "markdown",
      "source": [
        "## **Processing feature 'Blood pressure', and dropping unnecessary features**"
      ],
      "metadata": {
        "id": "hg3Lu3-Hn4Ga"
      }
    },
    {
      "cell_type": "markdown",
      "source": [
        "**Despite the fact, that this is not necessary to process feature 'Blood pressure', as long as it doesn't required into task, due to fact, that this feature generally not either order or nomial, it was processed, as long as ideally this should be done in real-world task. Also was removed feature 'Person ID', as long as it unique for each sample, and won't provide us any useful information.**"
      ],
      "metadata": {
        "id": "QYf8HO37n4Ga"
      }
    },
    {
      "cell_type": "code",
      "source": [
        "df=df.drop(['Person ID'],axis=1)\n",
        "df['Higher Pressure']=df['Blood Pressure'].str.split(\"/\",expand=True)[0].astype('int64')\n",
        "df['Lower Pressure']=df['Blood Pressure'].str.split(\"/\",expand=True)[1].astype('int64')\n",
        "df=df.drop(['Blood Pressure'], axis=1)\n",
        "df=df.astype({'Higher Pressure':'int64','Lower Pressure':'int64'})\n",
        "display(df)"
      ],
      "metadata": {
        "execution": {
          "iopub.status.busy": "2024-02-13T14:25:23.415953Z",
          "iopub.execute_input": "2024-02-13T14:25:23.416263Z",
          "iopub.status.idle": "2024-02-13T14:25:23.452563Z",
          "shell.execute_reply.started": "2024-02-13T14:25:23.416238Z",
          "shell.execute_reply": "2024-02-13T14:25:23.451491Z"
        },
        "trusted": true,
        "id": "LJMrg2E2n4Ga",
        "outputId": "7cce23de-864b-4192-de02-d639fc439dd3"
      },
      "execution_count": null,
      "outputs": [
        {
          "output_type": "display_data",
          "data": {
            "text/plain": "     Gender  Age            Occupation  Sleep Duration  Quality of Sleep  \\\n0      Male   27     Software Engineer             6.1                 6   \n1      Male   28                Doctor             6.2                 6   \n2      Male   28                Doctor             6.2                 6   \n3      Male   28  Sales Representative             5.9                 4   \n4      Male   28  Sales Representative             5.9                 4   \n..      ...  ...                   ...             ...               ...   \n369  Female   59                 Nurse             8.1                 9   \n370  Female   59                 Nurse             8.0                 9   \n371  Female   59                 Nurse             8.1                 9   \n372  Female   59                 Nurse             8.1                 9   \n373  Female   59                 Nurse             8.1                 9   \n\n     Physical Activity Level  Stress Level BMI Category  Heart Rate  \\\n0                         42             6   Overweight          77   \n1                         60             8       Normal          75   \n2                         60             8       Normal          75   \n3                         30             8        Obese          85   \n4                         30             8        Obese          85   \n..                       ...           ...          ...         ...   \n369                       75             3   Overweight          68   \n370                       75             3   Overweight          68   \n371                       75             3   Overweight          68   \n372                       75             3   Overweight          68   \n373                       75             3   Overweight          68   \n\n     Daily Steps Sleep Disorder  Higher Pressure  Lower Pressure  \n0           4200            NaN              126              83  \n1          10000            NaN              125              80  \n2          10000            NaN              125              80  \n3           3000    Sleep Apnea              140              90  \n4           3000    Sleep Apnea              140              90  \n..           ...            ...              ...             ...  \n369         7000    Sleep Apnea              140              95  \n370         7000    Sleep Apnea              140              95  \n371         7000    Sleep Apnea              140              95  \n372         7000    Sleep Apnea              140              95  \n373         7000    Sleep Apnea              140              95  \n\n[374 rows x 13 columns]",
            "text/html": "<div>\n<style scoped>\n    .dataframe tbody tr th:only-of-type {\n        vertical-align: middle;\n    }\n\n    .dataframe tbody tr th {\n        vertical-align: top;\n    }\n\n    .dataframe thead th {\n        text-align: right;\n    }\n</style>\n<table border=\"1\" class=\"dataframe\">\n  <thead>\n    <tr style=\"text-align: right;\">\n      <th></th>\n      <th>Gender</th>\n      <th>Age</th>\n      <th>Occupation</th>\n      <th>Sleep Duration</th>\n      <th>Quality of Sleep</th>\n      <th>Physical Activity Level</th>\n      <th>Stress Level</th>\n      <th>BMI Category</th>\n      <th>Heart Rate</th>\n      <th>Daily Steps</th>\n      <th>Sleep Disorder</th>\n      <th>Higher Pressure</th>\n      <th>Lower Pressure</th>\n    </tr>\n  </thead>\n  <tbody>\n    <tr>\n      <th>0</th>\n      <td>Male</td>\n      <td>27</td>\n      <td>Software Engineer</td>\n      <td>6.1</td>\n      <td>6</td>\n      <td>42</td>\n      <td>6</td>\n      <td>Overweight</td>\n      <td>77</td>\n      <td>4200</td>\n      <td>NaN</td>\n      <td>126</td>\n      <td>83</td>\n    </tr>\n    <tr>\n      <th>1</th>\n      <td>Male</td>\n      <td>28</td>\n      <td>Doctor</td>\n      <td>6.2</td>\n      <td>6</td>\n      <td>60</td>\n      <td>8</td>\n      <td>Normal</td>\n      <td>75</td>\n      <td>10000</td>\n      <td>NaN</td>\n      <td>125</td>\n      <td>80</td>\n    </tr>\n    <tr>\n      <th>2</th>\n      <td>Male</td>\n      <td>28</td>\n      <td>Doctor</td>\n      <td>6.2</td>\n      <td>6</td>\n      <td>60</td>\n      <td>8</td>\n      <td>Normal</td>\n      <td>75</td>\n      <td>10000</td>\n      <td>NaN</td>\n      <td>125</td>\n      <td>80</td>\n    </tr>\n    <tr>\n      <th>3</th>\n      <td>Male</td>\n      <td>28</td>\n      <td>Sales Representative</td>\n      <td>5.9</td>\n      <td>4</td>\n      <td>30</td>\n      <td>8</td>\n      <td>Obese</td>\n      <td>85</td>\n      <td>3000</td>\n      <td>Sleep Apnea</td>\n      <td>140</td>\n      <td>90</td>\n    </tr>\n    <tr>\n      <th>4</th>\n      <td>Male</td>\n      <td>28</td>\n      <td>Sales Representative</td>\n      <td>5.9</td>\n      <td>4</td>\n      <td>30</td>\n      <td>8</td>\n      <td>Obese</td>\n      <td>85</td>\n      <td>3000</td>\n      <td>Sleep Apnea</td>\n      <td>140</td>\n      <td>90</td>\n    </tr>\n    <tr>\n      <th>...</th>\n      <td>...</td>\n      <td>...</td>\n      <td>...</td>\n      <td>...</td>\n      <td>...</td>\n      <td>...</td>\n      <td>...</td>\n      <td>...</td>\n      <td>...</td>\n      <td>...</td>\n      <td>...</td>\n      <td>...</td>\n      <td>...</td>\n    </tr>\n    <tr>\n      <th>369</th>\n      <td>Female</td>\n      <td>59</td>\n      <td>Nurse</td>\n      <td>8.1</td>\n      <td>9</td>\n      <td>75</td>\n      <td>3</td>\n      <td>Overweight</td>\n      <td>68</td>\n      <td>7000</td>\n      <td>Sleep Apnea</td>\n      <td>140</td>\n      <td>95</td>\n    </tr>\n    <tr>\n      <th>370</th>\n      <td>Female</td>\n      <td>59</td>\n      <td>Nurse</td>\n      <td>8.0</td>\n      <td>9</td>\n      <td>75</td>\n      <td>3</td>\n      <td>Overweight</td>\n      <td>68</td>\n      <td>7000</td>\n      <td>Sleep Apnea</td>\n      <td>140</td>\n      <td>95</td>\n    </tr>\n    <tr>\n      <th>371</th>\n      <td>Female</td>\n      <td>59</td>\n      <td>Nurse</td>\n      <td>8.1</td>\n      <td>9</td>\n      <td>75</td>\n      <td>3</td>\n      <td>Overweight</td>\n      <td>68</td>\n      <td>7000</td>\n      <td>Sleep Apnea</td>\n      <td>140</td>\n      <td>95</td>\n    </tr>\n    <tr>\n      <th>372</th>\n      <td>Female</td>\n      <td>59</td>\n      <td>Nurse</td>\n      <td>8.1</td>\n      <td>9</td>\n      <td>75</td>\n      <td>3</td>\n      <td>Overweight</td>\n      <td>68</td>\n      <td>7000</td>\n      <td>Sleep Apnea</td>\n      <td>140</td>\n      <td>95</td>\n    </tr>\n    <tr>\n      <th>373</th>\n      <td>Female</td>\n      <td>59</td>\n      <td>Nurse</td>\n      <td>8.1</td>\n      <td>9</td>\n      <td>75</td>\n      <td>3</td>\n      <td>Overweight</td>\n      <td>68</td>\n      <td>7000</td>\n      <td>Sleep Apnea</td>\n      <td>140</td>\n      <td>95</td>\n    </tr>\n  </tbody>\n</table>\n<p>374 rows × 13 columns</p>\n</div>"
          },
          "metadata": {}
        }
      ]
    },
    {
      "cell_type": "markdown",
      "source": [
        "## **Processing binary feature**"
      ],
      "metadata": {
        "id": "sJ5-sHMrn4Ga"
      }
    },
    {
      "cell_type": "markdown",
      "source": [
        "**Again, it doest't required in task, to process binary features, but this feature still was processed, as long as it could be done super easy, by compination of boolean masking and type transformation, and like before - generally it always must be processed.**"
      ],
      "metadata": {
        "id": "SGKEwYJKn4Ga"
      }
    },
    {
      "cell_type": "code",
      "source": [
        "df['Gender']=1*(df['Gender']=='Male')\n",
        "df=df.astype({'Gender':'int64'})\n",
        "display(df)"
      ],
      "metadata": {
        "execution": {
          "iopub.status.busy": "2024-02-13T14:25:23.453951Z",
          "iopub.execute_input": "2024-02-13T14:25:23.454321Z",
          "iopub.status.idle": "2024-02-13T14:25:23.484647Z",
          "shell.execute_reply.started": "2024-02-13T14:25:23.454291Z",
          "shell.execute_reply": "2024-02-13T14:25:23.483387Z"
        },
        "trusted": true,
        "id": "Fr4foNxjn4Gb",
        "outputId": "78ee92a0-214f-41da-fdde-26ab55a022a1"
      },
      "execution_count": null,
      "outputs": [
        {
          "output_type": "display_data",
          "data": {
            "text/plain": "     Gender  Age            Occupation  Sleep Duration  Quality of Sleep  \\\n0         1   27     Software Engineer             6.1                 6   \n1         1   28                Doctor             6.2                 6   \n2         1   28                Doctor             6.2                 6   \n3         1   28  Sales Representative             5.9                 4   \n4         1   28  Sales Representative             5.9                 4   \n..      ...  ...                   ...             ...               ...   \n369       0   59                 Nurse             8.1                 9   \n370       0   59                 Nurse             8.0                 9   \n371       0   59                 Nurse             8.1                 9   \n372       0   59                 Nurse             8.1                 9   \n373       0   59                 Nurse             8.1                 9   \n\n     Physical Activity Level  Stress Level BMI Category  Heart Rate  \\\n0                         42             6   Overweight          77   \n1                         60             8       Normal          75   \n2                         60             8       Normal          75   \n3                         30             8        Obese          85   \n4                         30             8        Obese          85   \n..                       ...           ...          ...         ...   \n369                       75             3   Overweight          68   \n370                       75             3   Overweight          68   \n371                       75             3   Overweight          68   \n372                       75             3   Overweight          68   \n373                       75             3   Overweight          68   \n\n     Daily Steps Sleep Disorder  Higher Pressure  Lower Pressure  \n0           4200            NaN              126              83  \n1          10000            NaN              125              80  \n2          10000            NaN              125              80  \n3           3000    Sleep Apnea              140              90  \n4           3000    Sleep Apnea              140              90  \n..           ...            ...              ...             ...  \n369         7000    Sleep Apnea              140              95  \n370         7000    Sleep Apnea              140              95  \n371         7000    Sleep Apnea              140              95  \n372         7000    Sleep Apnea              140              95  \n373         7000    Sleep Apnea              140              95  \n\n[374 rows x 13 columns]",
            "text/html": "<div>\n<style scoped>\n    .dataframe tbody tr th:only-of-type {\n        vertical-align: middle;\n    }\n\n    .dataframe tbody tr th {\n        vertical-align: top;\n    }\n\n    .dataframe thead th {\n        text-align: right;\n    }\n</style>\n<table border=\"1\" class=\"dataframe\">\n  <thead>\n    <tr style=\"text-align: right;\">\n      <th></th>\n      <th>Gender</th>\n      <th>Age</th>\n      <th>Occupation</th>\n      <th>Sleep Duration</th>\n      <th>Quality of Sleep</th>\n      <th>Physical Activity Level</th>\n      <th>Stress Level</th>\n      <th>BMI Category</th>\n      <th>Heart Rate</th>\n      <th>Daily Steps</th>\n      <th>Sleep Disorder</th>\n      <th>Higher Pressure</th>\n      <th>Lower Pressure</th>\n    </tr>\n  </thead>\n  <tbody>\n    <tr>\n      <th>0</th>\n      <td>1</td>\n      <td>27</td>\n      <td>Software Engineer</td>\n      <td>6.1</td>\n      <td>6</td>\n      <td>42</td>\n      <td>6</td>\n      <td>Overweight</td>\n      <td>77</td>\n      <td>4200</td>\n      <td>NaN</td>\n      <td>126</td>\n      <td>83</td>\n    </tr>\n    <tr>\n      <th>1</th>\n      <td>1</td>\n      <td>28</td>\n      <td>Doctor</td>\n      <td>6.2</td>\n      <td>6</td>\n      <td>60</td>\n      <td>8</td>\n      <td>Normal</td>\n      <td>75</td>\n      <td>10000</td>\n      <td>NaN</td>\n      <td>125</td>\n      <td>80</td>\n    </tr>\n    <tr>\n      <th>2</th>\n      <td>1</td>\n      <td>28</td>\n      <td>Doctor</td>\n      <td>6.2</td>\n      <td>6</td>\n      <td>60</td>\n      <td>8</td>\n      <td>Normal</td>\n      <td>75</td>\n      <td>10000</td>\n      <td>NaN</td>\n      <td>125</td>\n      <td>80</td>\n    </tr>\n    <tr>\n      <th>3</th>\n      <td>1</td>\n      <td>28</td>\n      <td>Sales Representative</td>\n      <td>5.9</td>\n      <td>4</td>\n      <td>30</td>\n      <td>8</td>\n      <td>Obese</td>\n      <td>85</td>\n      <td>3000</td>\n      <td>Sleep Apnea</td>\n      <td>140</td>\n      <td>90</td>\n    </tr>\n    <tr>\n      <th>4</th>\n      <td>1</td>\n      <td>28</td>\n      <td>Sales Representative</td>\n      <td>5.9</td>\n      <td>4</td>\n      <td>30</td>\n      <td>8</td>\n      <td>Obese</td>\n      <td>85</td>\n      <td>3000</td>\n      <td>Sleep Apnea</td>\n      <td>140</td>\n      <td>90</td>\n    </tr>\n    <tr>\n      <th>...</th>\n      <td>...</td>\n      <td>...</td>\n      <td>...</td>\n      <td>...</td>\n      <td>...</td>\n      <td>...</td>\n      <td>...</td>\n      <td>...</td>\n      <td>...</td>\n      <td>...</td>\n      <td>...</td>\n      <td>...</td>\n      <td>...</td>\n    </tr>\n    <tr>\n      <th>369</th>\n      <td>0</td>\n      <td>59</td>\n      <td>Nurse</td>\n      <td>8.1</td>\n      <td>9</td>\n      <td>75</td>\n      <td>3</td>\n      <td>Overweight</td>\n      <td>68</td>\n      <td>7000</td>\n      <td>Sleep Apnea</td>\n      <td>140</td>\n      <td>95</td>\n    </tr>\n    <tr>\n      <th>370</th>\n      <td>0</td>\n      <td>59</td>\n      <td>Nurse</td>\n      <td>8.0</td>\n      <td>9</td>\n      <td>75</td>\n      <td>3</td>\n      <td>Overweight</td>\n      <td>68</td>\n      <td>7000</td>\n      <td>Sleep Apnea</td>\n      <td>140</td>\n      <td>95</td>\n    </tr>\n    <tr>\n      <th>371</th>\n      <td>0</td>\n      <td>59</td>\n      <td>Nurse</td>\n      <td>8.1</td>\n      <td>9</td>\n      <td>75</td>\n      <td>3</td>\n      <td>Overweight</td>\n      <td>68</td>\n      <td>7000</td>\n      <td>Sleep Apnea</td>\n      <td>140</td>\n      <td>95</td>\n    </tr>\n    <tr>\n      <th>372</th>\n      <td>0</td>\n      <td>59</td>\n      <td>Nurse</td>\n      <td>8.1</td>\n      <td>9</td>\n      <td>75</td>\n      <td>3</td>\n      <td>Overweight</td>\n      <td>68</td>\n      <td>7000</td>\n      <td>Sleep Apnea</td>\n      <td>140</td>\n      <td>95</td>\n    </tr>\n    <tr>\n      <th>373</th>\n      <td>0</td>\n      <td>59</td>\n      <td>Nurse</td>\n      <td>8.1</td>\n      <td>9</td>\n      <td>75</td>\n      <td>3</td>\n      <td>Overweight</td>\n      <td>68</td>\n      <td>7000</td>\n      <td>Sleep Apnea</td>\n      <td>140</td>\n      <td>95</td>\n    </tr>\n  </tbody>\n</table>\n<p>374 rows × 13 columns</p>\n</div>"
          },
          "metadata": {}
        }
      ]
    },
    {
      "cell_type": "markdown",
      "source": [
        "## **Class label's encoding**"
      ],
      "metadata": {
        "id": "wgmQLGYjn4Gb"
      }
    },
    {
      "cell_type": "markdown",
      "source": [
        "**As it was mentioned before, target value in this dataset have only three values, so they were encoded with values 0,1,2 using map() method of DataFrame object**"
      ],
      "metadata": {
        "id": "-xJbIpuVn4Gb"
      }
    },
    {
      "cell_type": "code",
      "source": [
        "df[df['Sleep Disorder']!=df['Sleep Disorder']]['Sleep Disorder']='None'\n",
        "class_mapping={'None':0,'Sleep Apnea':1,'Insomnia':2}\n",
        "df['Sleep Disorder']=df['Sleep Disorder'].map(class_mapping)\n",
        "display(df)"
      ],
      "metadata": {
        "execution": {
          "iopub.status.busy": "2024-02-13T14:25:23.486000Z",
          "iopub.execute_input": "2024-02-13T14:25:23.486587Z",
          "iopub.status.idle": "2024-02-13T14:25:23.513046Z",
          "shell.execute_reply.started": "2024-02-13T14:25:23.486559Z",
          "shell.execute_reply": "2024-02-13T14:25:23.512063Z"
        },
        "trusted": true,
        "id": "HEqLpblWn4Gb",
        "outputId": "6adf50a9-9e82-4ec2-e7ad-8a97f3180fec"
      },
      "execution_count": null,
      "outputs": [
        {
          "output_type": "display_data",
          "data": {
            "text/plain": "     Gender  Age            Occupation  Sleep Duration  Quality of Sleep  \\\n0         1   27     Software Engineer             6.1                 6   \n1         1   28                Doctor             6.2                 6   \n2         1   28                Doctor             6.2                 6   \n3         1   28  Sales Representative             5.9                 4   \n4         1   28  Sales Representative             5.9                 4   \n..      ...  ...                   ...             ...               ...   \n369       0   59                 Nurse             8.1                 9   \n370       0   59                 Nurse             8.0                 9   \n371       0   59                 Nurse             8.1                 9   \n372       0   59                 Nurse             8.1                 9   \n373       0   59                 Nurse             8.1                 9   \n\n     Physical Activity Level  Stress Level BMI Category  Heart Rate  \\\n0                         42             6   Overweight          77   \n1                         60             8       Normal          75   \n2                         60             8       Normal          75   \n3                         30             8        Obese          85   \n4                         30             8        Obese          85   \n..                       ...           ...          ...         ...   \n369                       75             3   Overweight          68   \n370                       75             3   Overweight          68   \n371                       75             3   Overweight          68   \n372                       75             3   Overweight          68   \n373                       75             3   Overweight          68   \n\n     Daily Steps  Sleep Disorder  Higher Pressure  Lower Pressure  \n0           4200             NaN              126              83  \n1          10000             NaN              125              80  \n2          10000             NaN              125              80  \n3           3000             1.0              140              90  \n4           3000             1.0              140              90  \n..           ...             ...              ...             ...  \n369         7000             1.0              140              95  \n370         7000             1.0              140              95  \n371         7000             1.0              140              95  \n372         7000             1.0              140              95  \n373         7000             1.0              140              95  \n\n[374 rows x 13 columns]",
            "text/html": "<div>\n<style scoped>\n    .dataframe tbody tr th:only-of-type {\n        vertical-align: middle;\n    }\n\n    .dataframe tbody tr th {\n        vertical-align: top;\n    }\n\n    .dataframe thead th {\n        text-align: right;\n    }\n</style>\n<table border=\"1\" class=\"dataframe\">\n  <thead>\n    <tr style=\"text-align: right;\">\n      <th></th>\n      <th>Gender</th>\n      <th>Age</th>\n      <th>Occupation</th>\n      <th>Sleep Duration</th>\n      <th>Quality of Sleep</th>\n      <th>Physical Activity Level</th>\n      <th>Stress Level</th>\n      <th>BMI Category</th>\n      <th>Heart Rate</th>\n      <th>Daily Steps</th>\n      <th>Sleep Disorder</th>\n      <th>Higher Pressure</th>\n      <th>Lower Pressure</th>\n    </tr>\n  </thead>\n  <tbody>\n    <tr>\n      <th>0</th>\n      <td>1</td>\n      <td>27</td>\n      <td>Software Engineer</td>\n      <td>6.1</td>\n      <td>6</td>\n      <td>42</td>\n      <td>6</td>\n      <td>Overweight</td>\n      <td>77</td>\n      <td>4200</td>\n      <td>NaN</td>\n      <td>126</td>\n      <td>83</td>\n    </tr>\n    <tr>\n      <th>1</th>\n      <td>1</td>\n      <td>28</td>\n      <td>Doctor</td>\n      <td>6.2</td>\n      <td>6</td>\n      <td>60</td>\n      <td>8</td>\n      <td>Normal</td>\n      <td>75</td>\n      <td>10000</td>\n      <td>NaN</td>\n      <td>125</td>\n      <td>80</td>\n    </tr>\n    <tr>\n      <th>2</th>\n      <td>1</td>\n      <td>28</td>\n      <td>Doctor</td>\n      <td>6.2</td>\n      <td>6</td>\n      <td>60</td>\n      <td>8</td>\n      <td>Normal</td>\n      <td>75</td>\n      <td>10000</td>\n      <td>NaN</td>\n      <td>125</td>\n      <td>80</td>\n    </tr>\n    <tr>\n      <th>3</th>\n      <td>1</td>\n      <td>28</td>\n      <td>Sales Representative</td>\n      <td>5.9</td>\n      <td>4</td>\n      <td>30</td>\n      <td>8</td>\n      <td>Obese</td>\n      <td>85</td>\n      <td>3000</td>\n      <td>1.0</td>\n      <td>140</td>\n      <td>90</td>\n    </tr>\n    <tr>\n      <th>4</th>\n      <td>1</td>\n      <td>28</td>\n      <td>Sales Representative</td>\n      <td>5.9</td>\n      <td>4</td>\n      <td>30</td>\n      <td>8</td>\n      <td>Obese</td>\n      <td>85</td>\n      <td>3000</td>\n      <td>1.0</td>\n      <td>140</td>\n      <td>90</td>\n    </tr>\n    <tr>\n      <th>...</th>\n      <td>...</td>\n      <td>...</td>\n      <td>...</td>\n      <td>...</td>\n      <td>...</td>\n      <td>...</td>\n      <td>...</td>\n      <td>...</td>\n      <td>...</td>\n      <td>...</td>\n      <td>...</td>\n      <td>...</td>\n      <td>...</td>\n    </tr>\n    <tr>\n      <th>369</th>\n      <td>0</td>\n      <td>59</td>\n      <td>Nurse</td>\n      <td>8.1</td>\n      <td>9</td>\n      <td>75</td>\n      <td>3</td>\n      <td>Overweight</td>\n      <td>68</td>\n      <td>7000</td>\n      <td>1.0</td>\n      <td>140</td>\n      <td>95</td>\n    </tr>\n    <tr>\n      <th>370</th>\n      <td>0</td>\n      <td>59</td>\n      <td>Nurse</td>\n      <td>8.0</td>\n      <td>9</td>\n      <td>75</td>\n      <td>3</td>\n      <td>Overweight</td>\n      <td>68</td>\n      <td>7000</td>\n      <td>1.0</td>\n      <td>140</td>\n      <td>95</td>\n    </tr>\n    <tr>\n      <th>371</th>\n      <td>0</td>\n      <td>59</td>\n      <td>Nurse</td>\n      <td>8.1</td>\n      <td>9</td>\n      <td>75</td>\n      <td>3</td>\n      <td>Overweight</td>\n      <td>68</td>\n      <td>7000</td>\n      <td>1.0</td>\n      <td>140</td>\n      <td>95</td>\n    </tr>\n    <tr>\n      <th>372</th>\n      <td>0</td>\n      <td>59</td>\n      <td>Nurse</td>\n      <td>8.1</td>\n      <td>9</td>\n      <td>75</td>\n      <td>3</td>\n      <td>Overweight</td>\n      <td>68</td>\n      <td>7000</td>\n      <td>1.0</td>\n      <td>140</td>\n      <td>95</td>\n    </tr>\n    <tr>\n      <th>373</th>\n      <td>0</td>\n      <td>59</td>\n      <td>Nurse</td>\n      <td>8.1</td>\n      <td>9</td>\n      <td>75</td>\n      <td>3</td>\n      <td>Overweight</td>\n      <td>68</td>\n      <td>7000</td>\n      <td>1.0</td>\n      <td>140</td>\n      <td>95</td>\n    </tr>\n  </tbody>\n</table>\n<p>374 rows × 13 columns</p>\n</div>"
          },
          "metadata": {}
        }
      ]
    },
    {
      "cell_type": "markdown",
      "source": [
        "## **Processing order feature**"
      ],
      "metadata": {
        "id": "7Kmpxcckn4Gb"
      }
    },
    {
      "cell_type": "markdown",
      "source": [
        "**In order, to cope with categorical feature 'BMI Category',first of all, were equalizide values 'Normal Weight' and 'Normal', as long as, obviously, they are equal, by setting value 'Normal Weight' equal to 'Normal', then were created 2 new binary features: 'BMI > Normal', which indicates, that value of category is 'Overweight' or 'Obese', and 'BMI > Overweight', that indicates that value of category is 'Obese'**"
      ],
      "metadata": {
        "id": "4UEDugmRn4Gb"
      }
    },
    {
      "cell_type": "code",
      "source": [
        "df[df['BMI Category']==\"Normal Weight\"]['BMI Category']='Normal'\n",
        "df['BMI > Normal']=df['BMI Category'].apply(lambda x: 1 if x in {'Overweight','Obese'} else 0)\n",
        "df['BMI > Overweight']=df['BMI Category'].apply(lambda x: 1 if x in {'Obese'} else 0)\n",
        "df=df.drop(['BMI Category'],axis=1)\n",
        "display(df)"
      ],
      "metadata": {
        "execution": {
          "iopub.status.busy": "2024-02-13T14:25:23.514131Z",
          "iopub.execute_input": "2024-02-13T14:25:23.514793Z",
          "iopub.status.idle": "2024-02-13T14:25:23.539831Z",
          "shell.execute_reply.started": "2024-02-13T14:25:23.514765Z",
          "shell.execute_reply": "2024-02-13T14:25:23.538826Z"
        },
        "trusted": true,
        "id": "EcQCMjabn4Gb",
        "outputId": "f48c52c8-e6ef-4205-a71f-48afa8cbfc77"
      },
      "execution_count": null,
      "outputs": [
        {
          "output_type": "display_data",
          "data": {
            "text/plain": "     Gender  Age            Occupation  Sleep Duration  Quality of Sleep  \\\n0         1   27     Software Engineer             6.1                 6   \n1         1   28                Doctor             6.2                 6   \n2         1   28                Doctor             6.2                 6   \n3         1   28  Sales Representative             5.9                 4   \n4         1   28  Sales Representative             5.9                 4   \n..      ...  ...                   ...             ...               ...   \n369       0   59                 Nurse             8.1                 9   \n370       0   59                 Nurse             8.0                 9   \n371       0   59                 Nurse             8.1                 9   \n372       0   59                 Nurse             8.1                 9   \n373       0   59                 Nurse             8.1                 9   \n\n     Physical Activity Level  Stress Level  Heart Rate  Daily Steps  \\\n0                         42             6          77         4200   \n1                         60             8          75        10000   \n2                         60             8          75        10000   \n3                         30             8          85         3000   \n4                         30             8          85         3000   \n..                       ...           ...         ...          ...   \n369                       75             3          68         7000   \n370                       75             3          68         7000   \n371                       75             3          68         7000   \n372                       75             3          68         7000   \n373                       75             3          68         7000   \n\n     Sleep Disorder  Higher Pressure  Lower Pressure  BMI > Normal  \\\n0               NaN              126              83             1   \n1               NaN              125              80             0   \n2               NaN              125              80             0   \n3               1.0              140              90             1   \n4               1.0              140              90             1   \n..              ...              ...             ...           ...   \n369             1.0              140              95             1   \n370             1.0              140              95             1   \n371             1.0              140              95             1   \n372             1.0              140              95             1   \n373             1.0              140              95             1   \n\n     BMI > Overweight  \n0                   0  \n1                   0  \n2                   0  \n3                   1  \n4                   1  \n..                ...  \n369                 0  \n370                 0  \n371                 0  \n372                 0  \n373                 0  \n\n[374 rows x 14 columns]",
            "text/html": "<div>\n<style scoped>\n    .dataframe tbody tr th:only-of-type {\n        vertical-align: middle;\n    }\n\n    .dataframe tbody tr th {\n        vertical-align: top;\n    }\n\n    .dataframe thead th {\n        text-align: right;\n    }\n</style>\n<table border=\"1\" class=\"dataframe\">\n  <thead>\n    <tr style=\"text-align: right;\">\n      <th></th>\n      <th>Gender</th>\n      <th>Age</th>\n      <th>Occupation</th>\n      <th>Sleep Duration</th>\n      <th>Quality of Sleep</th>\n      <th>Physical Activity Level</th>\n      <th>Stress Level</th>\n      <th>Heart Rate</th>\n      <th>Daily Steps</th>\n      <th>Sleep Disorder</th>\n      <th>Higher Pressure</th>\n      <th>Lower Pressure</th>\n      <th>BMI &gt; Normal</th>\n      <th>BMI &gt; Overweight</th>\n    </tr>\n  </thead>\n  <tbody>\n    <tr>\n      <th>0</th>\n      <td>1</td>\n      <td>27</td>\n      <td>Software Engineer</td>\n      <td>6.1</td>\n      <td>6</td>\n      <td>42</td>\n      <td>6</td>\n      <td>77</td>\n      <td>4200</td>\n      <td>NaN</td>\n      <td>126</td>\n      <td>83</td>\n      <td>1</td>\n      <td>0</td>\n    </tr>\n    <tr>\n      <th>1</th>\n      <td>1</td>\n      <td>28</td>\n      <td>Doctor</td>\n      <td>6.2</td>\n      <td>6</td>\n      <td>60</td>\n      <td>8</td>\n      <td>75</td>\n      <td>10000</td>\n      <td>NaN</td>\n      <td>125</td>\n      <td>80</td>\n      <td>0</td>\n      <td>0</td>\n    </tr>\n    <tr>\n      <th>2</th>\n      <td>1</td>\n      <td>28</td>\n      <td>Doctor</td>\n      <td>6.2</td>\n      <td>6</td>\n      <td>60</td>\n      <td>8</td>\n      <td>75</td>\n      <td>10000</td>\n      <td>NaN</td>\n      <td>125</td>\n      <td>80</td>\n      <td>0</td>\n      <td>0</td>\n    </tr>\n    <tr>\n      <th>3</th>\n      <td>1</td>\n      <td>28</td>\n      <td>Sales Representative</td>\n      <td>5.9</td>\n      <td>4</td>\n      <td>30</td>\n      <td>8</td>\n      <td>85</td>\n      <td>3000</td>\n      <td>1.0</td>\n      <td>140</td>\n      <td>90</td>\n      <td>1</td>\n      <td>1</td>\n    </tr>\n    <tr>\n      <th>4</th>\n      <td>1</td>\n      <td>28</td>\n      <td>Sales Representative</td>\n      <td>5.9</td>\n      <td>4</td>\n      <td>30</td>\n      <td>8</td>\n      <td>85</td>\n      <td>3000</td>\n      <td>1.0</td>\n      <td>140</td>\n      <td>90</td>\n      <td>1</td>\n      <td>1</td>\n    </tr>\n    <tr>\n      <th>...</th>\n      <td>...</td>\n      <td>...</td>\n      <td>...</td>\n      <td>...</td>\n      <td>...</td>\n      <td>...</td>\n      <td>...</td>\n      <td>...</td>\n      <td>...</td>\n      <td>...</td>\n      <td>...</td>\n      <td>...</td>\n      <td>...</td>\n      <td>...</td>\n    </tr>\n    <tr>\n      <th>369</th>\n      <td>0</td>\n      <td>59</td>\n      <td>Nurse</td>\n      <td>8.1</td>\n      <td>9</td>\n      <td>75</td>\n      <td>3</td>\n      <td>68</td>\n      <td>7000</td>\n      <td>1.0</td>\n      <td>140</td>\n      <td>95</td>\n      <td>1</td>\n      <td>0</td>\n    </tr>\n    <tr>\n      <th>370</th>\n      <td>0</td>\n      <td>59</td>\n      <td>Nurse</td>\n      <td>8.0</td>\n      <td>9</td>\n      <td>75</td>\n      <td>3</td>\n      <td>68</td>\n      <td>7000</td>\n      <td>1.0</td>\n      <td>140</td>\n      <td>95</td>\n      <td>1</td>\n      <td>0</td>\n    </tr>\n    <tr>\n      <th>371</th>\n      <td>0</td>\n      <td>59</td>\n      <td>Nurse</td>\n      <td>8.1</td>\n      <td>9</td>\n      <td>75</td>\n      <td>3</td>\n      <td>68</td>\n      <td>7000</td>\n      <td>1.0</td>\n      <td>140</td>\n      <td>95</td>\n      <td>1</td>\n      <td>0</td>\n    </tr>\n    <tr>\n      <th>372</th>\n      <td>0</td>\n      <td>59</td>\n      <td>Nurse</td>\n      <td>8.1</td>\n      <td>9</td>\n      <td>75</td>\n      <td>3</td>\n      <td>68</td>\n      <td>7000</td>\n      <td>1.0</td>\n      <td>140</td>\n      <td>95</td>\n      <td>1</td>\n      <td>0</td>\n    </tr>\n    <tr>\n      <th>373</th>\n      <td>0</td>\n      <td>59</td>\n      <td>Nurse</td>\n      <td>8.1</td>\n      <td>9</td>\n      <td>75</td>\n      <td>3</td>\n      <td>68</td>\n      <td>7000</td>\n      <td>1.0</td>\n      <td>140</td>\n      <td>95</td>\n      <td>1</td>\n      <td>0</td>\n    </tr>\n  </tbody>\n</table>\n<p>374 rows × 14 columns</p>\n</div>"
          },
          "metadata": {}
        }
      ]
    },
    {
      "cell_type": "markdown",
      "source": [
        "## **Processing nominal feature**"
      ],
      "metadata": {
        "id": "mMzNx1Tfn4Gc"
      }
    },
    {
      "cell_type": "markdown",
      "source": [
        "**To cope with nominal feature 'Occupation', simply was used pd.get_dummies() method, which switched 'Occupation' feature with several binary featureі, corresponding to each unique value of feature**"
      ],
      "metadata": {
        "id": "BqyTa44Bn4Gc"
      }
    },
    {
      "cell_type": "code",
      "source": [
        "cols=df.columns\n",
        "df=pd.get_dummies(df,dtype='int64')\n",
        "display(df)"
      ],
      "metadata": {
        "execution": {
          "iopub.status.busy": "2024-02-13T14:25:23.541247Z",
          "iopub.execute_input": "2024-02-13T14:25:23.541606Z",
          "iopub.status.idle": "2024-02-13T14:25:23.576315Z",
          "shell.execute_reply.started": "2024-02-13T14:25:23.541572Z",
          "shell.execute_reply": "2024-02-13T14:25:23.575315Z"
        },
        "trusted": true,
        "id": "_wKxSWlmn4Gc",
        "outputId": "577ace67-1e75-443a-e912-2b139de84e3b"
      },
      "execution_count": null,
      "outputs": [
        {
          "output_type": "display_data",
          "data": {
            "text/plain": "     Gender  Age  Sleep Duration  Quality of Sleep  Physical Activity Level  \\\n0         1   27             6.1                 6                       42   \n1         1   28             6.2                 6                       60   \n2         1   28             6.2                 6                       60   \n3         1   28             5.9                 4                       30   \n4         1   28             5.9                 4                       30   \n..      ...  ...             ...               ...                      ...   \n369       0   59             8.1                 9                       75   \n370       0   59             8.0                 9                       75   \n371       0   59             8.1                 9                       75   \n372       0   59             8.1                 9                       75   \n373       0   59             8.1                 9                       75   \n\n     Stress Level  Heart Rate  Daily Steps  Sleep Disorder  Higher Pressure  \\\n0               6          77         4200             NaN              126   \n1               8          75        10000             NaN              125   \n2               8          75        10000             NaN              125   \n3               8          85         3000             1.0              140   \n4               8          85         3000             1.0              140   \n..            ...         ...          ...             ...              ...   \n369             3          68         7000             1.0              140   \n370             3          68         7000             1.0              140   \n371             3          68         7000             1.0              140   \n372             3          68         7000             1.0              140   \n373             3          68         7000             1.0              140   \n\n     ...  Occupation_Doctor  Occupation_Engineer  Occupation_Lawyer  \\\n0    ...                  0                    0                  0   \n1    ...                  1                    0                  0   \n2    ...                  1                    0                  0   \n3    ...                  0                    0                  0   \n4    ...                  0                    0                  0   \n..   ...                ...                  ...                ...   \n369  ...                  0                    0                  0   \n370  ...                  0                    0                  0   \n371  ...                  0                    0                  0   \n372  ...                  0                    0                  0   \n373  ...                  0                    0                  0   \n\n     Occupation_Manager  Occupation_Nurse  Occupation_Sales Representative  \\\n0                     0                 0                                0   \n1                     0                 0                                0   \n2                     0                 0                                0   \n3                     0                 0                                1   \n4                     0                 0                                1   \n..                  ...               ...                              ...   \n369                   0                 1                                0   \n370                   0                 1                                0   \n371                   0                 1                                0   \n372                   0                 1                                0   \n373                   0                 1                                0   \n\n     Occupation_Salesperson  Occupation_Scientist  \\\n0                         0                     0   \n1                         0                     0   \n2                         0                     0   \n3                         0                     0   \n4                         0                     0   \n..                      ...                   ...   \n369                       0                     0   \n370                       0                     0   \n371                       0                     0   \n372                       0                     0   \n373                       0                     0   \n\n     Occupation_Software Engineer  Occupation_Teacher  \n0                               1                   0  \n1                               0                   0  \n2                               0                   0  \n3                               0                   0  \n4                               0                   0  \n..                            ...                 ...  \n369                             0                   0  \n370                             0                   0  \n371                             0                   0  \n372                             0                   0  \n373                             0                   0  \n\n[374 rows x 24 columns]",
            "text/html": "<div>\n<style scoped>\n    .dataframe tbody tr th:only-of-type {\n        vertical-align: middle;\n    }\n\n    .dataframe tbody tr th {\n        vertical-align: top;\n    }\n\n    .dataframe thead th {\n        text-align: right;\n    }\n</style>\n<table border=\"1\" class=\"dataframe\">\n  <thead>\n    <tr style=\"text-align: right;\">\n      <th></th>\n      <th>Gender</th>\n      <th>Age</th>\n      <th>Sleep Duration</th>\n      <th>Quality of Sleep</th>\n      <th>Physical Activity Level</th>\n      <th>Stress Level</th>\n      <th>Heart Rate</th>\n      <th>Daily Steps</th>\n      <th>Sleep Disorder</th>\n      <th>Higher Pressure</th>\n      <th>...</th>\n      <th>Occupation_Doctor</th>\n      <th>Occupation_Engineer</th>\n      <th>Occupation_Lawyer</th>\n      <th>Occupation_Manager</th>\n      <th>Occupation_Nurse</th>\n      <th>Occupation_Sales Representative</th>\n      <th>Occupation_Salesperson</th>\n      <th>Occupation_Scientist</th>\n      <th>Occupation_Software Engineer</th>\n      <th>Occupation_Teacher</th>\n    </tr>\n  </thead>\n  <tbody>\n    <tr>\n      <th>0</th>\n      <td>1</td>\n      <td>27</td>\n      <td>6.1</td>\n      <td>6</td>\n      <td>42</td>\n      <td>6</td>\n      <td>77</td>\n      <td>4200</td>\n      <td>NaN</td>\n      <td>126</td>\n      <td>...</td>\n      <td>0</td>\n      <td>0</td>\n      <td>0</td>\n      <td>0</td>\n      <td>0</td>\n      <td>0</td>\n      <td>0</td>\n      <td>0</td>\n      <td>1</td>\n      <td>0</td>\n    </tr>\n    <tr>\n      <th>1</th>\n      <td>1</td>\n      <td>28</td>\n      <td>6.2</td>\n      <td>6</td>\n      <td>60</td>\n      <td>8</td>\n      <td>75</td>\n      <td>10000</td>\n      <td>NaN</td>\n      <td>125</td>\n      <td>...</td>\n      <td>1</td>\n      <td>0</td>\n      <td>0</td>\n      <td>0</td>\n      <td>0</td>\n      <td>0</td>\n      <td>0</td>\n      <td>0</td>\n      <td>0</td>\n      <td>0</td>\n    </tr>\n    <tr>\n      <th>2</th>\n      <td>1</td>\n      <td>28</td>\n      <td>6.2</td>\n      <td>6</td>\n      <td>60</td>\n      <td>8</td>\n      <td>75</td>\n      <td>10000</td>\n      <td>NaN</td>\n      <td>125</td>\n      <td>...</td>\n      <td>1</td>\n      <td>0</td>\n      <td>0</td>\n      <td>0</td>\n      <td>0</td>\n      <td>0</td>\n      <td>0</td>\n      <td>0</td>\n      <td>0</td>\n      <td>0</td>\n    </tr>\n    <tr>\n      <th>3</th>\n      <td>1</td>\n      <td>28</td>\n      <td>5.9</td>\n      <td>4</td>\n      <td>30</td>\n      <td>8</td>\n      <td>85</td>\n      <td>3000</td>\n      <td>1.0</td>\n      <td>140</td>\n      <td>...</td>\n      <td>0</td>\n      <td>0</td>\n      <td>0</td>\n      <td>0</td>\n      <td>0</td>\n      <td>1</td>\n      <td>0</td>\n      <td>0</td>\n      <td>0</td>\n      <td>0</td>\n    </tr>\n    <tr>\n      <th>4</th>\n      <td>1</td>\n      <td>28</td>\n      <td>5.9</td>\n      <td>4</td>\n      <td>30</td>\n      <td>8</td>\n      <td>85</td>\n      <td>3000</td>\n      <td>1.0</td>\n      <td>140</td>\n      <td>...</td>\n      <td>0</td>\n      <td>0</td>\n      <td>0</td>\n      <td>0</td>\n      <td>0</td>\n      <td>1</td>\n      <td>0</td>\n      <td>0</td>\n      <td>0</td>\n      <td>0</td>\n    </tr>\n    <tr>\n      <th>...</th>\n      <td>...</td>\n      <td>...</td>\n      <td>...</td>\n      <td>...</td>\n      <td>...</td>\n      <td>...</td>\n      <td>...</td>\n      <td>...</td>\n      <td>...</td>\n      <td>...</td>\n      <td>...</td>\n      <td>...</td>\n      <td>...</td>\n      <td>...</td>\n      <td>...</td>\n      <td>...</td>\n      <td>...</td>\n      <td>...</td>\n      <td>...</td>\n      <td>...</td>\n      <td>...</td>\n    </tr>\n    <tr>\n      <th>369</th>\n      <td>0</td>\n      <td>59</td>\n      <td>8.1</td>\n      <td>9</td>\n      <td>75</td>\n      <td>3</td>\n      <td>68</td>\n      <td>7000</td>\n      <td>1.0</td>\n      <td>140</td>\n      <td>...</td>\n      <td>0</td>\n      <td>0</td>\n      <td>0</td>\n      <td>0</td>\n      <td>1</td>\n      <td>0</td>\n      <td>0</td>\n      <td>0</td>\n      <td>0</td>\n      <td>0</td>\n    </tr>\n    <tr>\n      <th>370</th>\n      <td>0</td>\n      <td>59</td>\n      <td>8.0</td>\n      <td>9</td>\n      <td>75</td>\n      <td>3</td>\n      <td>68</td>\n      <td>7000</td>\n      <td>1.0</td>\n      <td>140</td>\n      <td>...</td>\n      <td>0</td>\n      <td>0</td>\n      <td>0</td>\n      <td>0</td>\n      <td>1</td>\n      <td>0</td>\n      <td>0</td>\n      <td>0</td>\n      <td>0</td>\n      <td>0</td>\n    </tr>\n    <tr>\n      <th>371</th>\n      <td>0</td>\n      <td>59</td>\n      <td>8.1</td>\n      <td>9</td>\n      <td>75</td>\n      <td>3</td>\n      <td>68</td>\n      <td>7000</td>\n      <td>1.0</td>\n      <td>140</td>\n      <td>...</td>\n      <td>0</td>\n      <td>0</td>\n      <td>0</td>\n      <td>0</td>\n      <td>1</td>\n      <td>0</td>\n      <td>0</td>\n      <td>0</td>\n      <td>0</td>\n      <td>0</td>\n    </tr>\n    <tr>\n      <th>372</th>\n      <td>0</td>\n      <td>59</td>\n      <td>8.1</td>\n      <td>9</td>\n      <td>75</td>\n      <td>3</td>\n      <td>68</td>\n      <td>7000</td>\n      <td>1.0</td>\n      <td>140</td>\n      <td>...</td>\n      <td>0</td>\n      <td>0</td>\n      <td>0</td>\n      <td>0</td>\n      <td>1</td>\n      <td>0</td>\n      <td>0</td>\n      <td>0</td>\n      <td>0</td>\n      <td>0</td>\n    </tr>\n    <tr>\n      <th>373</th>\n      <td>0</td>\n      <td>59</td>\n      <td>8.1</td>\n      <td>9</td>\n      <td>75</td>\n      <td>3</td>\n      <td>68</td>\n      <td>7000</td>\n      <td>1.0</td>\n      <td>140</td>\n      <td>...</td>\n      <td>0</td>\n      <td>0</td>\n      <td>0</td>\n      <td>0</td>\n      <td>1</td>\n      <td>0</td>\n      <td>0</td>\n      <td>0</td>\n      <td>0</td>\n      <td>0</td>\n    </tr>\n  </tbody>\n</table>\n<p>374 rows × 24 columns</p>\n</div>"
          },
          "metadata": {}
        }
      ]
    },
    {
      "cell_type": "markdown",
      "source": [
        "## **Analyzing final DataFrame**"
      ],
      "metadata": {
        "id": "j49LcvfKn4Gd"
      }
    },
    {
      "cell_type": "code",
      "source": [
        "df.info()"
      ],
      "metadata": {
        "execution": {
          "iopub.status.busy": "2024-02-13T14:25:23.580195Z",
          "iopub.execute_input": "2024-02-13T14:25:23.580789Z",
          "iopub.status.idle": "2024-02-13T14:25:23.593382Z",
          "shell.execute_reply.started": "2024-02-13T14:25:23.580757Z",
          "shell.execute_reply": "2024-02-13T14:25:23.592387Z"
        },
        "trusted": true,
        "id": "aPTK7HY-n4Gd",
        "outputId": "384d1725-5953-4f04-bfa5-361d3546c4b6"
      },
      "execution_count": null,
      "outputs": [
        {
          "name": "stdout",
          "text": "<class 'pandas.core.frame.DataFrame'>\nRangeIndex: 374 entries, 0 to 373\nData columns (total 24 columns):\n #   Column                           Non-Null Count  Dtype  \n---  ------                           --------------  -----  \n 0   Gender                           374 non-null    int64  \n 1   Age                              374 non-null    int64  \n 2   Sleep Duration                   374 non-null    float64\n 3   Quality of Sleep                 374 non-null    int64  \n 4   Physical Activity Level          374 non-null    int64  \n 5   Stress Level                     374 non-null    int64  \n 6   Heart Rate                       374 non-null    int64  \n 7   Daily Steps                      374 non-null    int64  \n 8   Sleep Disorder                   155 non-null    float64\n 9   Higher Pressure                  374 non-null    int64  \n 10  Lower Pressure                   374 non-null    int64  \n 11  BMI > Normal                     374 non-null    int64  \n 12  BMI > Overweight                 374 non-null    int64  \n 13  Occupation_Accountant            374 non-null    int64  \n 14  Occupation_Doctor                374 non-null    int64  \n 15  Occupation_Engineer              374 non-null    int64  \n 16  Occupation_Lawyer                374 non-null    int64  \n 17  Occupation_Manager               374 non-null    int64  \n 18  Occupation_Nurse                 374 non-null    int64  \n 19  Occupation_Sales Representative  374 non-null    int64  \n 20  Occupation_Salesperson           374 non-null    int64  \n 21  Occupation_Scientist             374 non-null    int64  \n 22  Occupation_Software Engineer     374 non-null    int64  \n 23  Occupation_Teacher               374 non-null    int64  \ndtypes: float64(2), int64(22)\nmemory usage: 70.2 KB\n",
          "output_type": "stream"
        }
      ]
    },
    {
      "cell_type": "markdown",
      "source": [
        "# **Processing missed values**"
      ],
      "metadata": {
        "id": "EzCZ4tl6n4Gd"
      }
    },
    {
      "cell_type": "markdown",
      "source": [
        "## **For a task of filling missed values was chosen 'Credit Risk Dataset' from Kaggle: https://www.kaggle.com/datasets/laotse/credit-risk-dataset**"
      ],
      "metadata": {
        "id": "bcl6mYUon4Gd"
      }
    },
    {
      "cell_type": "markdown",
      "source": [
        "## **Analyzing dataset with respect to missing values, and making all necessary processing, which will be necessary for further tasks**"
      ],
      "metadata": {
        "id": "YaQA13Uqn4Gd"
      }
    },
    {
      "cell_type": "markdown",
      "source": [
        "**While analyzing dataset, it was discovered, that it have only 2 columns with missing values, ant that both of this features - numeric. Also it was discovered, that in this dataset several features with categorical values, which were encoded almost in the same way, as it was in previous task, and that this dataset is for binary classification task, where classes are imbalanced, so it makes sense to use F1-score as a measure, for evaluating quality of imputers in future.**"
      ],
      "metadata": {
        "id": "lDyXkxGen4Gd"
      }
    },
    {
      "cell_type": "code",
      "source": [
        "df=pd.read_csv('/kaggle/input/credit-risk-dataset/credit_risk_dataset.csv')\n",
        "display(df)"
      ],
      "metadata": {
        "execution": {
          "iopub.status.busy": "2024-02-13T14:25:23.594838Z",
          "iopub.execute_input": "2024-02-13T14:25:23.595385Z",
          "iopub.status.idle": "2024-02-13T14:25:23.700313Z",
          "shell.execute_reply.started": "2024-02-13T14:25:23.595347Z",
          "shell.execute_reply": "2024-02-13T14:25:23.699118Z"
        },
        "trusted": true,
        "id": "VpbtWlUGn4Gd",
        "outputId": "fe51c254-42ee-499c-f719-60a8f90d8209"
      },
      "execution_count": null,
      "outputs": [
        {
          "output_type": "display_data",
          "data": {
            "text/plain": "       person_age  person_income person_home_ownership  person_emp_length  \\\n0              22          59000                  RENT              123.0   \n1              21           9600                   OWN                5.0   \n2              25           9600              MORTGAGE                1.0   \n3              23          65500                  RENT                4.0   \n4              24          54400                  RENT                8.0   \n...           ...            ...                   ...                ...   \n32576          57          53000              MORTGAGE                1.0   \n32577          54         120000              MORTGAGE                4.0   \n32578          65          76000                  RENT                3.0   \n32579          56         150000              MORTGAGE                5.0   \n32580          66          42000                  RENT                2.0   \n\n           loan_intent loan_grade  loan_amnt  loan_int_rate  loan_status  \\\n0             PERSONAL          D      35000          16.02            1   \n1            EDUCATION          B       1000          11.14            0   \n2              MEDICAL          C       5500          12.87            1   \n3              MEDICAL          C      35000          15.23            1   \n4              MEDICAL          C      35000          14.27            1   \n...                ...        ...        ...            ...          ...   \n32576         PERSONAL          C       5800          13.16            0   \n32577         PERSONAL          A      17625           7.49            0   \n32578  HOMEIMPROVEMENT          B      35000          10.99            1   \n32579         PERSONAL          B      15000          11.48            0   \n32580          MEDICAL          B       6475           9.99            0   \n\n       loan_percent_income cb_person_default_on_file  \\\n0                     0.59                         Y   \n1                     0.10                         N   \n2                     0.57                         N   \n3                     0.53                         N   \n4                     0.55                         Y   \n...                    ...                       ...   \n32576                 0.11                         N   \n32577                 0.15                         N   \n32578                 0.46                         N   \n32579                 0.10                         N   \n32580                 0.15                         N   \n\n       cb_person_cred_hist_length  \n0                               3  \n1                               2  \n2                               3  \n3                               2  \n4                               4  \n...                           ...  \n32576                          30  \n32577                          19  \n32578                          28  \n32579                          26  \n32580                          30  \n\n[32581 rows x 12 columns]",
            "text/html": "<div>\n<style scoped>\n    .dataframe tbody tr th:only-of-type {\n        vertical-align: middle;\n    }\n\n    .dataframe tbody tr th {\n        vertical-align: top;\n    }\n\n    .dataframe thead th {\n        text-align: right;\n    }\n</style>\n<table border=\"1\" class=\"dataframe\">\n  <thead>\n    <tr style=\"text-align: right;\">\n      <th></th>\n      <th>person_age</th>\n      <th>person_income</th>\n      <th>person_home_ownership</th>\n      <th>person_emp_length</th>\n      <th>loan_intent</th>\n      <th>loan_grade</th>\n      <th>loan_amnt</th>\n      <th>loan_int_rate</th>\n      <th>loan_status</th>\n      <th>loan_percent_income</th>\n      <th>cb_person_default_on_file</th>\n      <th>cb_person_cred_hist_length</th>\n    </tr>\n  </thead>\n  <tbody>\n    <tr>\n      <th>0</th>\n      <td>22</td>\n      <td>59000</td>\n      <td>RENT</td>\n      <td>123.0</td>\n      <td>PERSONAL</td>\n      <td>D</td>\n      <td>35000</td>\n      <td>16.02</td>\n      <td>1</td>\n      <td>0.59</td>\n      <td>Y</td>\n      <td>3</td>\n    </tr>\n    <tr>\n      <th>1</th>\n      <td>21</td>\n      <td>9600</td>\n      <td>OWN</td>\n      <td>5.0</td>\n      <td>EDUCATION</td>\n      <td>B</td>\n      <td>1000</td>\n      <td>11.14</td>\n      <td>0</td>\n      <td>0.10</td>\n      <td>N</td>\n      <td>2</td>\n    </tr>\n    <tr>\n      <th>2</th>\n      <td>25</td>\n      <td>9600</td>\n      <td>MORTGAGE</td>\n      <td>1.0</td>\n      <td>MEDICAL</td>\n      <td>C</td>\n      <td>5500</td>\n      <td>12.87</td>\n      <td>1</td>\n      <td>0.57</td>\n      <td>N</td>\n      <td>3</td>\n    </tr>\n    <tr>\n      <th>3</th>\n      <td>23</td>\n      <td>65500</td>\n      <td>RENT</td>\n      <td>4.0</td>\n      <td>MEDICAL</td>\n      <td>C</td>\n      <td>35000</td>\n      <td>15.23</td>\n      <td>1</td>\n      <td>0.53</td>\n      <td>N</td>\n      <td>2</td>\n    </tr>\n    <tr>\n      <th>4</th>\n      <td>24</td>\n      <td>54400</td>\n      <td>RENT</td>\n      <td>8.0</td>\n      <td>MEDICAL</td>\n      <td>C</td>\n      <td>35000</td>\n      <td>14.27</td>\n      <td>1</td>\n      <td>0.55</td>\n      <td>Y</td>\n      <td>4</td>\n    </tr>\n    <tr>\n      <th>...</th>\n      <td>...</td>\n      <td>...</td>\n      <td>...</td>\n      <td>...</td>\n      <td>...</td>\n      <td>...</td>\n      <td>...</td>\n      <td>...</td>\n      <td>...</td>\n      <td>...</td>\n      <td>...</td>\n      <td>...</td>\n    </tr>\n    <tr>\n      <th>32576</th>\n      <td>57</td>\n      <td>53000</td>\n      <td>MORTGAGE</td>\n      <td>1.0</td>\n      <td>PERSONAL</td>\n      <td>C</td>\n      <td>5800</td>\n      <td>13.16</td>\n      <td>0</td>\n      <td>0.11</td>\n      <td>N</td>\n      <td>30</td>\n    </tr>\n    <tr>\n      <th>32577</th>\n      <td>54</td>\n      <td>120000</td>\n      <td>MORTGAGE</td>\n      <td>4.0</td>\n      <td>PERSONAL</td>\n      <td>A</td>\n      <td>17625</td>\n      <td>7.49</td>\n      <td>0</td>\n      <td>0.15</td>\n      <td>N</td>\n      <td>19</td>\n    </tr>\n    <tr>\n      <th>32578</th>\n      <td>65</td>\n      <td>76000</td>\n      <td>RENT</td>\n      <td>3.0</td>\n      <td>HOMEIMPROVEMENT</td>\n      <td>B</td>\n      <td>35000</td>\n      <td>10.99</td>\n      <td>1</td>\n      <td>0.46</td>\n      <td>N</td>\n      <td>28</td>\n    </tr>\n    <tr>\n      <th>32579</th>\n      <td>56</td>\n      <td>150000</td>\n      <td>MORTGAGE</td>\n      <td>5.0</td>\n      <td>PERSONAL</td>\n      <td>B</td>\n      <td>15000</td>\n      <td>11.48</td>\n      <td>0</td>\n      <td>0.10</td>\n      <td>N</td>\n      <td>26</td>\n    </tr>\n    <tr>\n      <th>32580</th>\n      <td>66</td>\n      <td>42000</td>\n      <td>RENT</td>\n      <td>2.0</td>\n      <td>MEDICAL</td>\n      <td>B</td>\n      <td>6475</td>\n      <td>9.99</td>\n      <td>0</td>\n      <td>0.15</td>\n      <td>N</td>\n      <td>30</td>\n    </tr>\n  </tbody>\n</table>\n<p>32581 rows × 12 columns</p>\n</div>"
          },
          "metadata": {}
        }
      ]
    },
    {
      "cell_type": "code",
      "source": [
        "df.info()"
      ],
      "metadata": {
        "execution": {
          "iopub.status.busy": "2024-02-13T14:25:23.701900Z",
          "iopub.execute_input": "2024-02-13T14:25:23.702274Z",
          "iopub.status.idle": "2024-02-13T14:25:23.728078Z",
          "shell.execute_reply.started": "2024-02-13T14:25:23.702242Z",
          "shell.execute_reply": "2024-02-13T14:25:23.726993Z"
        },
        "trusted": true,
        "id": "w0Q-3vRvn4Ge",
        "outputId": "aa8cf9ae-ed3c-4cdd-9c5b-e4833a4bb4e6"
      },
      "execution_count": null,
      "outputs": [
        {
          "name": "stdout",
          "text": "<class 'pandas.core.frame.DataFrame'>\nRangeIndex: 32581 entries, 0 to 32580\nData columns (total 12 columns):\n #   Column                      Non-Null Count  Dtype  \n---  ------                      --------------  -----  \n 0   person_age                  32581 non-null  int64  \n 1   person_income               32581 non-null  int64  \n 2   person_home_ownership       32581 non-null  object \n 3   person_emp_length           31686 non-null  float64\n 4   loan_intent                 32581 non-null  object \n 5   loan_grade                  32581 non-null  object \n 6   loan_amnt                   32581 non-null  int64  \n 7   loan_int_rate               29465 non-null  float64\n 8   loan_status                 32581 non-null  int64  \n 9   loan_percent_income         32581 non-null  float64\n 10  cb_person_default_on_file   32581 non-null  object \n 11  cb_person_cred_hist_length  32581 non-null  int64  \ndtypes: float64(3), int64(5), object(4)\nmemory usage: 3.0+ MB\n",
          "output_type": "stream"
        }
      ]
    },
    {
      "cell_type": "code",
      "source": [
        "df.isna().sum()"
      ],
      "metadata": {
        "execution": {
          "iopub.status.busy": "2024-02-13T14:25:23.730040Z",
          "iopub.execute_input": "2024-02-13T14:25:23.730414Z",
          "iopub.status.idle": "2024-02-13T14:25:23.755947Z",
          "shell.execute_reply.started": "2024-02-13T14:25:23.730382Z",
          "shell.execute_reply": "2024-02-13T14:25:23.754970Z"
        },
        "trusted": true,
        "id": "t5ZnVOV4n4Ge",
        "outputId": "796a33ce-4b07-4673-cd29-dc0ff74d08fb"
      },
      "execution_count": null,
      "outputs": [
        {
          "execution_count": 13,
          "output_type": "execute_result",
          "data": {
            "text/plain": "person_age                       0\nperson_income                    0\nperson_home_ownership            0\nperson_emp_length              895\nloan_intent                      0\nloan_grade                       0\nloan_amnt                        0\nloan_int_rate                 3116\nloan_status                      0\nloan_percent_income              0\ncb_person_default_on_file        0\ncb_person_cred_hist_length       0\ndtype: int64"
          },
          "metadata": {}
        }
      ]
    },
    {
      "cell_type": "code",
      "source": [
        "print(pd.unique(df['person_home_ownership']))\n",
        "print(pd.unique(df['loan_intent']))\n",
        "print(pd.unique(df['loan_grade']))\n",
        "print(pd.unique(df['cb_person_default_on_file']))"
      ],
      "metadata": {
        "execution": {
          "iopub.status.busy": "2024-02-13T14:25:23.757092Z",
          "iopub.execute_input": "2024-02-13T14:25:23.757416Z",
          "iopub.status.idle": "2024-02-13T14:25:23.776455Z",
          "shell.execute_reply.started": "2024-02-13T14:25:23.757392Z",
          "shell.execute_reply": "2024-02-13T14:25:23.775388Z"
        },
        "trusted": true,
        "id": "iYxbnBK1n4Ge",
        "outputId": "7a05ce3c-84ea-4eed-b879-e3e4ba384f42"
      },
      "execution_count": null,
      "outputs": [
        {
          "name": "stdout",
          "text": "['RENT' 'OWN' 'MORTGAGE' 'OTHER']\n['PERSONAL' 'EDUCATION' 'MEDICAL' 'VENTURE' 'HOMEIMPROVEMENT'\n 'DEBTCONSOLIDATION']\n['D' 'B' 'C' 'A' 'E' 'F' 'G']\n['Y' 'N']\n",
          "output_type": "stream"
        }
      ]
    },
    {
      "cell_type": "code",
      "source": [
        "df['cb_person_default_on_file']=(df['cb_person_default_on_file']=='Y').astype('int64')\n",
        "df['loan_grade>G']=df['loan_grade'].apply(lambda x: 1 if x in {'A','B','C','D','E','F'} else 0)\n",
        "df['loan_grade>F']=df['loan_grade'].apply(lambda x: 1 if x in {'A','B','C','D','E'} else 0)\n",
        "df['loan_grade>E']=df['loan_grade'].apply(lambda x: 1 if x in {'A','B','C','D'} else 0)\n",
        "df['loan_grade>D']=df['loan_grade'].apply(lambda x: 1 if x in {'A','B','C'} else 0)\n",
        "df['loan_grade>C']=df['loan_grade'].apply(lambda x: 1 if x in {'A','B'} else 0)\n",
        "df['loan_grade>B']=df['loan_grade'].apply(lambda x: 1 if x in {'A'} else 0)\n",
        "df=df.drop(['loan_grade'],axis=1)\n",
        "df=pd.get_dummies(df,dtype='int64')\n",
        "display(df)\n",
        "df.info()"
      ],
      "metadata": {
        "execution": {
          "iopub.status.busy": "2024-02-13T14:25:23.777539Z",
          "iopub.execute_input": "2024-02-13T14:25:23.777806Z",
          "iopub.status.idle": "2024-02-13T14:25:23.994494Z",
          "shell.execute_reply.started": "2024-02-13T14:25:23.777783Z",
          "shell.execute_reply": "2024-02-13T14:25:23.993399Z"
        },
        "trusted": true,
        "id": "fD6qiZbFn4Ge",
        "outputId": "07e6e793-fb19-43d4-d750-2d83117cc9e4"
      },
      "execution_count": null,
      "outputs": [
        {
          "output_type": "display_data",
          "data": {
            "text/plain": "       person_age  person_income  person_emp_length  loan_amnt  loan_int_rate  \\\n0              22          59000              123.0      35000          16.02   \n1              21           9600                5.0       1000          11.14   \n2              25           9600                1.0       5500          12.87   \n3              23          65500                4.0      35000          15.23   \n4              24          54400                8.0      35000          14.27   \n...           ...            ...                ...        ...            ...   \n32576          57          53000                1.0       5800          13.16   \n32577          54         120000                4.0      17625           7.49   \n32578          65          76000                3.0      35000          10.99   \n32579          56         150000                5.0      15000          11.48   \n32580          66          42000                2.0       6475           9.99   \n\n       loan_status  loan_percent_income  cb_person_default_on_file  \\\n0                1                 0.59                          1   \n1                0                 0.10                          0   \n2                1                 0.57                          0   \n3                1                 0.53                          0   \n4                1                 0.55                          1   \n...            ...                  ...                        ...   \n32576            0                 0.11                          0   \n32577            0                 0.15                          0   \n32578            1                 0.46                          0   \n32579            0                 0.10                          0   \n32580            0                 0.15                          0   \n\n       cb_person_cred_hist_length  loan_grade>G  ...  \\\n0                               3             1  ...   \n1                               2             1  ...   \n2                               3             1  ...   \n3                               2             1  ...   \n4                               4             1  ...   \n...                           ...           ...  ...   \n32576                          30             1  ...   \n32577                          19             1  ...   \n32578                          28             1  ...   \n32579                          26             1  ...   \n32580                          30             1  ...   \n\n       person_home_ownership_MORTGAGE  person_home_ownership_OTHER  \\\n0                                   0                            0   \n1                                   0                            0   \n2                                   1                            0   \n3                                   0                            0   \n4                                   0                            0   \n...                               ...                          ...   \n32576                               1                            0   \n32577                               1                            0   \n32578                               0                            0   \n32579                               1                            0   \n32580                               0                            0   \n\n       person_home_ownership_OWN  person_home_ownership_RENT  \\\n0                              0                           1   \n1                              1                           0   \n2                              0                           0   \n3                              0                           1   \n4                              0                           1   \n...                          ...                         ...   \n32576                          0                           0   \n32577                          0                           0   \n32578                          0                           1   \n32579                          0                           0   \n32580                          0                           1   \n\n       loan_intent_DEBTCONSOLIDATION  loan_intent_EDUCATION  \\\n0                                  0                      0   \n1                                  0                      1   \n2                                  0                      0   \n3                                  0                      0   \n4                                  0                      0   \n...                              ...                    ...   \n32576                              0                      0   \n32577                              0                      0   \n32578                              0                      0   \n32579                              0                      0   \n32580                              0                      0   \n\n       loan_intent_HOMEIMPROVEMENT  loan_intent_MEDICAL  loan_intent_PERSONAL  \\\n0                                0                    0                     1   \n1                                0                    0                     0   \n2                                0                    1                     0   \n3                                0                    1                     0   \n4                                0                    1                     0   \n...                            ...                  ...                   ...   \n32576                            0                    0                     1   \n32577                            0                    0                     1   \n32578                            1                    0                     0   \n32579                            0                    0                     1   \n32580                            0                    1                     0   \n\n       loan_intent_VENTURE  \n0                        0  \n1                        0  \n2                        0  \n3                        0  \n4                        0  \n...                    ...  \n32576                    0  \n32577                    0  \n32578                    0  \n32579                    0  \n32580                    0  \n\n[32581 rows x 25 columns]",
            "text/html": "<div>\n<style scoped>\n    .dataframe tbody tr th:only-of-type {\n        vertical-align: middle;\n    }\n\n    .dataframe tbody tr th {\n        vertical-align: top;\n    }\n\n    .dataframe thead th {\n        text-align: right;\n    }\n</style>\n<table border=\"1\" class=\"dataframe\">\n  <thead>\n    <tr style=\"text-align: right;\">\n      <th></th>\n      <th>person_age</th>\n      <th>person_income</th>\n      <th>person_emp_length</th>\n      <th>loan_amnt</th>\n      <th>loan_int_rate</th>\n      <th>loan_status</th>\n      <th>loan_percent_income</th>\n      <th>cb_person_default_on_file</th>\n      <th>cb_person_cred_hist_length</th>\n      <th>loan_grade&gt;G</th>\n      <th>...</th>\n      <th>person_home_ownership_MORTGAGE</th>\n      <th>person_home_ownership_OTHER</th>\n      <th>person_home_ownership_OWN</th>\n      <th>person_home_ownership_RENT</th>\n      <th>loan_intent_DEBTCONSOLIDATION</th>\n      <th>loan_intent_EDUCATION</th>\n      <th>loan_intent_HOMEIMPROVEMENT</th>\n      <th>loan_intent_MEDICAL</th>\n      <th>loan_intent_PERSONAL</th>\n      <th>loan_intent_VENTURE</th>\n    </tr>\n  </thead>\n  <tbody>\n    <tr>\n      <th>0</th>\n      <td>22</td>\n      <td>59000</td>\n      <td>123.0</td>\n      <td>35000</td>\n      <td>16.02</td>\n      <td>1</td>\n      <td>0.59</td>\n      <td>1</td>\n      <td>3</td>\n      <td>1</td>\n      <td>...</td>\n      <td>0</td>\n      <td>0</td>\n      <td>0</td>\n      <td>1</td>\n      <td>0</td>\n      <td>0</td>\n      <td>0</td>\n      <td>0</td>\n      <td>1</td>\n      <td>0</td>\n    </tr>\n    <tr>\n      <th>1</th>\n      <td>21</td>\n      <td>9600</td>\n      <td>5.0</td>\n      <td>1000</td>\n      <td>11.14</td>\n      <td>0</td>\n      <td>0.10</td>\n      <td>0</td>\n      <td>2</td>\n      <td>1</td>\n      <td>...</td>\n      <td>0</td>\n      <td>0</td>\n      <td>1</td>\n      <td>0</td>\n      <td>0</td>\n      <td>1</td>\n      <td>0</td>\n      <td>0</td>\n      <td>0</td>\n      <td>0</td>\n    </tr>\n    <tr>\n      <th>2</th>\n      <td>25</td>\n      <td>9600</td>\n      <td>1.0</td>\n      <td>5500</td>\n      <td>12.87</td>\n      <td>1</td>\n      <td>0.57</td>\n      <td>0</td>\n      <td>3</td>\n      <td>1</td>\n      <td>...</td>\n      <td>1</td>\n      <td>0</td>\n      <td>0</td>\n      <td>0</td>\n      <td>0</td>\n      <td>0</td>\n      <td>0</td>\n      <td>1</td>\n      <td>0</td>\n      <td>0</td>\n    </tr>\n    <tr>\n      <th>3</th>\n      <td>23</td>\n      <td>65500</td>\n      <td>4.0</td>\n      <td>35000</td>\n      <td>15.23</td>\n      <td>1</td>\n      <td>0.53</td>\n      <td>0</td>\n      <td>2</td>\n      <td>1</td>\n      <td>...</td>\n      <td>0</td>\n      <td>0</td>\n      <td>0</td>\n      <td>1</td>\n      <td>0</td>\n      <td>0</td>\n      <td>0</td>\n      <td>1</td>\n      <td>0</td>\n      <td>0</td>\n    </tr>\n    <tr>\n      <th>4</th>\n      <td>24</td>\n      <td>54400</td>\n      <td>8.0</td>\n      <td>35000</td>\n      <td>14.27</td>\n      <td>1</td>\n      <td>0.55</td>\n      <td>1</td>\n      <td>4</td>\n      <td>1</td>\n      <td>...</td>\n      <td>0</td>\n      <td>0</td>\n      <td>0</td>\n      <td>1</td>\n      <td>0</td>\n      <td>0</td>\n      <td>0</td>\n      <td>1</td>\n      <td>0</td>\n      <td>0</td>\n    </tr>\n    <tr>\n      <th>...</th>\n      <td>...</td>\n      <td>...</td>\n      <td>...</td>\n      <td>...</td>\n      <td>...</td>\n      <td>...</td>\n      <td>...</td>\n      <td>...</td>\n      <td>...</td>\n      <td>...</td>\n      <td>...</td>\n      <td>...</td>\n      <td>...</td>\n      <td>...</td>\n      <td>...</td>\n      <td>...</td>\n      <td>...</td>\n      <td>...</td>\n      <td>...</td>\n      <td>...</td>\n      <td>...</td>\n    </tr>\n    <tr>\n      <th>32576</th>\n      <td>57</td>\n      <td>53000</td>\n      <td>1.0</td>\n      <td>5800</td>\n      <td>13.16</td>\n      <td>0</td>\n      <td>0.11</td>\n      <td>0</td>\n      <td>30</td>\n      <td>1</td>\n      <td>...</td>\n      <td>1</td>\n      <td>0</td>\n      <td>0</td>\n      <td>0</td>\n      <td>0</td>\n      <td>0</td>\n      <td>0</td>\n      <td>0</td>\n      <td>1</td>\n      <td>0</td>\n    </tr>\n    <tr>\n      <th>32577</th>\n      <td>54</td>\n      <td>120000</td>\n      <td>4.0</td>\n      <td>17625</td>\n      <td>7.49</td>\n      <td>0</td>\n      <td>0.15</td>\n      <td>0</td>\n      <td>19</td>\n      <td>1</td>\n      <td>...</td>\n      <td>1</td>\n      <td>0</td>\n      <td>0</td>\n      <td>0</td>\n      <td>0</td>\n      <td>0</td>\n      <td>0</td>\n      <td>0</td>\n      <td>1</td>\n      <td>0</td>\n    </tr>\n    <tr>\n      <th>32578</th>\n      <td>65</td>\n      <td>76000</td>\n      <td>3.0</td>\n      <td>35000</td>\n      <td>10.99</td>\n      <td>1</td>\n      <td>0.46</td>\n      <td>0</td>\n      <td>28</td>\n      <td>1</td>\n      <td>...</td>\n      <td>0</td>\n      <td>0</td>\n      <td>0</td>\n      <td>1</td>\n      <td>0</td>\n      <td>0</td>\n      <td>1</td>\n      <td>0</td>\n      <td>0</td>\n      <td>0</td>\n    </tr>\n    <tr>\n      <th>32579</th>\n      <td>56</td>\n      <td>150000</td>\n      <td>5.0</td>\n      <td>15000</td>\n      <td>11.48</td>\n      <td>0</td>\n      <td>0.10</td>\n      <td>0</td>\n      <td>26</td>\n      <td>1</td>\n      <td>...</td>\n      <td>1</td>\n      <td>0</td>\n      <td>0</td>\n      <td>0</td>\n      <td>0</td>\n      <td>0</td>\n      <td>0</td>\n      <td>0</td>\n      <td>1</td>\n      <td>0</td>\n    </tr>\n    <tr>\n      <th>32580</th>\n      <td>66</td>\n      <td>42000</td>\n      <td>2.0</td>\n      <td>6475</td>\n      <td>9.99</td>\n      <td>0</td>\n      <td>0.15</td>\n      <td>0</td>\n      <td>30</td>\n      <td>1</td>\n      <td>...</td>\n      <td>0</td>\n      <td>0</td>\n      <td>0</td>\n      <td>1</td>\n      <td>0</td>\n      <td>0</td>\n      <td>0</td>\n      <td>1</td>\n      <td>0</td>\n      <td>0</td>\n    </tr>\n  </tbody>\n</table>\n<p>32581 rows × 25 columns</p>\n</div>"
          },
          "metadata": {}
        },
        {
          "name": "stdout",
          "text": "<class 'pandas.core.frame.DataFrame'>\nRangeIndex: 32581 entries, 0 to 32580\nData columns (total 25 columns):\n #   Column                          Non-Null Count  Dtype  \n---  ------                          --------------  -----  \n 0   person_age                      32581 non-null  int64  \n 1   person_income                   32581 non-null  int64  \n 2   person_emp_length               31686 non-null  float64\n 3   loan_amnt                       32581 non-null  int64  \n 4   loan_int_rate                   29465 non-null  float64\n 5   loan_status                     32581 non-null  int64  \n 6   loan_percent_income             32581 non-null  float64\n 7   cb_person_default_on_file       32581 non-null  int64  \n 8   cb_person_cred_hist_length      32581 non-null  int64  \n 9   loan_grade>G                    32581 non-null  int64  \n 10  loan_grade>F                    32581 non-null  int64  \n 11  loan_grade>E                    32581 non-null  int64  \n 12  loan_grade>D                    32581 non-null  int64  \n 13  loan_grade>C                    32581 non-null  int64  \n 14  loan_grade>B                    32581 non-null  int64  \n 15  person_home_ownership_MORTGAGE  32581 non-null  int64  \n 16  person_home_ownership_OTHER     32581 non-null  int64  \n 17  person_home_ownership_OWN       32581 non-null  int64  \n 18  person_home_ownership_RENT      32581 non-null  int64  \n 19  loan_intent_DEBTCONSOLIDATION   32581 non-null  int64  \n 20  loan_intent_EDUCATION           32581 non-null  int64  \n 21  loan_intent_HOMEIMPROVEMENT     32581 non-null  int64  \n 22  loan_intent_MEDICAL             32581 non-null  int64  \n 23  loan_intent_PERSONAL            32581 non-null  int64  \n 24  loan_intent_VENTURE             32581 non-null  int64  \ndtypes: float64(3), int64(22)\nmemory usage: 6.2 MB\n",
          "output_type": "stream"
        }
      ]
    },
    {
      "cell_type": "code",
      "source": [
        "display(df[df['loan_status']==1])\n",
        "display(df[df['loan_status']==0])"
      ],
      "metadata": {
        "execution": {
          "iopub.status.busy": "2024-02-13T14:25:23.996223Z",
          "iopub.execute_input": "2024-02-13T14:25:23.996619Z",
          "iopub.status.idle": "2024-02-13T14:25:24.060880Z",
          "shell.execute_reply.started": "2024-02-13T14:25:23.996584Z",
          "shell.execute_reply": "2024-02-13T14:25:24.059763Z"
        },
        "trusted": true,
        "id": "5ImSnAGHn4Gf",
        "outputId": "f5631f9f-5808-482a-e638-bd7d06fe17a1"
      },
      "execution_count": null,
      "outputs": [
        {
          "output_type": "display_data",
          "data": {
            "text/plain": "       person_age  person_income  person_emp_length  loan_amnt  loan_int_rate  \\\n0              22          59000              123.0      35000          16.02   \n2              25           9600                1.0       5500          12.87   \n3              23          65500                4.0      35000          15.23   \n4              24          54400                8.0      35000          14.27   \n5              21           9900                2.0       2500           7.14   \n...           ...            ...                ...        ...            ...   \n32563          52          71520                0.0       7000          16.82   \n32565          57          40000                1.0      15000           8.90   \n32571          60          45600                1.0      20000          10.00   \n32574          52          65004                4.0      20000          15.58   \n32578          65          76000                3.0      35000          10.99   \n\n       loan_status  loan_percent_income  cb_person_default_on_file  \\\n0                1                 0.59                          1   \n2                1                 0.57                          0   \n3                1                 0.53                          0   \n4                1                 0.55                          1   \n5                1                 0.25                          0   \n...            ...                  ...                        ...   \n32563            1                 0.10                          1   \n32565            1                 0.38                          0   \n32571            1                 0.44                          0   \n32574            1                 0.31                          1   \n32578            1                 0.46                          0   \n\n       cb_person_cred_hist_length  loan_grade>G  ...  \\\n0                               3             1  ...   \n2                               3             1  ...   \n3                               2             1  ...   \n4                               4             1  ...   \n5                               2             1  ...   \n...                           ...           ...  ...   \n32563                          24             1  ...   \n32565                          21             1  ...   \n32571                          26             1  ...   \n32574                          19             1  ...   \n32578                          28             1  ...   \n\n       person_home_ownership_MORTGAGE  person_home_ownership_OTHER  \\\n0                                   0                            0   \n2                                   1                            0   \n3                                   0                            0   \n4                                   0                            0   \n5                                   0                            0   \n...                               ...                          ...   \n32563                               0                            0   \n32565                               0                            0   \n32571                               0                            0   \n32574                               0                            0   \n32578                               0                            0   \n\n       person_home_ownership_OWN  person_home_ownership_RENT  \\\n0                              0                           1   \n2                              0                           0   \n3                              0                           1   \n4                              0                           1   \n5                              1                           0   \n...                          ...                         ...   \n32563                          0                           1   \n32565                          0                           1   \n32571                          0                           1   \n32574                          0                           1   \n32578                          0                           1   \n\n       loan_intent_DEBTCONSOLIDATION  loan_intent_EDUCATION  \\\n0                                  0                      0   \n2                                  0                      0   \n3                                  0                      0   \n4                                  0                      0   \n5                                  0                      0   \n...                              ...                    ...   \n32563                              0                      1   \n32565                              0                      0   \n32571                              0                      0   \n32574                              0                      0   \n32578                              0                      0   \n\n       loan_intent_HOMEIMPROVEMENT  loan_intent_MEDICAL  loan_intent_PERSONAL  \\\n0                                0                    0                     1   \n2                                0                    1                     0   \n3                                0                    1                     0   \n4                                0                    1                     0   \n5                                0                    0                     0   \n...                            ...                  ...                   ...   \n32563                            0                    0                     0   \n32565                            0                    1                     0   \n32571                            0                    0                     0   \n32574                            0                    0                     1   \n32578                            1                    0                     0   \n\n       loan_intent_VENTURE  \n0                        0  \n2                        0  \n3                        0  \n4                        0  \n5                        1  \n...                    ...  \n32563                    0  \n32565                    0  \n32571                    1  \n32574                    0  \n32578                    0  \n\n[7108 rows x 25 columns]",
            "text/html": "<div>\n<style scoped>\n    .dataframe tbody tr th:only-of-type {\n        vertical-align: middle;\n    }\n\n    .dataframe tbody tr th {\n        vertical-align: top;\n    }\n\n    .dataframe thead th {\n        text-align: right;\n    }\n</style>\n<table border=\"1\" class=\"dataframe\">\n  <thead>\n    <tr style=\"text-align: right;\">\n      <th></th>\n      <th>person_age</th>\n      <th>person_income</th>\n      <th>person_emp_length</th>\n      <th>loan_amnt</th>\n      <th>loan_int_rate</th>\n      <th>loan_status</th>\n      <th>loan_percent_income</th>\n      <th>cb_person_default_on_file</th>\n      <th>cb_person_cred_hist_length</th>\n      <th>loan_grade&gt;G</th>\n      <th>...</th>\n      <th>person_home_ownership_MORTGAGE</th>\n      <th>person_home_ownership_OTHER</th>\n      <th>person_home_ownership_OWN</th>\n      <th>person_home_ownership_RENT</th>\n      <th>loan_intent_DEBTCONSOLIDATION</th>\n      <th>loan_intent_EDUCATION</th>\n      <th>loan_intent_HOMEIMPROVEMENT</th>\n      <th>loan_intent_MEDICAL</th>\n      <th>loan_intent_PERSONAL</th>\n      <th>loan_intent_VENTURE</th>\n    </tr>\n  </thead>\n  <tbody>\n    <tr>\n      <th>0</th>\n      <td>22</td>\n      <td>59000</td>\n      <td>123.0</td>\n      <td>35000</td>\n      <td>16.02</td>\n      <td>1</td>\n      <td>0.59</td>\n      <td>1</td>\n      <td>3</td>\n      <td>1</td>\n      <td>...</td>\n      <td>0</td>\n      <td>0</td>\n      <td>0</td>\n      <td>1</td>\n      <td>0</td>\n      <td>0</td>\n      <td>0</td>\n      <td>0</td>\n      <td>1</td>\n      <td>0</td>\n    </tr>\n    <tr>\n      <th>2</th>\n      <td>25</td>\n      <td>9600</td>\n      <td>1.0</td>\n      <td>5500</td>\n      <td>12.87</td>\n      <td>1</td>\n      <td>0.57</td>\n      <td>0</td>\n      <td>3</td>\n      <td>1</td>\n      <td>...</td>\n      <td>1</td>\n      <td>0</td>\n      <td>0</td>\n      <td>0</td>\n      <td>0</td>\n      <td>0</td>\n      <td>0</td>\n      <td>1</td>\n      <td>0</td>\n      <td>0</td>\n    </tr>\n    <tr>\n      <th>3</th>\n      <td>23</td>\n      <td>65500</td>\n      <td>4.0</td>\n      <td>35000</td>\n      <td>15.23</td>\n      <td>1</td>\n      <td>0.53</td>\n      <td>0</td>\n      <td>2</td>\n      <td>1</td>\n      <td>...</td>\n      <td>0</td>\n      <td>0</td>\n      <td>0</td>\n      <td>1</td>\n      <td>0</td>\n      <td>0</td>\n      <td>0</td>\n      <td>1</td>\n      <td>0</td>\n      <td>0</td>\n    </tr>\n    <tr>\n      <th>4</th>\n      <td>24</td>\n      <td>54400</td>\n      <td>8.0</td>\n      <td>35000</td>\n      <td>14.27</td>\n      <td>1</td>\n      <td>0.55</td>\n      <td>1</td>\n      <td>4</td>\n      <td>1</td>\n      <td>...</td>\n      <td>0</td>\n      <td>0</td>\n      <td>0</td>\n      <td>1</td>\n      <td>0</td>\n      <td>0</td>\n      <td>0</td>\n      <td>1</td>\n      <td>0</td>\n      <td>0</td>\n    </tr>\n    <tr>\n      <th>5</th>\n      <td>21</td>\n      <td>9900</td>\n      <td>2.0</td>\n      <td>2500</td>\n      <td>7.14</td>\n      <td>1</td>\n      <td>0.25</td>\n      <td>0</td>\n      <td>2</td>\n      <td>1</td>\n      <td>...</td>\n      <td>0</td>\n      <td>0</td>\n      <td>1</td>\n      <td>0</td>\n      <td>0</td>\n      <td>0</td>\n      <td>0</td>\n      <td>0</td>\n      <td>0</td>\n      <td>1</td>\n    </tr>\n    <tr>\n      <th>...</th>\n      <td>...</td>\n      <td>...</td>\n      <td>...</td>\n      <td>...</td>\n      <td>...</td>\n      <td>...</td>\n      <td>...</td>\n      <td>...</td>\n      <td>...</td>\n      <td>...</td>\n      <td>...</td>\n      <td>...</td>\n      <td>...</td>\n      <td>...</td>\n      <td>...</td>\n      <td>...</td>\n      <td>...</td>\n      <td>...</td>\n      <td>...</td>\n      <td>...</td>\n      <td>...</td>\n    </tr>\n    <tr>\n      <th>32563</th>\n      <td>52</td>\n      <td>71520</td>\n      <td>0.0</td>\n      <td>7000</td>\n      <td>16.82</td>\n      <td>1</td>\n      <td>0.10</td>\n      <td>1</td>\n      <td>24</td>\n      <td>1</td>\n      <td>...</td>\n      <td>0</td>\n      <td>0</td>\n      <td>0</td>\n      <td>1</td>\n      <td>0</td>\n      <td>1</td>\n      <td>0</td>\n      <td>0</td>\n      <td>0</td>\n      <td>0</td>\n    </tr>\n    <tr>\n      <th>32565</th>\n      <td>57</td>\n      <td>40000</td>\n      <td>1.0</td>\n      <td>15000</td>\n      <td>8.90</td>\n      <td>1</td>\n      <td>0.38</td>\n      <td>0</td>\n      <td>21</td>\n      <td>1</td>\n      <td>...</td>\n      <td>0</td>\n      <td>0</td>\n      <td>0</td>\n      <td>1</td>\n      <td>0</td>\n      <td>0</td>\n      <td>0</td>\n      <td>1</td>\n      <td>0</td>\n      <td>0</td>\n    </tr>\n    <tr>\n      <th>32571</th>\n      <td>60</td>\n      <td>45600</td>\n      <td>1.0</td>\n      <td>20000</td>\n      <td>10.00</td>\n      <td>1</td>\n      <td>0.44</td>\n      <td>0</td>\n      <td>26</td>\n      <td>1</td>\n      <td>...</td>\n      <td>0</td>\n      <td>0</td>\n      <td>0</td>\n      <td>1</td>\n      <td>0</td>\n      <td>0</td>\n      <td>0</td>\n      <td>0</td>\n      <td>0</td>\n      <td>1</td>\n    </tr>\n    <tr>\n      <th>32574</th>\n      <td>52</td>\n      <td>65004</td>\n      <td>4.0</td>\n      <td>20000</td>\n      <td>15.58</td>\n      <td>1</td>\n      <td>0.31</td>\n      <td>1</td>\n      <td>19</td>\n      <td>1</td>\n      <td>...</td>\n      <td>0</td>\n      <td>0</td>\n      <td>0</td>\n      <td>1</td>\n      <td>0</td>\n      <td>0</td>\n      <td>0</td>\n      <td>0</td>\n      <td>1</td>\n      <td>0</td>\n    </tr>\n    <tr>\n      <th>32578</th>\n      <td>65</td>\n      <td>76000</td>\n      <td>3.0</td>\n      <td>35000</td>\n      <td>10.99</td>\n      <td>1</td>\n      <td>0.46</td>\n      <td>0</td>\n      <td>28</td>\n      <td>1</td>\n      <td>...</td>\n      <td>0</td>\n      <td>0</td>\n      <td>0</td>\n      <td>1</td>\n      <td>0</td>\n      <td>0</td>\n      <td>1</td>\n      <td>0</td>\n      <td>0</td>\n      <td>0</td>\n    </tr>\n  </tbody>\n</table>\n<p>7108 rows × 25 columns</p>\n</div>"
          },
          "metadata": {}
        },
        {
          "output_type": "display_data",
          "data": {
            "text/plain": "       person_age  person_income  person_emp_length  loan_amnt  loan_int_rate  \\\n1              21           9600                5.0       1000          11.14   \n14             23         115000                2.0      35000           7.90   \n15             23         500000                7.0      30000          10.65   \n16             23         120000                0.0      35000           7.90   \n20             25         162500                2.0      35000           7.49   \n...           ...            ...                ...        ...            ...   \n32575          52          64500                0.0       5000          11.26   \n32576          57          53000                1.0       5800          13.16   \n32577          54         120000                4.0      17625           7.49   \n32579          56         150000                5.0      15000          11.48   \n32580          66          42000                2.0       6475           9.99   \n\n       loan_status  loan_percent_income  cb_person_default_on_file  \\\n1                0                 0.10                          0   \n14               0                 0.30                          0   \n15               0                 0.06                          0   \n16               0                 0.29                          0   \n20               0                 0.22                          0   \n...            ...                  ...                        ...   \n32575            0                 0.08                          0   \n32576            0                 0.11                          0   \n32577            0                 0.15                          0   \n32579            0                 0.10                          0   \n32580            0                 0.15                          0   \n\n       cb_person_cred_hist_length  loan_grade>G  ...  \\\n1                               2             1  ...   \n14                              4             1  ...   \n15                              3             1  ...   \n16                              4             1  ...   \n20                              4             1  ...   \n...                           ...           ...  ...   \n32575                          20             1  ...   \n32576                          30             1  ...   \n32577                          19             1  ...   \n32579                          26             1  ...   \n32580                          30             1  ...   \n\n       person_home_ownership_MORTGAGE  person_home_ownership_OTHER  \\\n1                                   0                            0   \n14                                  0                            0   \n15                                  1                            0   \n16                                  0                            0   \n20                                  0                            0   \n...                               ...                          ...   \n32575                               0                            0   \n32576                               1                            0   \n32577                               1                            0   \n32579                               1                            0   \n32580                               0                            0   \n\n       person_home_ownership_OWN  person_home_ownership_RENT  \\\n1                              1                           0   \n14                             0                           1   \n15                             0                           0   \n16                             0                           1   \n20                             0                           1   \n...                          ...                         ...   \n32575                          0                           1   \n32576                          0                           0   \n32577                          0                           0   \n32579                          0                           0   \n32580                          0                           1   \n\n       loan_intent_DEBTCONSOLIDATION  loan_intent_EDUCATION  \\\n1                                  0                      1   \n14                                 0                      1   \n15                                 1                      0   \n16                                 0                      1   \n20                                 0                      0   \n...                              ...                    ...   \n32575                              0                      1   \n32576                              0                      0   \n32577                              0                      0   \n32579                              0                      0   \n32580                              0                      0   \n\n       loan_intent_HOMEIMPROVEMENT  loan_intent_MEDICAL  loan_intent_PERSONAL  \\\n1                                0                    0                     0   \n14                               0                    0                     0   \n15                               0                    0                     0   \n16                               0                    0                     0   \n20                               0                    0                     0   \n...                            ...                  ...                   ...   \n32575                            0                    0                     0   \n32576                            0                    0                     1   \n32577                            0                    0                     1   \n32579                            0                    0                     1   \n32580                            0                    1                     0   \n\n       loan_intent_VENTURE  \n1                        0  \n14                       0  \n15                       0  \n16                       0  \n20                       1  \n...                    ...  \n32575                    0  \n32576                    0  \n32577                    0  \n32579                    0  \n32580                    0  \n\n[25473 rows x 25 columns]",
            "text/html": "<div>\n<style scoped>\n    .dataframe tbody tr th:only-of-type {\n        vertical-align: middle;\n    }\n\n    .dataframe tbody tr th {\n        vertical-align: top;\n    }\n\n    .dataframe thead th {\n        text-align: right;\n    }\n</style>\n<table border=\"1\" class=\"dataframe\">\n  <thead>\n    <tr style=\"text-align: right;\">\n      <th></th>\n      <th>person_age</th>\n      <th>person_income</th>\n      <th>person_emp_length</th>\n      <th>loan_amnt</th>\n      <th>loan_int_rate</th>\n      <th>loan_status</th>\n      <th>loan_percent_income</th>\n      <th>cb_person_default_on_file</th>\n      <th>cb_person_cred_hist_length</th>\n      <th>loan_grade&gt;G</th>\n      <th>...</th>\n      <th>person_home_ownership_MORTGAGE</th>\n      <th>person_home_ownership_OTHER</th>\n      <th>person_home_ownership_OWN</th>\n      <th>person_home_ownership_RENT</th>\n      <th>loan_intent_DEBTCONSOLIDATION</th>\n      <th>loan_intent_EDUCATION</th>\n      <th>loan_intent_HOMEIMPROVEMENT</th>\n      <th>loan_intent_MEDICAL</th>\n      <th>loan_intent_PERSONAL</th>\n      <th>loan_intent_VENTURE</th>\n    </tr>\n  </thead>\n  <tbody>\n    <tr>\n      <th>1</th>\n      <td>21</td>\n      <td>9600</td>\n      <td>5.0</td>\n      <td>1000</td>\n      <td>11.14</td>\n      <td>0</td>\n      <td>0.10</td>\n      <td>0</td>\n      <td>2</td>\n      <td>1</td>\n      <td>...</td>\n      <td>0</td>\n      <td>0</td>\n      <td>1</td>\n      <td>0</td>\n      <td>0</td>\n      <td>1</td>\n      <td>0</td>\n      <td>0</td>\n      <td>0</td>\n      <td>0</td>\n    </tr>\n    <tr>\n      <th>14</th>\n      <td>23</td>\n      <td>115000</td>\n      <td>2.0</td>\n      <td>35000</td>\n      <td>7.90</td>\n      <td>0</td>\n      <td>0.30</td>\n      <td>0</td>\n      <td>4</td>\n      <td>1</td>\n      <td>...</td>\n      <td>0</td>\n      <td>0</td>\n      <td>0</td>\n      <td>1</td>\n      <td>0</td>\n      <td>1</td>\n      <td>0</td>\n      <td>0</td>\n      <td>0</td>\n      <td>0</td>\n    </tr>\n    <tr>\n      <th>15</th>\n      <td>23</td>\n      <td>500000</td>\n      <td>7.0</td>\n      <td>30000</td>\n      <td>10.65</td>\n      <td>0</td>\n      <td>0.06</td>\n      <td>0</td>\n      <td>3</td>\n      <td>1</td>\n      <td>...</td>\n      <td>1</td>\n      <td>0</td>\n      <td>0</td>\n      <td>0</td>\n      <td>1</td>\n      <td>0</td>\n      <td>0</td>\n      <td>0</td>\n      <td>0</td>\n      <td>0</td>\n    </tr>\n    <tr>\n      <th>16</th>\n      <td>23</td>\n      <td>120000</td>\n      <td>0.0</td>\n      <td>35000</td>\n      <td>7.90</td>\n      <td>0</td>\n      <td>0.29</td>\n      <td>0</td>\n      <td>4</td>\n      <td>1</td>\n      <td>...</td>\n      <td>0</td>\n      <td>0</td>\n      <td>0</td>\n      <td>1</td>\n      <td>0</td>\n      <td>1</td>\n      <td>0</td>\n      <td>0</td>\n      <td>0</td>\n      <td>0</td>\n    </tr>\n    <tr>\n      <th>20</th>\n      <td>25</td>\n      <td>162500</td>\n      <td>2.0</td>\n      <td>35000</td>\n      <td>7.49</td>\n      <td>0</td>\n      <td>0.22</td>\n      <td>0</td>\n      <td>4</td>\n      <td>1</td>\n      <td>...</td>\n      <td>0</td>\n      <td>0</td>\n      <td>0</td>\n      <td>1</td>\n      <td>0</td>\n      <td>0</td>\n      <td>0</td>\n      <td>0</td>\n      <td>0</td>\n      <td>1</td>\n    </tr>\n    <tr>\n      <th>...</th>\n      <td>...</td>\n      <td>...</td>\n      <td>...</td>\n      <td>...</td>\n      <td>...</td>\n      <td>...</td>\n      <td>...</td>\n      <td>...</td>\n      <td>...</td>\n      <td>...</td>\n      <td>...</td>\n      <td>...</td>\n      <td>...</td>\n      <td>...</td>\n      <td>...</td>\n      <td>...</td>\n      <td>...</td>\n      <td>...</td>\n      <td>...</td>\n      <td>...</td>\n      <td>...</td>\n    </tr>\n    <tr>\n      <th>32575</th>\n      <td>52</td>\n      <td>64500</td>\n      <td>0.0</td>\n      <td>5000</td>\n      <td>11.26</td>\n      <td>0</td>\n      <td>0.08</td>\n      <td>0</td>\n      <td>20</td>\n      <td>1</td>\n      <td>...</td>\n      <td>0</td>\n      <td>0</td>\n      <td>0</td>\n      <td>1</td>\n      <td>0</td>\n      <td>1</td>\n      <td>0</td>\n      <td>0</td>\n      <td>0</td>\n      <td>0</td>\n    </tr>\n    <tr>\n      <th>32576</th>\n      <td>57</td>\n      <td>53000</td>\n      <td>1.0</td>\n      <td>5800</td>\n      <td>13.16</td>\n      <td>0</td>\n      <td>0.11</td>\n      <td>0</td>\n      <td>30</td>\n      <td>1</td>\n      <td>...</td>\n      <td>1</td>\n      <td>0</td>\n      <td>0</td>\n      <td>0</td>\n      <td>0</td>\n      <td>0</td>\n      <td>0</td>\n      <td>0</td>\n      <td>1</td>\n      <td>0</td>\n    </tr>\n    <tr>\n      <th>32577</th>\n      <td>54</td>\n      <td>120000</td>\n      <td>4.0</td>\n      <td>17625</td>\n      <td>7.49</td>\n      <td>0</td>\n      <td>0.15</td>\n      <td>0</td>\n      <td>19</td>\n      <td>1</td>\n      <td>...</td>\n      <td>1</td>\n      <td>0</td>\n      <td>0</td>\n      <td>0</td>\n      <td>0</td>\n      <td>0</td>\n      <td>0</td>\n      <td>0</td>\n      <td>1</td>\n      <td>0</td>\n    </tr>\n    <tr>\n      <th>32579</th>\n      <td>56</td>\n      <td>150000</td>\n      <td>5.0</td>\n      <td>15000</td>\n      <td>11.48</td>\n      <td>0</td>\n      <td>0.10</td>\n      <td>0</td>\n      <td>26</td>\n      <td>1</td>\n      <td>...</td>\n      <td>1</td>\n      <td>0</td>\n      <td>0</td>\n      <td>0</td>\n      <td>0</td>\n      <td>0</td>\n      <td>0</td>\n      <td>0</td>\n      <td>1</td>\n      <td>0</td>\n    </tr>\n    <tr>\n      <th>32580</th>\n      <td>66</td>\n      <td>42000</td>\n      <td>2.0</td>\n      <td>6475</td>\n      <td>9.99</td>\n      <td>0</td>\n      <td>0.15</td>\n      <td>0</td>\n      <td>30</td>\n      <td>1</td>\n      <td>...</td>\n      <td>0</td>\n      <td>0</td>\n      <td>0</td>\n      <td>1</td>\n      <td>0</td>\n      <td>0</td>\n      <td>0</td>\n      <td>1</td>\n      <td>0</td>\n      <td>0</td>\n    </tr>\n  </tbody>\n</table>\n<p>25473 rows × 25 columns</p>\n</div>"
          },
          "metadata": {}
        }
      ]
    },
    {
      "cell_type": "code",
      "source": [
        "y=df['loan_status'].values\n",
        "X=df.drop(['loan_status'],axis=1).values\n",
        "print(y)\n",
        "print(X)"
      ],
      "metadata": {
        "execution": {
          "iopub.status.busy": "2024-02-13T14:25:24.062252Z",
          "iopub.execute_input": "2024-02-13T14:25:24.062576Z",
          "iopub.status.idle": "2024-02-13T14:25:24.074263Z",
          "shell.execute_reply.started": "2024-02-13T14:25:24.062550Z",
          "shell.execute_reply": "2024-02-13T14:25:24.073207Z"
        },
        "trusted": true,
        "id": "VEPlPL8Vn4Gf",
        "outputId": "2d9abd88-00cc-41fc-e948-ef5ff2f2bfd6"
      },
      "execution_count": null,
      "outputs": [
        {
          "name": "stdout",
          "text": "[1 0 1 ... 1 0 0]\n[[2.20e+01 5.90e+04 1.23e+02 ... 0.00e+00 1.00e+00 0.00e+00]\n [2.10e+01 9.60e+03 5.00e+00 ... 0.00e+00 0.00e+00 0.00e+00]\n [2.50e+01 9.60e+03 1.00e+00 ... 1.00e+00 0.00e+00 0.00e+00]\n ...\n [6.50e+01 7.60e+04 3.00e+00 ... 0.00e+00 0.00e+00 0.00e+00]\n [5.60e+01 1.50e+05 5.00e+00 ... 0.00e+00 1.00e+00 0.00e+00]\n [6.60e+01 4.20e+04 2.00e+00 ... 1.00e+00 0.00e+00 0.00e+00]]\n",
          "output_type": "stream"
        }
      ]
    },
    {
      "cell_type": "markdown",
      "source": [
        "## **Choosing classifiers, parameters of imputers and implementing methods for proper usage and evaluation of them**"
      ],
      "metadata": {
        "id": "ySNuUk5Zn4Gf"
      }
    },
    {
      "cell_type": "markdown",
      "source": [
        "**As a classifier for futher evaluation of imputers - GradientBoostingClassifier was choosen, with some limitations on depth of trees number of features.**"
      ],
      "metadata": {
        "id": "wIWWnOgVn4Gf"
      }
    },
    {
      "cell_type": "code",
      "source": [
        "classifier=GradientBoostingClassifier(max_depth=4,max_features=12,random_state=0)"
      ],
      "metadata": {
        "execution": {
          "iopub.status.busy": "2024-02-13T14:25:24.075763Z",
          "iopub.execute_input": "2024-02-13T14:25:24.076651Z",
          "iopub.status.idle": "2024-02-13T14:25:24.081805Z",
          "shell.execute_reply.started": "2024-02-13T14:25:24.076606Z",
          "shell.execute_reply": "2024-02-13T14:25:24.080663Z"
        },
        "trusted": true,
        "id": "zkIIM2LMn4Go"
      },
      "execution_count": null,
      "outputs": []
    },
    {
      "cell_type": "code",
      "source": [
        "def get_scores_for_imputer(imputer,X_missing,y_missing,N_SPLITS=5):\n",
        "    estimator = make_pipeline(imputer,classifier)\n",
        "    impute_scores = cross_val_score(estimator,X_missing,y_missing,scoring='f1',cv=N_SPLITS)\n",
        "    return impute_scores"
      ],
      "metadata": {
        "execution": {
          "iopub.status.busy": "2024-02-13T14:25:24.083040Z",
          "iopub.execute_input": "2024-02-13T14:25:24.083408Z",
          "iopub.status.idle": "2024-02-13T14:25:24.090585Z",
          "shell.execute_reply.started": "2024-02-13T14:25:24.083372Z",
          "shell.execute_reply": "2024-02-13T14:25:24.089412Z"
        },
        "trusted": true,
        "id": "Xx3I-P5cn4Go"
      },
      "execution_count": null,
      "outputs": []
    },
    {
      "cell_type": "code",
      "source": [
        "def get_impute_iterative(X_missing,y_missing,regressor):\n",
        "    imputer = IterativeImputer(estimator=regressor)\n",
        "    iterative_impute_scores = get_scores_for_imputer(imputer, X_missing, y_missing)\n",
        "    return iterative_impute_scores.mean(), iterative_impute_scores.std()"
      ],
      "metadata": {
        "execution": {
          "iopub.status.busy": "2024-02-13T14:25:24.091926Z",
          "iopub.execute_input": "2024-02-13T14:25:24.092299Z",
          "iopub.status.idle": "2024-02-13T14:25:24.099644Z",
          "shell.execute_reply.started": "2024-02-13T14:25:24.092266Z",
          "shell.execute_reply": "2024-02-13T14:25:24.098576Z"
        },
        "trusted": true,
        "id": "8B4hLko-n4Go"
      },
      "execution_count": null,
      "outputs": []
    },
    {
      "cell_type": "code",
      "source": [
        "def get_impute_simple(X_missing,y_missing,strategy):\n",
        "    imputer = SimpleImputer(strategy=strategy)\n",
        "    simple_impute_scores = get_scores_for_imputer(imputer, X_missing, y_missing)\n",
        "    return simple_impute_scores.mean(), simple_impute_scores.std()"
      ],
      "metadata": {
        "execution": {
          "iopub.status.busy": "2024-02-13T14:25:24.102939Z",
          "iopub.execute_input": "2024-02-13T14:25:24.103253Z",
          "iopub.status.idle": "2024-02-13T14:25:24.109496Z",
          "shell.execute_reply.started": "2024-02-13T14:25:24.103195Z",
          "shell.execute_reply": "2024-02-13T14:25:24.108486Z"
        },
        "trusted": true,
        "id": "7YgEPCrPn4Go"
      },
      "execution_count": null,
      "outputs": []
    },
    {
      "cell_type": "code",
      "source": [
        "def get_impute_knn(X_missing,y_missing):\n",
        "    imputer = KNNImputer()\n",
        "    knn_impute_scores = get_scores_for_imputer(imputer, X_missing, y_missing)\n",
        "    return knn_impute_scores.mean(), knn_impute_scores.std()"
      ],
      "metadata": {
        "execution": {
          "iopub.status.busy": "2024-02-13T14:25:24.110623Z",
          "iopub.execute_input": "2024-02-13T14:25:24.110981Z",
          "iopub.status.idle": "2024-02-13T14:25:24.119107Z",
          "shell.execute_reply.started": "2024-02-13T14:25:24.110944Z",
          "shell.execute_reply": "2024-02-13T14:25:24.118247Z"
        },
        "trusted": true,
        "id": "rIydIoPLn4Go"
      },
      "execution_count": null,
      "outputs": []
    },
    {
      "cell_type": "markdown",
      "source": [
        "**Speaking about parameters of imputers, as a strategies for SimpleImputer were choosen filling missing values with mean value or median, while as estimators for IterativeImputor were choosen BayesianRidge, GradientBoostingRegressor, KNeighborsRegressor, pipeline with Nystroem's kernel approximation and Ridge regression and as a final regressor - ordinary linear regression.**"
      ],
      "metadata": {
        "id": "z3ncjI19n4Go"
      }
    },
    {
      "cell_type": "code",
      "source": [
        "f1s=np.zeros(shape=8)\n",
        "stds=np.zeros(shape=8)\n",
        "f1s[0],stds[0]=get_impute_simple(X,y,'mean')\n",
        "print(f1s[0],stds[0])\n",
        "f1s[1],stds[1]=get_impute_simple(X,y,'median')\n",
        "print(f1s[1],stds[1])\n",
        "f1s[2],stds[2]=get_impute_knn(X,y)\n",
        "print(f1s[2],stds[2])\n",
        "f1s[3],stds[3]=get_impute_iterative(X,y,BayesianRidge())\n",
        "print(f1s[3],stds[3])\n",
        "f1s[4],stds[4]=get_impute_iterative(X,y,GradientBoostingRegressor(max_depth=4,max_features=12))\n",
        "print(f1s[4],stds[4])\n",
        "f1s[5],stds[5]=get_impute_iterative(X,y,KNeighborsRegressor())\n",
        "print(f1s[5],stds[5])\n",
        "f1s[6],stds[6]=get_impute_iterative(X,y,make_pipeline(Nystroem(kernel=\"polynomial\",degree=2,random_state=0),Ridge(alpha=1e2)))\n",
        "print(f1s[6],stds[6])\n",
        "f1s[7],stds[7]=get_impute_iterative(X,y,LinearRegression(fit_intercept=True))\n",
        "print(f1s[7],stds[7])"
      ],
      "metadata": {
        "execution": {
          "iopub.status.busy": "2024-02-13T14:25:24.120266Z",
          "iopub.execute_input": "2024-02-13T14:25:24.120690Z",
          "iopub.status.idle": "2024-02-13T14:32:33.058833Z",
          "shell.execute_reply.started": "2024-02-13T14:25:24.120592Z",
          "shell.execute_reply": "2024-02-13T14:32:33.055354Z"
        },
        "trusted": true,
        "id": "IBd2LLtxn4Gp",
        "outputId": "1dcebfc5-0247-4a78-b7f5-10da952a7bd6"
      },
      "execution_count": null,
      "outputs": [
        {
          "name": "stdout",
          "text": "0.8078664947552712 0.0358540758538727\n0.8072133275901621 0.03560786890808871\n0.8103595880592069 0.03690672908793472\n0.8122877602145877 0.03478506835863296\n0.810758391320951 0.03696021010253206\n0.81243102996462 0.03757704720498577\n0.8111683196136635 0.03750432060294527\n0.8118666904257287 0.03698726536901405\n",
          "output_type": "stream"
        }
      ]
    },
    {
      "cell_type": "markdown",
      "source": [
        "## **Visualizing values of quality measure for different algorithms**"
      ],
      "metadata": {
        "id": "944was6Xn4Gp"
      }
    },
    {
      "cell_type": "code",
      "source": [
        "n_bars = len(f1s)\n",
        "colors = [\"r\", \"g\", \"b\", \"c\", \"m\",'orange','yellow','maroon']\n",
        "fig=plt.figure(figsize=(10,10))\n",
        "ax=fig.add_subplot(1,1,1)\n",
        "for j in range(n_bars):\n",
        "    ax.barh(j,f1s[j],xerr=stds[j],color=colors[j],align=\"center\")\n",
        "ax.set_title(\"Data Imputation Results\")\n",
        "ax.set_xlim(left=np.min(f1s)* 0.95,right=np.max(f1s)*1.05)\n",
        "ax.set_yticks(range(n_bars))\n",
        "ax.set_xlabel(\"F1\")\n",
        "ax.invert_yaxis()\n",
        "x_labels=['SimpleImputer+Mean','SimpleImputer+Median','KNNImputer','IterativeImputer+BayesianRidge','IterativeImputer+GradientBoostingRegressor','IterativeImputer+KNeighborsRegressor','IterativeImputer+Pipeline','IterativeImputer+LinearRegression']\n",
        "ax.set_yticklabels(x_labels)\n",
        "plt.show()"
      ],
      "metadata": {
        "execution": {
          "iopub.status.busy": "2024-02-13T14:32:33.060598Z",
          "iopub.execute_input": "2024-02-13T14:32:33.061379Z",
          "iopub.status.idle": "2024-02-13T14:32:33.392360Z",
          "shell.execute_reply.started": "2024-02-13T14:32:33.061314Z",
          "shell.execute_reply": "2024-02-13T14:32:33.391375Z"
        },
        "trusted": true,
        "id": "GealDC49n4Gp",
        "outputId": "be1513f3-4a97-4fda-807b-123b1765e401"
      },
      "execution_count": null,
      "outputs": [
        {
          "output_type": "display_data",
          "data": {
            "text/plain": "<Figure size 1000x1000 with 1 Axes>",
            "image/png": "[encoded data removed]"
          },
          "metadata": {}
        }
      ]
    }
  ]
}