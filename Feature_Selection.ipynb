{
  "metadata": {
    "kernelspec": {
      "language": "python",
      "display_name": "Python 3",
      "name": "python3"
    },
    "language_info": {
      "name": "python",
      "version": "3.10.13",
      "mimetype": "text/x-python",
      "codemirror_mode": {
        "name": "ipython",
        "version": 3
      },
      "pygments_lexer": "ipython3",
      "nbconvert_exporter": "python",
      "file_extension": ".py"
    },
    "kaggle": {
      "accelerator": "gpu",
      "dataSources": [
        {
          "sourceId": 7800251,
          "sourceType": "datasetVersion",
          "datasetId": 4567255
        },
        {
          "sourceId": 7813825,
          "sourceType": "datasetVersion",
          "datasetId": 4577111
        }
      ],
      "dockerImageVersionId": 30664,
      "isInternetEnabled": true,
      "language": "python",
      "sourceType": "notebook",
      "isGpuEnabled": true
    },
    "colab": {
      "provenance": []
    }
  },
  "nbformat_minor": 0,
  "nbformat": 4,
  "cells": [
    {
      "cell_type": "markdown",
      "source": [
        "# **Importing all necessary libraries**"
      ],
      "metadata": {
        "id": "rPv3lbJPg10X"
      }
    },
    {
      "cell_type": "code",
      "source": [
        "import numpy as np\n",
        "import pandas as pd\n",
        "import matplotlib.pyplot as plt\n",
        "from sklearn.feature_selection import GenericUnivariateSelect,RFE,RFECV,SequentialFeatureSelector,SelectFromModel\n",
        "from mlxtend.feature_selection import ColumnSelector\n",
        "from mlxtend.feature_selection import SequentialFeatureSelector as SFS\n",
        "from sklearn.preprocessing import StandardScaler\n",
        "from sklearn.ensemble import RandomForestClassifier\n",
        "from sklearn.linear_model import LogisticRegression\n",
        "from sklearn.model_selection import cross_val_score,GridSearchCV\n",
        "from sklearn.pipeline import make_pipeline\n",
        "from sklearn.datasets import make_classification\n",
        "from itertools import combinations"
      ],
      "metadata": {
        "_uuid": "8f2839f25d086af736a60e9eeb907d3b93b6e0e5",
        "_cell_guid": "b1076dfc-b9ad-4769-8c92-a6c4dae69d19",
        "id": "u-P_9wr_g10Z",
        "execution": {
          "iopub.status.busy": "2024-03-13T05:25:48.513986Z",
          "iopub.execute_input": "2024-03-13T05:25:48.514614Z",
          "iopub.status.idle": "2024-03-13T05:25:50.894819Z",
          "shell.execute_reply.started": "2024-03-13T05:25:48.514582Z",
          "shell.execute_reply": "2024-03-13T05:25:50.893209Z"
        },
        "trusted": true
      },
      "execution_count": null,
      "outputs": []
    },
    {
      "cell_type": "markdown",
      "source": [
        "# **Defining function, which will be used to evaluate performances**"
      ],
      "metadata": {
        "id": "oQdm45OwEwNq"
      }
    },
    {
      "cell_type": "code",
      "source": [
        "def estimate(X,y,model=RandomForestClassifier(max_depth=3)):\n",
        "    scores=cross_val_score(model,X,y,scoring='f1',cv=5)\n",
        "    return scores.mean(),scores.std()"
      ],
      "metadata": {
        "id": "wd-UMzCdg10b",
        "execution": {
          "iopub.status.busy": "2024-03-13T05:25:50.896903Z",
          "iopub.execute_input": "2024-03-13T05:25:50.898859Z",
          "iopub.status.idle": "2024-03-13T05:25:50.908848Z",
          "shell.execute_reply.started": "2024-03-13T05:25:50.898801Z",
          "shell.execute_reply": "2024-03-13T05:25:50.907903Z"
        },
        "trusted": true
      },
      "execution_count": null,
      "outputs": []
    },
    {
      "cell_type": "markdown",
      "source": [
        "# **First dataset**"
      ],
      "metadata": {
        "id": "zl7daGUOg10b"
      }
    },
    {
      "cell_type": "code",
      "source": [
        "methods=[]\n",
        "f1s=np.zeros(shape=11)\n",
        "stds=np.zeros(shape=11)"
      ],
      "metadata": {
        "id": "5Zd5CFPtg10b",
        "execution": {
          "iopub.status.busy": "2024-03-13T05:25:50.910245Z",
          "iopub.execute_input": "2024-03-13T05:25:50.911750Z",
          "iopub.status.idle": "2024-03-13T05:25:50.925032Z",
          "shell.execute_reply.started": "2024-03-13T05:25:50.911708Z",
          "shell.execute_reply": "2024-03-13T05:25:50.923725Z"
        },
        "trusted": true
      },
      "execution_count": null,
      "outputs": []
    },
    {
      "cell_type": "markdown",
      "source": [
        "## **Analyzing dataset**"
      ],
      "metadata": {
        "id": "J7pmRmQug10b"
      }
    },
    {
      "cell_type": "code",
      "source": [
        "df=pd.read_csv('/kaggle/input/winequality/winequality-red.csv',delimiter=';')\n",
        "display(df)"
      ],
      "metadata": {
        "id": "oY6OCKzdg10b",
        "outputId": "dc76b4c2-694e-4c2d-d966-307fcf666605",
        "execution": {
          "iopub.status.busy": "2024-03-13T05:25:50.927574Z",
          "iopub.execute_input": "2024-03-13T05:25:50.928183Z",
          "iopub.status.idle": "2024-03-13T05:25:50.980809Z",
          "shell.execute_reply.started": "2024-03-13T05:25:50.928150Z",
          "shell.execute_reply": "2024-03-13T05:25:50.979745Z"
        },
        "trusted": true
      },
      "execution_count": null,
      "outputs": [
        {
          "output_type": "display_data",
          "data": {
            "text/plain": "      fixed acidity  volatile acidity  citric acid  residual sugar  chlorides  \\\n0               7.4             0.700         0.00             1.9      0.076   \n1               7.8             0.880         0.00             2.6      0.098   \n2               7.8             0.760         0.04             2.3      0.092   \n3              11.2             0.280         0.56             1.9      0.075   \n4               7.4             0.700         0.00             1.9      0.076   \n...             ...               ...          ...             ...        ...   \n1594            6.2             0.600         0.08             2.0      0.090   \n1595            5.9             0.550         0.10             2.2      0.062   \n1596            6.3             0.510         0.13             2.3      0.076   \n1597            5.9             0.645         0.12             2.0      0.075   \n1598            6.0             0.310         0.47             3.6      0.067   \n\n      free sulfur dioxide  total sulfur dioxide  density    pH  sulphates  \\\n0                    11.0                  34.0  0.99780  3.51       0.56   \n1                    25.0                  67.0  0.99680  3.20       0.68   \n2                    15.0                  54.0  0.99700  3.26       0.65   \n3                    17.0                  60.0  0.99800  3.16       0.58   \n4                    11.0                  34.0  0.99780  3.51       0.56   \n...                   ...                   ...      ...   ...        ...   \n1594                 32.0                  44.0  0.99490  3.45       0.58   \n1595                 39.0                  51.0  0.99512  3.52       0.76   \n1596                 29.0                  40.0  0.99574  3.42       0.75   \n1597                 32.0                  44.0  0.99547  3.57       0.71   \n1598                 18.0                  42.0  0.99549  3.39       0.66   \n\n      alcohol  quality  \n0         9.4        5  \n1         9.8        5  \n2         9.8        5  \n3         9.8        6  \n4         9.4        5  \n...       ...      ...  \n1594     10.5        5  \n1595     11.2        6  \n1596     11.0        6  \n1597     10.2        5  \n1598     11.0        6  \n\n[1599 rows x 12 columns]",
            "text/html": "<div>\n<style scoped>\n    .dataframe tbody tr th:only-of-type {\n        vertical-align: middle;\n    }\n\n    .dataframe tbody tr th {\n        vertical-align: top;\n    }\n\n    .dataframe thead th {\n        text-align: right;\n    }\n</style>\n<table border=\"1\" class=\"dataframe\">\n  <thead>\n    <tr style=\"text-align: right;\">\n      <th></th>\n      <th>fixed acidity</th>\n      <th>volatile acidity</th>\n      <th>citric acid</th>\n      <th>residual sugar</th>\n      <th>chlorides</th>\n      <th>free sulfur dioxide</th>\n      <th>total sulfur dioxide</th>\n      <th>density</th>\n      <th>pH</th>\n      <th>sulphates</th>\n      <th>alcohol</th>\n      <th>quality</th>\n    </tr>\n  </thead>\n  <tbody>\n    <tr>\n      <th>0</th>\n      <td>7.4</td>\n      <td>0.700</td>\n      <td>0.00</td>\n      <td>1.9</td>\n      <td>0.076</td>\n      <td>11.0</td>\n      <td>34.0</td>\n      <td>0.99780</td>\n      <td>3.51</td>\n      <td>0.56</td>\n      <td>9.4</td>\n      <td>5</td>\n    </tr>\n    <tr>\n      <th>1</th>\n      <td>7.8</td>\n      <td>0.880</td>\n      <td>0.00</td>\n      <td>2.6</td>\n      <td>0.098</td>\n      <td>25.0</td>\n      <td>67.0</td>\n      <td>0.99680</td>\n      <td>3.20</td>\n      <td>0.68</td>\n      <td>9.8</td>\n      <td>5</td>\n    </tr>\n    <tr>\n      <th>2</th>\n      <td>7.8</td>\n      <td>0.760</td>\n      <td>0.04</td>\n      <td>2.3</td>\n      <td>0.092</td>\n      <td>15.0</td>\n      <td>54.0</td>\n      <td>0.99700</td>\n      <td>3.26</td>\n      <td>0.65</td>\n      <td>9.8</td>\n      <td>5</td>\n    </tr>\n    <tr>\n      <th>3</th>\n      <td>11.2</td>\n      <td>0.280</td>\n      <td>0.56</td>\n      <td>1.9</td>\n      <td>0.075</td>\n      <td>17.0</td>\n      <td>60.0</td>\n      <td>0.99800</td>\n      <td>3.16</td>\n      <td>0.58</td>\n      <td>9.8</td>\n      <td>6</td>\n    </tr>\n    <tr>\n      <th>4</th>\n      <td>7.4</td>\n      <td>0.700</td>\n      <td>0.00</td>\n      <td>1.9</td>\n      <td>0.076</td>\n      <td>11.0</td>\n      <td>34.0</td>\n      <td>0.99780</td>\n      <td>3.51</td>\n      <td>0.56</td>\n      <td>9.4</td>\n      <td>5</td>\n    </tr>\n    <tr>\n      <th>...</th>\n      <td>...</td>\n      <td>...</td>\n      <td>...</td>\n      <td>...</td>\n      <td>...</td>\n      <td>...</td>\n      <td>...</td>\n      <td>...</td>\n      <td>...</td>\n      <td>...</td>\n      <td>...</td>\n      <td>...</td>\n    </tr>\n    <tr>\n      <th>1594</th>\n      <td>6.2</td>\n      <td>0.600</td>\n      <td>0.08</td>\n      <td>2.0</td>\n      <td>0.090</td>\n      <td>32.0</td>\n      <td>44.0</td>\n      <td>0.99490</td>\n      <td>3.45</td>\n      <td>0.58</td>\n      <td>10.5</td>\n      <td>5</td>\n    </tr>\n    <tr>\n      <th>1595</th>\n      <td>5.9</td>\n      <td>0.550</td>\n      <td>0.10</td>\n      <td>2.2</td>\n      <td>0.062</td>\n      <td>39.0</td>\n      <td>51.0</td>\n      <td>0.99512</td>\n      <td>3.52</td>\n      <td>0.76</td>\n      <td>11.2</td>\n      <td>6</td>\n    </tr>\n    <tr>\n      <th>1596</th>\n      <td>6.3</td>\n      <td>0.510</td>\n      <td>0.13</td>\n      <td>2.3</td>\n      <td>0.076</td>\n      <td>29.0</td>\n      <td>40.0</td>\n      <td>0.99574</td>\n      <td>3.42</td>\n      <td>0.75</td>\n      <td>11.0</td>\n      <td>6</td>\n    </tr>\n    <tr>\n      <th>1597</th>\n      <td>5.9</td>\n      <td>0.645</td>\n      <td>0.12</td>\n      <td>2.0</td>\n      <td>0.075</td>\n      <td>32.0</td>\n      <td>44.0</td>\n      <td>0.99547</td>\n      <td>3.57</td>\n      <td>0.71</td>\n      <td>10.2</td>\n      <td>5</td>\n    </tr>\n    <tr>\n      <th>1598</th>\n      <td>6.0</td>\n      <td>0.310</td>\n      <td>0.47</td>\n      <td>3.6</td>\n      <td>0.067</td>\n      <td>18.0</td>\n      <td>42.0</td>\n      <td>0.99549</td>\n      <td>3.39</td>\n      <td>0.66</td>\n      <td>11.0</td>\n      <td>6</td>\n    </tr>\n  </tbody>\n</table>\n<p>1599 rows × 12 columns</p>\n</div>"
          },
          "metadata": {}
        }
      ]
    },
    {
      "cell_type": "code",
      "source": [
        "df.info()"
      ],
      "metadata": {
        "id": "EvytyP-Xg10c",
        "outputId": "fd235cbf-48e7-449c-baf9-8b93af36b2e8",
        "execution": {
          "iopub.status.busy": "2024-03-13T05:25:50.981908Z",
          "iopub.execute_input": "2024-03-13T05:25:50.982210Z",
          "iopub.status.idle": "2024-03-13T05:25:51.002192Z",
          "shell.execute_reply.started": "2024-03-13T05:25:50.982186Z",
          "shell.execute_reply": "2024-03-13T05:25:51.001341Z"
        },
        "trusted": true
      },
      "execution_count": null,
      "outputs": [
        {
          "name": "stdout",
          "text": "<class 'pandas.core.frame.DataFrame'>\nRangeIndex: 1599 entries, 0 to 1598\nData columns (total 12 columns):\n #   Column                Non-Null Count  Dtype  \n---  ------                --------------  -----  \n 0   fixed acidity         1599 non-null   float64\n 1   volatile acidity      1599 non-null   float64\n 2   citric acid           1599 non-null   float64\n 3   residual sugar        1599 non-null   float64\n 4   chlorides             1599 non-null   float64\n 5   free sulfur dioxide   1599 non-null   float64\n 6   total sulfur dioxide  1599 non-null   float64\n 7   density               1599 non-null   float64\n 8   pH                    1599 non-null   float64\n 9   sulphates             1599 non-null   float64\n 10  alcohol               1599 non-null   float64\n 11  quality               1599 non-null   int64  \ndtypes: float64(11), int64(1)\nmemory usage: 150.0 KB\n",
          "output_type": "stream"
        }
      ]
    },
    {
      "cell_type": "code",
      "source": [
        "y=df.quality.values\n",
        "X=df.drop(['quality'],axis=1)\n",
        "print(y)\n",
        "display(X)"
      ],
      "metadata": {
        "id": "wpn4Gw7qg10c",
        "outputId": "419c7603-0b24-4a7a-d9cf-83bf2d04e9e4",
        "execution": {
          "iopub.status.busy": "2024-03-13T05:25:51.003242Z",
          "iopub.execute_input": "2024-03-13T05:25:51.003515Z",
          "iopub.status.idle": "2024-03-13T05:25:51.030640Z",
          "shell.execute_reply.started": "2024-03-13T05:25:51.003492Z",
          "shell.execute_reply": "2024-03-13T05:25:51.029608Z"
        },
        "trusted": true
      },
      "execution_count": null,
      "outputs": [
        {
          "name": "stdout",
          "text": "[5 5 5 ... 6 5 6]\n",
          "output_type": "stream"
        },
        {
          "output_type": "display_data",
          "data": {
            "text/plain": "      fixed acidity  volatile acidity  citric acid  residual sugar  chlorides  \\\n0               7.4             0.700         0.00             1.9      0.076   \n1               7.8             0.880         0.00             2.6      0.098   \n2               7.8             0.760         0.04             2.3      0.092   \n3              11.2             0.280         0.56             1.9      0.075   \n4               7.4             0.700         0.00             1.9      0.076   \n...             ...               ...          ...             ...        ...   \n1594            6.2             0.600         0.08             2.0      0.090   \n1595            5.9             0.550         0.10             2.2      0.062   \n1596            6.3             0.510         0.13             2.3      0.076   \n1597            5.9             0.645         0.12             2.0      0.075   \n1598            6.0             0.310         0.47             3.6      0.067   \n\n      free sulfur dioxide  total sulfur dioxide  density    pH  sulphates  \\\n0                    11.0                  34.0  0.99780  3.51       0.56   \n1                    25.0                  67.0  0.99680  3.20       0.68   \n2                    15.0                  54.0  0.99700  3.26       0.65   \n3                    17.0                  60.0  0.99800  3.16       0.58   \n4                    11.0                  34.0  0.99780  3.51       0.56   \n...                   ...                   ...      ...   ...        ...   \n1594                 32.0                  44.0  0.99490  3.45       0.58   \n1595                 39.0                  51.0  0.99512  3.52       0.76   \n1596                 29.0                  40.0  0.99574  3.42       0.75   \n1597                 32.0                  44.0  0.99547  3.57       0.71   \n1598                 18.0                  42.0  0.99549  3.39       0.66   \n\n      alcohol  \n0         9.4  \n1         9.8  \n2         9.8  \n3         9.8  \n4         9.4  \n...       ...  \n1594     10.5  \n1595     11.2  \n1596     11.0  \n1597     10.2  \n1598     11.0  \n\n[1599 rows x 11 columns]",
            "text/html": "<div>\n<style scoped>\n    .dataframe tbody tr th:only-of-type {\n        vertical-align: middle;\n    }\n\n    .dataframe tbody tr th {\n        vertical-align: top;\n    }\n\n    .dataframe thead th {\n        text-align: right;\n    }\n</style>\n<table border=\"1\" class=\"dataframe\">\n  <thead>\n    <tr style=\"text-align: right;\">\n      <th></th>\n      <th>fixed acidity</th>\n      <th>volatile acidity</th>\n      <th>citric acid</th>\n      <th>residual sugar</th>\n      <th>chlorides</th>\n      <th>free sulfur dioxide</th>\n      <th>total sulfur dioxide</th>\n      <th>density</th>\n      <th>pH</th>\n      <th>sulphates</th>\n      <th>alcohol</th>\n    </tr>\n  </thead>\n  <tbody>\n    <tr>\n      <th>0</th>\n      <td>7.4</td>\n      <td>0.700</td>\n      <td>0.00</td>\n      <td>1.9</td>\n      <td>0.076</td>\n      <td>11.0</td>\n      <td>34.0</td>\n      <td>0.99780</td>\n      <td>3.51</td>\n      <td>0.56</td>\n      <td>9.4</td>\n    </tr>\n    <tr>\n      <th>1</th>\n      <td>7.8</td>\n      <td>0.880</td>\n      <td>0.00</td>\n      <td>2.6</td>\n      <td>0.098</td>\n      <td>25.0</td>\n      <td>67.0</td>\n      <td>0.99680</td>\n      <td>3.20</td>\n      <td>0.68</td>\n      <td>9.8</td>\n    </tr>\n    <tr>\n      <th>2</th>\n      <td>7.8</td>\n      <td>0.760</td>\n      <td>0.04</td>\n      <td>2.3</td>\n      <td>0.092</td>\n      <td>15.0</td>\n      <td>54.0</td>\n      <td>0.99700</td>\n      <td>3.26</td>\n      <td>0.65</td>\n      <td>9.8</td>\n    </tr>\n    <tr>\n      <th>3</th>\n      <td>11.2</td>\n      <td>0.280</td>\n      <td>0.56</td>\n      <td>1.9</td>\n      <td>0.075</td>\n      <td>17.0</td>\n      <td>60.0</td>\n      <td>0.99800</td>\n      <td>3.16</td>\n      <td>0.58</td>\n      <td>9.8</td>\n    </tr>\n    <tr>\n      <th>4</th>\n      <td>7.4</td>\n      <td>0.700</td>\n      <td>0.00</td>\n      <td>1.9</td>\n      <td>0.076</td>\n      <td>11.0</td>\n      <td>34.0</td>\n      <td>0.99780</td>\n      <td>3.51</td>\n      <td>0.56</td>\n      <td>9.4</td>\n    </tr>\n    <tr>\n      <th>...</th>\n      <td>...</td>\n      <td>...</td>\n      <td>...</td>\n      <td>...</td>\n      <td>...</td>\n      <td>...</td>\n      <td>...</td>\n      <td>...</td>\n      <td>...</td>\n      <td>...</td>\n      <td>...</td>\n    </tr>\n    <tr>\n      <th>1594</th>\n      <td>6.2</td>\n      <td>0.600</td>\n      <td>0.08</td>\n      <td>2.0</td>\n      <td>0.090</td>\n      <td>32.0</td>\n      <td>44.0</td>\n      <td>0.99490</td>\n      <td>3.45</td>\n      <td>0.58</td>\n      <td>10.5</td>\n    </tr>\n    <tr>\n      <th>1595</th>\n      <td>5.9</td>\n      <td>0.550</td>\n      <td>0.10</td>\n      <td>2.2</td>\n      <td>0.062</td>\n      <td>39.0</td>\n      <td>51.0</td>\n      <td>0.99512</td>\n      <td>3.52</td>\n      <td>0.76</td>\n      <td>11.2</td>\n    </tr>\n    <tr>\n      <th>1596</th>\n      <td>6.3</td>\n      <td>0.510</td>\n      <td>0.13</td>\n      <td>2.3</td>\n      <td>0.076</td>\n      <td>29.0</td>\n      <td>40.0</td>\n      <td>0.99574</td>\n      <td>3.42</td>\n      <td>0.75</td>\n      <td>11.0</td>\n    </tr>\n    <tr>\n      <th>1597</th>\n      <td>5.9</td>\n      <td>0.645</td>\n      <td>0.12</td>\n      <td>2.0</td>\n      <td>0.075</td>\n      <td>32.0</td>\n      <td>44.0</td>\n      <td>0.99547</td>\n      <td>3.57</td>\n      <td>0.71</td>\n      <td>10.2</td>\n    </tr>\n    <tr>\n      <th>1598</th>\n      <td>6.0</td>\n      <td>0.310</td>\n      <td>0.47</td>\n      <td>3.6</td>\n      <td>0.067</td>\n      <td>18.0</td>\n      <td>42.0</td>\n      <td>0.99549</td>\n      <td>3.39</td>\n      <td>0.66</td>\n      <td>11.0</td>\n    </tr>\n  </tbody>\n</table>\n<p>1599 rows × 11 columns</p>\n</div>"
          },
          "metadata": {}
        }
      ]
    },
    {
      "cell_type": "code",
      "source": [
        "qualities=np.unique(y)\n",
        "print(qualities)"
      ],
      "metadata": {
        "id": "n8du2NFKg10d",
        "outputId": "796b09d0-1583-4147-b22d-371f009bfb8e",
        "execution": {
          "iopub.status.busy": "2024-03-13T05:25:51.031855Z",
          "iopub.execute_input": "2024-03-13T05:25:51.032170Z",
          "iopub.status.idle": "2024-03-13T05:25:51.039251Z",
          "shell.execute_reply.started": "2024-03-13T05:25:51.032146Z",
          "shell.execute_reply": "2024-03-13T05:25:51.038301Z"
        },
        "trusted": true
      },
      "execution_count": null,
      "outputs": [
        {
          "name": "stdout",
          "text": "[3 4 5 6 7 8]\n",
          "output_type": "stream"
        }
      ]
    },
    {
      "cell_type": "code",
      "source": [
        "colors=['r','g','b','c','m','orange','yellow']\n",
        "fig=plt.figure(figsize=(10,10))\n",
        "ax=fig.add_subplot(1,1,1)\n",
        "ax.grid()\n",
        "for i in range(len(qualities)):\n",
        "    ax.hist(y[y==qualities[i]],color=colors[i])\n",
        "plt.xticks(qualities)\n",
        "plt.show()"
      ],
      "metadata": {
        "id": "0gBqpToBg10d",
        "outputId": "f79b570a-7009-4741-a6aa-97d5346ad7e8",
        "execution": {
          "iopub.status.busy": "2024-03-13T05:25:51.040306Z",
          "iopub.execute_input": "2024-03-13T05:25:51.040614Z",
          "iopub.status.idle": "2024-03-13T05:25:51.415214Z",
          "shell.execute_reply.started": "2024-03-13T05:25:51.040579Z",
          "shell.execute_reply": "2024-03-13T05:25:51.414290Z"
        },
        "trusted": true
      },
      "execution_count": null,
      "outputs": [
        {
          "output_type": "display_data",
          "data": {
            "text/plain": "<Figure size 1000x1000 with 1 Axes>",
            "image/png": "[encoded data removed]"
          },
          "metadata": {}
        }
      ]
    },
    {
      "cell_type": "code",
      "source": [
        "y[y<=5]=0\n",
        "y[y>=6]=1\n",
        "print(y)"
      ],
      "metadata": {
        "id": "NOt5CJ-pg10d",
        "outputId": "7a965e1f-e23e-4c29-eb0b-4a74a656a2b0",
        "execution": {
          "iopub.status.busy": "2024-03-13T05:25:51.416351Z",
          "iopub.execute_input": "2024-03-13T05:25:51.416628Z",
          "iopub.status.idle": "2024-03-13T05:25:51.423555Z",
          "shell.execute_reply.started": "2024-03-13T05:25:51.416602Z",
          "shell.execute_reply": "2024-03-13T05:25:51.422452Z"
        },
        "trusted": true
      },
      "execution_count": null,
      "outputs": [
        {
          "name": "stdout",
          "text": "[0 0 0 ... 1 0 1]\n",
          "output_type": "stream"
        }
      ]
    },
    {
      "cell_type": "code",
      "source": [
        "feature_names=X.columns.values\n",
        "print(feature_names)"
      ],
      "metadata": {
        "id": "i-QJh9lAg10e",
        "outputId": "faf31b65-b817-48c8-ad2a-f5fbf01a678b",
        "execution": {
          "iopub.status.busy": "2024-03-13T05:25:51.428763Z",
          "iopub.execute_input": "2024-03-13T05:25:51.429049Z",
          "iopub.status.idle": "2024-03-13T05:25:51.434255Z",
          "shell.execute_reply.started": "2024-03-13T05:25:51.429026Z",
          "shell.execute_reply": "2024-03-13T05:25:51.433190Z"
        },
        "trusted": true
      },
      "execution_count": null,
      "outputs": [
        {
          "name": "stdout",
          "text": "['fixed acidity' 'volatile acidity' 'citric acid' 'residual sugar'\n 'chlorides' 'free sulfur dioxide' 'total sulfur dioxide' 'density' 'pH'\n 'sulphates' 'alcohol']\n",
          "output_type": "stream"
        }
      ]
    },
    {
      "cell_type": "markdown",
      "source": [
        "## **Preprocessing of the dataset, using StandardScaler**"
      ],
      "metadata": {
        "id": "OolHcvaBg10e"
      }
    },
    {
      "cell_type": "code",
      "source": [
        "for col in X.columns:\n",
        "    ss=StandardScaler()\n",
        "    X[col]=ss.fit_transform(X[col].values.reshape(-1,1)).reshape(-1,1)\n",
        "X.describe()\n",
        "X=X.values\n",
        "print(X)"
      ],
      "metadata": {
        "id": "-CQ4RY4xg10e",
        "outputId": "bf4ec7ab-7396-4130-a10a-5f4d615dbe0d",
        "execution": {
          "iopub.status.busy": "2024-03-13T05:25:51.435469Z",
          "iopub.execute_input": "2024-03-13T05:25:51.435817Z",
          "iopub.status.idle": "2024-03-13T05:25:51.473494Z",
          "shell.execute_reply.started": "2024-03-13T05:25:51.435777Z",
          "shell.execute_reply": "2024-03-13T05:25:51.472572Z"
        },
        "trusted": true
      },
      "execution_count": null,
      "outputs": [
        {
          "name": "stdout",
          "text": "[[-0.52835961  0.96187667 -1.39147228 ...  1.28864292 -0.57920652\n  -0.96024611]\n [-0.29854743  1.96744245 -1.39147228 ... -0.7199333   0.1289504\n  -0.58477711]\n [-0.29854743  1.29706527 -1.18607043 ... -0.33117661 -0.04808883\n  -0.58477711]\n ...\n [-1.1603431  -0.09955388 -0.72391627 ...  0.70550789  0.54204194\n   0.54162988]\n [-1.39015528  0.65462046 -0.77526673 ...  1.6773996   0.30598963\n  -0.20930812]\n [-1.33270223 -1.21684919  1.02199944 ...  0.51112954  0.01092425\n   0.54162988]]\n",
          "output_type": "stream"
        }
      ]
    },
    {
      "cell_type": "code",
      "source": [
        "f1s[0],stds[0]=estimate(X,y)\n",
        "methods.append('Original Dataset')\n",
        "print(f1s[0],stds[0])"
      ],
      "metadata": {
        "id": "DXlSNNJ8g10e",
        "outputId": "cf5c6806-c825-4fc6-a5e4-8544bd83311d",
        "execution": {
          "iopub.status.busy": "2024-03-13T05:25:51.474638Z",
          "iopub.execute_input": "2024-03-13T05:25:51.475457Z",
          "iopub.status.idle": "2024-03-13T05:25:52.759033Z",
          "shell.execute_reply.started": "2024-03-13T05:25:51.475422Z",
          "shell.execute_reply": "2024-03-13T05:25:52.757883Z"
        },
        "trusted": true
      },
      "execution_count": null,
      "outputs": [
        {
          "name": "stdout",
          "text": "0.7498039392219116 0.05504509865907445\n",
          "output_type": "stream"
        }
      ]
    },
    {
      "cell_type": "markdown",
      "source": [
        "## **Univariate feature selection**"
      ],
      "metadata": {
        "id": "HOnh1N8mg10e"
      }
    },
    {
      "cell_type": "code",
      "source": [
        "n_features=4\n",
        "us=GenericUnivariateSelect(mode='k_best')\n",
        "us.fit(X,y)\n",
        "print(us.n_features_in_)\n",
        "print(us.scores_)\n",
        "ind=np.argsort(np.array(us.scores_))\n",
        "mask=(ind>len(ind)-n_features-1)\n",
        "print(feature_names[mask])"
      ],
      "metadata": {
        "id": "S_c6E8mEg10f",
        "outputId": "4f79e8f0-cb2b-4c5d-878b-c6ba9cad716c",
        "execution": {
          "iopub.status.busy": "2024-03-13T05:25:52.760276Z",
          "iopub.execute_input": "2024-03-13T05:25:52.760572Z",
          "iopub.status.idle": "2024-03-13T05:25:52.769963Z",
          "shell.execute_reply.started": "2024-03-13T05:25:52.760547Z",
          "shell.execute_reply": "2024-03-13T05:25:52.769099Z"
        },
        "trusted": true
      },
      "execution_count": null,
      "outputs": [
        {
          "name": "stdout",
          "text": "11\n[1.45730876e+01 1.84022796e+02 4.14901228e+01 7.45410259e-03\n 1.93786591e+01 6.11410958e+00 9.08160161e+01 4.14797235e+01\n 1.70139626e-02 7.97376798e+01 3.72194765e+02]\n['volatile acidity' 'free sulfur dioxide' 'density' 'alcohol']\n",
          "output_type": "stream"
        }
      ]
    },
    {
      "cell_type": "code",
      "source": [
        "f1s[1],stds[1]=estimate(X[:,mask],y)\n",
        "methods.append('UnivariateFeatureSelector')\n",
        "print(f1s[1],stds[1])"
      ],
      "metadata": {
        "id": "e9upD4I_g10f",
        "outputId": "1663b670-a0a8-4901-afcd-d070e4a73b68",
        "execution": {
          "iopub.status.busy": "2024-03-13T05:25:52.771008Z",
          "iopub.execute_input": "2024-03-13T05:25:52.771332Z",
          "iopub.status.idle": "2024-03-13T05:25:54.065120Z",
          "shell.execute_reply.started": "2024-03-13T05:25:52.771309Z",
          "shell.execute_reply": "2024-03-13T05:25:54.064132Z"
        },
        "trusted": true
      },
      "execution_count": null,
      "outputs": [
        {
          "name": "stdout",
          "text": "0.7317455093382683 0.07049997950763667\n",
          "output_type": "stream"
        }
      ]
    },
    {
      "cell_type": "markdown",
      "source": [
        "## **Recurcive feature elemination**"
      ],
      "metadata": {
        "id": "OvMCNGvig10f"
      }
    },
    {
      "cell_type": "code",
      "source": [
        "n_features=4\n",
        "rfe=RFE(estimator=RandomForestClassifier(max_depth=3),n_features_to_select=n_features).fit(X,y)\n",
        "print(rfe.n_features_in_)\n",
        "print(rfe.n_features_)\n",
        "print(rfe.ranking_)\n",
        "print(rfe.estimator_.feature_importances_)\n",
        "mask=[True if x==1 else False for x in rfe.ranking_ ]\n",
        "print(feature_names[mask])"
      ],
      "metadata": {
        "id": "Ie7toC_cg10f",
        "outputId": "025ca7aa-4d9b-4052-a450-184e7a9fa4f8",
        "execution": {
          "iopub.status.busy": "2024-03-13T05:25:54.066415Z",
          "iopub.execute_input": "2024-03-13T05:25:54.066782Z",
          "iopub.status.idle": "2024-03-13T05:25:56.108256Z",
          "shell.execute_reply.started": "2024-03-13T05:25:54.066745Z",
          "shell.execute_reply": "2024-03-13T05:25:56.107299Z"
        },
        "trusted": true
      },
      "execution_count": null,
      "outputs": [
        {
          "name": "stdout",
          "text": "11\n4\n[4 1 3 8 5 7 1 2 6 1 1]\n[0.18313971 0.09452059 0.22199372 0.50034599]\n['volatile acidity' 'total sulfur dioxide' 'sulphates' 'alcohol']\n",
          "output_type": "stream"
        }
      ]
    },
    {
      "cell_type": "code",
      "source": [
        "f1s[2],stds[2]=estimate(X[:,mask],y)\n",
        "methods.append('RFE')\n",
        "print(f1s[2],stds[2])"
      ],
      "metadata": {
        "id": "avClnPQHg10f",
        "outputId": "73c80596-6b6a-44ad-d8af-36e85e8c668a",
        "execution": {
          "iopub.status.busy": "2024-03-13T05:25:56.109604Z",
          "iopub.execute_input": "2024-03-13T05:25:56.110045Z",
          "iopub.status.idle": "2024-03-13T05:25:57.295671Z",
          "shell.execute_reply.started": "2024-03-13T05:25:56.110010Z",
          "shell.execute_reply": "2024-03-13T05:25:57.294806Z"
        },
        "trusted": true
      },
      "execution_count": null,
      "outputs": [
        {
          "name": "stdout",
          "text": "0.7544122782452793 0.04029885017379579\n",
          "output_type": "stream"
        }
      ]
    },
    {
      "cell_type": "markdown",
      "source": [
        "## **Recurcive feature elimination with cross-validation**"
      ],
      "metadata": {
        "id": "g2ZhZ5lJg10f"
      }
    },
    {
      "cell_type": "code",
      "source": [
        "rfecv=RFECV(RandomForestClassifier(max_depth=3),scoring='f1').fit(X,y)\n",
        "print(rfecv.n_features_in_)\n",
        "print(rfecv.n_features_)\n",
        "print(rfecv.ranking_)\n",
        "print(rfecv.estimator_.feature_importances_)\n",
        "mask=[True if x==1 else False for x in rfecv.ranking_ ]\n",
        "print(feature_names[mask])"
      ],
      "metadata": {
        "id": "yJknh8APg10g",
        "outputId": "80cc91d5-2e51-4647-c8ee-bcc33c7674f9",
        "execution": {
          "iopub.status.busy": "2024-03-13T05:25:57.296693Z",
          "iopub.execute_input": "2024-03-13T05:25:57.296975Z",
          "iopub.status.idle": "2024-03-13T05:26:13.095222Z",
          "shell.execute_reply.started": "2024-03-13T05:25:57.296951Z",
          "shell.execute_reply": "2024-03-13T05:26:13.094245Z"
        },
        "trusted": true
      },
      "execution_count": null,
      "outputs": [
        {
          "name": "stdout",
          "text": "11\n3\n[6 1 4 9 5 8 2 3 7 1 1]\n[0.24633909 0.32837391 0.425287  ]\n['volatile acidity' 'sulphates' 'alcohol']\n",
          "output_type": "stream"
        }
      ]
    },
    {
      "cell_type": "code",
      "source": [
        "f1s[3],stds[3]=estimate(X[:,mask],y)\n",
        "methods.append('RFECV')\n",
        "print(f1s[3],stds[3])"
      ],
      "metadata": {
        "id": "n5X-21Ung10g",
        "outputId": "d755615e-84e1-46e8-ffe6-9c565765f965",
        "execution": {
          "iopub.status.busy": "2024-03-13T05:26:13.096439Z",
          "iopub.execute_input": "2024-03-13T05:26:13.097188Z",
          "iopub.status.idle": "2024-03-13T05:26:14.199761Z",
          "shell.execute_reply.started": "2024-03-13T05:26:13.097159Z",
          "shell.execute_reply": "2024-03-13T05:26:14.198787Z"
        },
        "trusted": true
      },
      "execution_count": null,
      "outputs": [
        {
          "name": "stdout",
          "text": "0.7471023612696669 0.037595670499357\n",
          "output_type": "stream"
        }
      ]
    },
    {
      "cell_type": "markdown",
      "source": [
        "## **Sequential feature selection**"
      ],
      "metadata": {
        "id": "dV0nKzJpg10g"
      }
    },
    {
      "cell_type": "markdown",
      "source": [
        "### **Forward**"
      ],
      "metadata": {
        "id": "q7fGYCG1g10g"
      }
    },
    {
      "cell_type": "code",
      "source": [
        "sf=SequentialFeatureSelector(RandomForestClassifier(max_depth=3),n_features_to_select='auto',direction='forward').fit(X,y)\n",
        "print(sf.n_features_in_)\n",
        "print(sf.n_features_to_select_)\n",
        "print(feature_names[sf.support_])"
      ],
      "metadata": {
        "id": "iowQZDsFg10g",
        "outputId": "2e2da2a3-9939-4a25-a75b-9103498cb957",
        "execution": {
          "iopub.status.busy": "2024-03-13T05:26:14.200779Z",
          "iopub.execute_input": "2024-03-13T05:26:14.201052Z",
          "iopub.status.idle": "2024-03-13T05:27:04.028104Z",
          "shell.execute_reply.started": "2024-03-13T05:26:14.201031Z",
          "shell.execute_reply": "2024-03-13T05:27:04.027163Z"
        },
        "trusted": true
      },
      "execution_count": null,
      "outputs": [
        {
          "name": "stdout",
          "text": "11\n5\n['volatile acidity' 'chlorides' 'total sulfur dioxide' 'sulphates'\n 'alcohol']\n",
          "output_type": "stream"
        }
      ]
    },
    {
      "cell_type": "code",
      "source": [
        "f1s[4],stds[4]=estimate(X[:,sf.support_],y)\n",
        "methods.append('SFS(sklearn)')\n",
        "print(f1s[4],stds[4])"
      ],
      "metadata": {
        "id": "Ab6ch5PJg10g",
        "outputId": "23ee0766-6c78-454e-fd75-0cc5214b104d",
        "execution": {
          "iopub.status.busy": "2024-03-13T05:27:04.029421Z",
          "iopub.execute_input": "2024-03-13T05:27:04.030140Z",
          "iopub.status.idle": "2024-03-13T05:27:05.203999Z",
          "shell.execute_reply.started": "2024-03-13T05:27:04.030102Z",
          "shell.execute_reply": "2024-03-13T05:27:05.203079Z"
        },
        "trusted": true
      },
      "execution_count": null,
      "outputs": [
        {
          "name": "stdout",
          "text": "0.7533715461571876 0.040659445515688404\n",
          "output_type": "stream"
        }
      ]
    },
    {
      "cell_type": "markdown",
      "source": [
        "### **Backward**"
      ],
      "metadata": {
        "id": "VLiWZFEzg10g"
      }
    },
    {
      "cell_type": "code",
      "source": [
        "sb=SequentialFeatureSelector(RandomForestClassifier(max_depth=3),n_features_to_select='auto',direction='backward').fit(X,y)\n",
        "print(sb.n_features_in_)\n",
        "print(sb.n_features_to_select_)\n",
        "print(feature_names[sb.support_])"
      ],
      "metadata": {
        "id": "_YpBBEl-g10h",
        "outputId": "d1055272-ac03-4318-8c63-37b1079fdaef",
        "execution": {
          "iopub.status.busy": "2024-03-13T05:27:05.205120Z",
          "iopub.execute_input": "2024-03-13T05:27:05.205370Z",
          "iopub.status.idle": "2024-03-13T05:27:59.575167Z",
          "shell.execute_reply.started": "2024-03-13T05:27:05.205348Z",
          "shell.execute_reply": "2024-03-13T05:27:59.574226Z"
        },
        "trusted": true
      },
      "execution_count": null,
      "outputs": [
        {
          "name": "stdout",
          "text": "11\n6\n['volatile acidity' 'residual sugar' 'total sulfur dioxide' 'density'\n 'sulphates' 'alcohol']\n",
          "output_type": "stream"
        }
      ]
    },
    {
      "cell_type": "code",
      "source": [
        "f1s[5],stds[5]=estimate(X[:,sb.support_],y)\n",
        "methods.append('SBS(sklearn)')\n",
        "print(f1s[5],stds[5])"
      ],
      "metadata": {
        "id": "4ya-0FDrg10h",
        "outputId": "1097ebf4-6d5c-4c5e-e436-9cb6544e0f28",
        "execution": {
          "iopub.status.busy": "2024-03-13T05:27:59.576402Z",
          "iopub.execute_input": "2024-03-13T05:27:59.577048Z",
          "iopub.status.idle": "2024-03-13T05:28:00.757409Z",
          "shell.execute_reply.started": "2024-03-13T05:27:59.577013Z",
          "shell.execute_reply": "2024-03-13T05:28:00.756348Z"
        },
        "trusted": true
      },
      "execution_count": null,
      "outputs": [
        {
          "name": "stdout",
          "text": "0.7531007825470439 0.04589324133211703\n",
          "output_type": "stream"
        }
      ]
    },
    {
      "cell_type": "markdown",
      "source": [
        "## **Selection from model**"
      ],
      "metadata": {
        "id": "V1ZwFxGUg10h"
      }
    },
    {
      "cell_type": "markdown",
      "source": [
        "### **Logistic Regression**"
      ],
      "metadata": {
        "id": "vxJGNfGXg10h"
      }
    },
    {
      "cell_type": "code",
      "source": [
        "sfm_lr=SelectFromModel(LogisticRegression(penalty='l1',solver='liblinear',C=0.01)).fit(X,y)\n",
        "print(sfm_lr.estimator_.coef_)\n",
        "print(sfm_lr.threshold_)\n",
        "print(feature_names[sfm_lr.get_support()])"
      ],
      "metadata": {
        "id": "hslUCBgWg10h",
        "outputId": "c0755a5d-72e6-446f-98bd-94bd310706f3",
        "execution": {
          "iopub.status.busy": "2024-03-13T05:28:00.758512Z",
          "iopub.execute_input": "2024-03-13T05:28:00.758812Z",
          "iopub.status.idle": "2024-03-13T05:28:00.768477Z",
          "shell.execute_reply.started": "2024-03-13T05:28:00.758786Z",
          "shell.execute_reply": "2024-03-13T05:28:00.767507Z"
        },
        "trusted": true
      },
      "execution_count": null,
      "outputs": [
        {
          "name": "stdout",
          "text": "[[ 0.         -0.2852757   0.          0.          0.          0.\n  -0.08909564  0.          0.          0.0754699   0.60946331]]\n1e-05\n['volatile acidity' 'total sulfur dioxide' 'sulphates' 'alcohol']\n",
          "output_type": "stream"
        }
      ]
    },
    {
      "cell_type": "code",
      "source": [
        "f1s[6],stds[6]=estimate(X[:,sfm_lr.get_support()],y)\n",
        "methods.append('SelectFromModel+LogisticRegression')\n",
        "print(f1s[6],stds[6])"
      ],
      "metadata": {
        "id": "I8zpACV_g10h",
        "outputId": "eef714be-3625-490e-8d5b-5ab0cdd884b3",
        "execution": {
          "iopub.status.busy": "2024-03-13T05:28:00.769723Z",
          "iopub.execute_input": "2024-03-13T05:28:00.770061Z",
          "iopub.status.idle": "2024-03-13T05:28:01.953778Z",
          "shell.execute_reply.started": "2024-03-13T05:28:00.770029Z",
          "shell.execute_reply": "2024-03-13T05:28:01.952892Z"
        },
        "trusted": true
      },
      "execution_count": null,
      "outputs": [
        {
          "name": "stdout",
          "text": "0.7535998426712945 0.042764397789511424\n",
          "output_type": "stream"
        }
      ]
    },
    {
      "cell_type": "markdown",
      "source": [
        "### **Random Forest**"
      ],
      "metadata": {
        "id": "EjkfoDGmg10i"
      }
    },
    {
      "cell_type": "code",
      "source": [
        "sfm_rf=SelectFromModel(RandomForestClassifier(max_depth=3)).fit(X,y)\n",
        "print(sfm_rf.estimator_.feature_importances_)\n",
        "print(sfm_rf.threshold_)\n",
        "print(feature_names[sfm_rf.get_support()])"
      ],
      "metadata": {
        "id": "qyJ944VLg10i",
        "outputId": "6a0e7433-a3a4-42fb-8ff1-8765f313af06",
        "execution": {
          "iopub.status.busy": "2024-03-13T05:28:01.955014Z",
          "iopub.execute_input": "2024-03-13T05:28:01.955331Z",
          "iopub.status.idle": "2024-03-13T05:28:02.231981Z",
          "shell.execute_reply.started": "2024-03-13T05:28:01.955300Z",
          "shell.execute_reply": "2024-03-13T05:28:02.231094Z"
        },
        "trusted": true
      },
      "execution_count": null,
      "outputs": [
        {
          "name": "stdout",
          "text": "[0.02109225 0.13392236 0.03487201 0.00647087 0.02957494 0.01210286\n 0.10707778 0.04567988 0.01306503 0.1780282  0.4181138 ]\n0.09090909090909091\n['volatile acidity' 'total sulfur dioxide' 'sulphates' 'alcohol']\n",
          "output_type": "stream"
        }
      ]
    },
    {
      "cell_type": "code",
      "source": [
        "f1s[7],stds[7]=estimate(X[:,sfm_rf.get_support()],y)\n",
        "methods.append('SelectFromModel+RandomForestClassifier')\n",
        "print(f1s[7],stds[7])"
      ],
      "metadata": {
        "id": "L7W51KsSg10i",
        "outputId": "d238eaa6-7307-4d9a-8fd2-ac359f3bf7fe",
        "execution": {
          "iopub.status.busy": "2024-03-13T05:28:02.233098Z",
          "iopub.execute_input": "2024-03-13T05:28:02.233379Z",
          "iopub.status.idle": "2024-03-13T05:28:03.412757Z",
          "shell.execute_reply.started": "2024-03-13T05:28:02.233356Z",
          "shell.execute_reply": "2024-03-13T05:28:03.411827Z"
        },
        "trusted": true
      },
      "execution_count": null,
      "outputs": [
        {
          "name": "stdout",
          "text": "0.7514244036799668 0.041256508989224075\n",
          "output_type": "stream"
        }
      ]
    },
    {
      "cell_type": "markdown",
      "source": [
        "## **ColumnSelector**"
      ],
      "metadata": {
        "id": "bvA8BtTLg10q"
      }
    },
    {
      "cell_type": "code",
      "source": [
        "n_features=4\n",
        "all_comb=list(combinations(range(len(feature_names)),r=n_features))\n",
        "print(all_comb)\n",
        "print(len(all_comb))"
      ],
      "metadata": {
        "id": "0t08Ttbsg10q",
        "outputId": "a68e3c3b-5dc5-47e7-e4ac-0eb95c8a1446",
        "execution": {
          "iopub.status.busy": "2024-03-13T05:28:03.413787Z",
          "iopub.execute_input": "2024-03-13T05:28:03.414096Z",
          "iopub.status.idle": "2024-03-13T05:28:03.419791Z",
          "shell.execute_reply.started": "2024-03-13T05:28:03.414071Z",
          "shell.execute_reply": "2024-03-13T05:28:03.418976Z"
        },
        "trusted": true
      },
      "execution_count": null,
      "outputs": [
        {
          "name": "stdout",
          "text": "[(0, 1, 2, 3), (0, 1, 2, 4), (0, 1, 2, 5), (0, 1, 2, 6), (0, 1, 2, 7), (0, 1, 2, 8), (0, 1, 2, 9), (0, 1, 2, 10), (0, 1, 3, 4), (0, 1, 3, 5), (0, 1, 3, 6), (0, 1, 3, 7), (0, 1, 3, 8), (0, 1, 3, 9), (0, 1, 3, 10), (0, 1, 4, 5), (0, 1, 4, 6), (0, 1, 4, 7), (0, 1, 4, 8), (0, 1, 4, 9), (0, 1, 4, 10), (0, 1, 5, 6), (0, 1, 5, 7), (0, 1, 5, 8), (0, 1, 5, 9), (0, 1, 5, 10), (0, 1, 6, 7), (0, 1, 6, 8), (0, 1, 6, 9), (0, 1, 6, 10), (0, 1, 7, 8), (0, 1, 7, 9), (0, 1, 7, 10), (0, 1, 8, 9), (0, 1, 8, 10), (0, 1, 9, 10), (0, 2, 3, 4), (0, 2, 3, 5), (0, 2, 3, 6), (0, 2, 3, 7), (0, 2, 3, 8), (0, 2, 3, 9), (0, 2, 3, 10), (0, 2, 4, 5), (0, 2, 4, 6), (0, 2, 4, 7), (0, 2, 4, 8), (0, 2, 4, 9), (0, 2, 4, 10), (0, 2, 5, 6), (0, 2, 5, 7), (0, 2, 5, 8), (0, 2, 5, 9), (0, 2, 5, 10), (0, 2, 6, 7), (0, 2, 6, 8), (0, 2, 6, 9), (0, 2, 6, 10), (0, 2, 7, 8), (0, 2, 7, 9), (0, 2, 7, 10), (0, 2, 8, 9), (0, 2, 8, 10), (0, 2, 9, 10), (0, 3, 4, 5), (0, 3, 4, 6), (0, 3, 4, 7), (0, 3, 4, 8), (0, 3, 4, 9), (0, 3, 4, 10), (0, 3, 5, 6), (0, 3, 5, 7), (0, 3, 5, 8), (0, 3, 5, 9), (0, 3, 5, 10), (0, 3, 6, 7), (0, 3, 6, 8), (0, 3, 6, 9), (0, 3, 6, 10), (0, 3, 7, 8), (0, 3, 7, 9), (0, 3, 7, 10), (0, 3, 8, 9), (0, 3, 8, 10), (0, 3, 9, 10), (0, 4, 5, 6), (0, 4, 5, 7), (0, 4, 5, 8), (0, 4, 5, 9), (0, 4, 5, 10), (0, 4, 6, 7), (0, 4, 6, 8), (0, 4, 6, 9), (0, 4, 6, 10), (0, 4, 7, 8), (0, 4, 7, 9), (0, 4, 7, 10), (0, 4, 8, 9), (0, 4, 8, 10), (0, 4, 9, 10), (0, 5, 6, 7), (0, 5, 6, 8), (0, 5, 6, 9), (0, 5, 6, 10), (0, 5, 7, 8), (0, 5, 7, 9), (0, 5, 7, 10), (0, 5, 8, 9), (0, 5, 8, 10), (0, 5, 9, 10), (0, 6, 7, 8), (0, 6, 7, 9), (0, 6, 7, 10), (0, 6, 8, 9), (0, 6, 8, 10), (0, 6, 9, 10), (0, 7, 8, 9), (0, 7, 8, 10), (0, 7, 9, 10), (0, 8, 9, 10), (1, 2, 3, 4), (1, 2, 3, 5), (1, 2, 3, 6), (1, 2, 3, 7), (1, 2, 3, 8), (1, 2, 3, 9), (1, 2, 3, 10), (1, 2, 4, 5), (1, 2, 4, 6), (1, 2, 4, 7), (1, 2, 4, 8), (1, 2, 4, 9), (1, 2, 4, 10), (1, 2, 5, 6), (1, 2, 5, 7), (1, 2, 5, 8), (1, 2, 5, 9), (1, 2, 5, 10), (1, 2, 6, 7), (1, 2, 6, 8), (1, 2, 6, 9), (1, 2, 6, 10), (1, 2, 7, 8), (1, 2, 7, 9), (1, 2, 7, 10), (1, 2, 8, 9), (1, 2, 8, 10), (1, 2, 9, 10), (1, 3, 4, 5), (1, 3, 4, 6), (1, 3, 4, 7), (1, 3, 4, 8), (1, 3, 4, 9), (1, 3, 4, 10), (1, 3, 5, 6), (1, 3, 5, 7), (1, 3, 5, 8), (1, 3, 5, 9), (1, 3, 5, 10), (1, 3, 6, 7), (1, 3, 6, 8), (1, 3, 6, 9), (1, 3, 6, 10), (1, 3, 7, 8), (1, 3, 7, 9), (1, 3, 7, 10), (1, 3, 8, 9), (1, 3, 8, 10), (1, 3, 9, 10), (1, 4, 5, 6), (1, 4, 5, 7), (1, 4, 5, 8), (1, 4, 5, 9), (1, 4, 5, 10), (1, 4, 6, 7), (1, 4, 6, 8), (1, 4, 6, 9), (1, 4, 6, 10), (1, 4, 7, 8), (1, 4, 7, 9), (1, 4, 7, 10), (1, 4, 8, 9), (1, 4, 8, 10), (1, 4, 9, 10), (1, 5, 6, 7), (1, 5, 6, 8), (1, 5, 6, 9), (1, 5, 6, 10), (1, 5, 7, 8), (1, 5, 7, 9), (1, 5, 7, 10), (1, 5, 8, 9), (1, 5, 8, 10), (1, 5, 9, 10), (1, 6, 7, 8), (1, 6, 7, 9), (1, 6, 7, 10), (1, 6, 8, 9), (1, 6, 8, 10), (1, 6, 9, 10), (1, 7, 8, 9), (1, 7, 8, 10), (1, 7, 9, 10), (1, 8, 9, 10), (2, 3, 4, 5), (2, 3, 4, 6), (2, 3, 4, 7), (2, 3, 4, 8), (2, 3, 4, 9), (2, 3, 4, 10), (2, 3, 5, 6), (2, 3, 5, 7), (2, 3, 5, 8), (2, 3, 5, 9), (2, 3, 5, 10), (2, 3, 6, 7), (2, 3, 6, 8), (2, 3, 6, 9), (2, 3, 6, 10), (2, 3, 7, 8), (2, 3, 7, 9), (2, 3, 7, 10), (2, 3, 8, 9), (2, 3, 8, 10), (2, 3, 9, 10), (2, 4, 5, 6), (2, 4, 5, 7), (2, 4, 5, 8), (2, 4, 5, 9), (2, 4, 5, 10), (2, 4, 6, 7), (2, 4, 6, 8), (2, 4, 6, 9), (2, 4, 6, 10), (2, 4, 7, 8), (2, 4, 7, 9), (2, 4, 7, 10), (2, 4, 8, 9), (2, 4, 8, 10), (2, 4, 9, 10), (2, 5, 6, 7), (2, 5, 6, 8), (2, 5, 6, 9), (2, 5, 6, 10), (2, 5, 7, 8), (2, 5, 7, 9), (2, 5, 7, 10), (2, 5, 8, 9), (2, 5, 8, 10), (2, 5, 9, 10), (2, 6, 7, 8), (2, 6, 7, 9), (2, 6, 7, 10), (2, 6, 8, 9), (2, 6, 8, 10), (2, 6, 9, 10), (2, 7, 8, 9), (2, 7, 8, 10), (2, 7, 9, 10), (2, 8, 9, 10), (3, 4, 5, 6), (3, 4, 5, 7), (3, 4, 5, 8), (3, 4, 5, 9), (3, 4, 5, 10), (3, 4, 6, 7), (3, 4, 6, 8), (3, 4, 6, 9), (3, 4, 6, 10), (3, 4, 7, 8), (3, 4, 7, 9), (3, 4, 7, 10), (3, 4, 8, 9), (3, 4, 8, 10), (3, 4, 9, 10), (3, 5, 6, 7), (3, 5, 6, 8), (3, 5, 6, 9), (3, 5, 6, 10), (3, 5, 7, 8), (3, 5, 7, 9), (3, 5, 7, 10), (3, 5, 8, 9), (3, 5, 8, 10), (3, 5, 9, 10), (3, 6, 7, 8), (3, 6, 7, 9), (3, 6, 7, 10), (3, 6, 8, 9), (3, 6, 8, 10), (3, 6, 9, 10), (3, 7, 8, 9), (3, 7, 8, 10), (3, 7, 9, 10), (3, 8, 9, 10), (4, 5, 6, 7), (4, 5, 6, 8), (4, 5, 6, 9), (4, 5, 6, 10), (4, 5, 7, 8), (4, 5, 7, 9), (4, 5, 7, 10), (4, 5, 8, 9), (4, 5, 8, 10), (4, 5, 9, 10), (4, 6, 7, 8), (4, 6, 7, 9), (4, 6, 7, 10), (4, 6, 8, 9), (4, 6, 8, 10), (4, 6, 9, 10), (4, 7, 8, 9), (4, 7, 8, 10), (4, 7, 9, 10), (4, 8, 9, 10), (5, 6, 7, 8), (5, 6, 7, 9), (5, 6, 7, 10), (5, 6, 8, 9), (5, 6, 8, 10), (5, 6, 9, 10), (5, 7, 8, 9), (5, 7, 8, 10), (5, 7, 9, 10), (5, 8, 9, 10), (6, 7, 8, 9), (6, 7, 8, 10), (6, 7, 9, 10), (6, 8, 9, 10), (7, 8, 9, 10)]\n330\n",
          "output_type": "stream"
        }
      ]
    },
    {
      "cell_type": "code",
      "source": [
        "pipeline=make_pipeline(ColumnSelector(),RandomForestClassifier(max_depth=3))\n",
        "param_grid={'columnselector__cols':all_comb}\n",
        "grid=GridSearchCV(pipeline,param_grid,cv=5,scoring='f1')\n",
        "grid.fit(X,y)\n",
        "print('Best parameters:',grid.best_params_)\n",
        "print('Best performance:',grid.best_score_)\n",
        "print(feature_names[list(grid.best_params_['columnselector__cols'])])"
      ],
      "metadata": {
        "id": "J_-wwio8g10q",
        "outputId": "9c93136f-be9a-4ec3-fbe4-641a2da6bdd2",
        "execution": {
          "iopub.status.busy": "2024-03-13T05:28:03.429225Z",
          "iopub.execute_input": "2024-03-13T05:28:03.429561Z",
          "iopub.status.idle": "2024-03-13T05:34:39.928957Z",
          "shell.execute_reply.started": "2024-03-13T05:28:03.429536Z",
          "shell.execute_reply": "2024-03-13T05:34:39.927983Z"
        },
        "trusted": true
      },
      "execution_count": null,
      "outputs": [
        {
          "name": "stdout",
          "text": "Best parameters: {'columnselector__cols': (1, 6, 9, 10)}\nBest performance: 0.7531753693240977\n['volatile acidity' 'total sulfur dioxide' 'sulphates' 'alcohol']\n",
          "output_type": "stream"
        }
      ]
    },
    {
      "cell_type": "code",
      "source": [
        "f1s[8],stds[8]=estimate(X[:,list(grid.best_params_['columnselector__cols'])],y)\n",
        "methods.append('ColumnSelector+GridSearchCV')\n",
        "print(f1s[8],stds[8])"
      ],
      "metadata": {
        "id": "kzzNKMkzg10q",
        "outputId": "29dba607-3522-4ff1-8416-6ca7b76bfc67",
        "execution": {
          "iopub.status.busy": "2024-03-13T05:34:39.930025Z",
          "iopub.execute_input": "2024-03-13T05:34:39.930279Z",
          "iopub.status.idle": "2024-03-13T05:34:41.158637Z",
          "shell.execute_reply.started": "2024-03-13T05:34:39.930258Z",
          "shell.execute_reply": "2024-03-13T05:34:41.157686Z"
        },
        "trusted": true
      },
      "execution_count": null,
      "outputs": [
        {
          "name": "stdout",
          "text": "0.7503532184566438 0.04023447781597983\n",
          "output_type": "stream"
        }
      ]
    },
    {
      "cell_type": "markdown",
      "source": [
        "## **Sequential feature selection (mlxtend)**"
      ],
      "metadata": {
        "id": "KC34fadHg10r"
      }
    },
    {
      "cell_type": "markdown",
      "source": [
        "### **Forward**"
      ],
      "metadata": {
        "id": "6qgTfNuog10r"
      }
    },
    {
      "cell_type": "code",
      "source": [
        "sf_=SFS(RandomForestClassifier(max_depth=3),k_features='best',forward=True,scoring='f1')\n",
        "sf_=sf_.fit(X, y)\n",
        "print(sf_.k_feature_idx_)\n",
        "print(feature_names[list(sf_.k_feature_idx_)])\n",
        "print(sf_.k_score_)"
      ],
      "metadata": {
        "id": "slUi8rV_g10r",
        "outputId": "f91c84f9-0b8f-4a2b-f5d5-efd888cb0387",
        "execution": {
          "iopub.status.busy": "2024-03-13T05:34:41.159742Z",
          "iopub.execute_input": "2024-03-13T05:34:41.160042Z",
          "iopub.status.idle": "2024-03-13T05:35:58.348269Z",
          "shell.execute_reply.started": "2024-03-13T05:34:41.160018Z",
          "shell.execute_reply": "2024-03-13T05:35:58.347216Z"
        },
        "trusted": true
      },
      "execution_count": null,
      "outputs": [
        {
          "name": "stdout",
          "text": "(0, 1, 5, 6, 8, 9, 10)\n['fixed acidity' 'volatile acidity' 'free sulfur dioxide'\n 'total sulfur dioxide' 'pH' 'sulphates' 'alcohol']\n0.7609028497409815\n",
          "output_type": "stream"
        }
      ]
    },
    {
      "cell_type": "code",
      "source": [
        "f1s[9],stds[9]=estimate(X[:,list(sf_.k_feature_idx_)],y)\n",
        "methods.append('SFS(mlxtend)')\n",
        "print(f1s[9],stds[9])"
      ],
      "metadata": {
        "id": "OQ79gw8tg10r",
        "outputId": "0a1415e3-e3f8-4488-b7cf-b5cc2d1c020d",
        "execution": {
          "iopub.status.busy": "2024-03-13T05:35:58.349407Z",
          "iopub.execute_input": "2024-03-13T05:35:58.349686Z",
          "iopub.status.idle": "2024-03-13T05:35:59.549215Z",
          "shell.execute_reply.started": "2024-03-13T05:35:58.349662Z",
          "shell.execute_reply": "2024-03-13T05:35:59.548229Z"
        },
        "trusted": true
      },
      "execution_count": null,
      "outputs": [
        {
          "name": "stdout",
          "text": "0.7572568177958268 0.029822117964857203\n",
          "output_type": "stream"
        }
      ]
    },
    {
      "cell_type": "markdown",
      "source": [
        "### **Backward**"
      ],
      "metadata": {
        "id": "dfYeRQ3Cg10r"
      }
    },
    {
      "cell_type": "code",
      "source": [
        "sb_=SFS(RandomForestClassifier(max_depth=3),k_features='best',forward=False,scoring='f1')\n",
        "sb_=sb_.fit(X, y)\n",
        "print(sb_.k_feature_idx_)\n",
        "print(feature_names[list(sb_.k_feature_idx_)])\n",
        "print(sb_.k_score_)"
      ],
      "metadata": {
        "id": "M-ohSiUmg10r",
        "outputId": "f09071d3-d1d5-4eeb-f283-f3a4c9544a87",
        "execution": {
          "iopub.status.busy": "2024-03-13T05:35:59.550306Z",
          "iopub.execute_input": "2024-03-13T05:35:59.550584Z",
          "iopub.status.idle": "2024-03-13T05:37:18.079103Z",
          "shell.execute_reply.started": "2024-03-13T05:35:59.550560Z",
          "shell.execute_reply": "2024-03-13T05:37:18.078207Z"
        },
        "trusted": true
      },
      "execution_count": null,
      "outputs": [
        {
          "name": "stdout",
          "text": "(1, 3, 5, 6, 7, 9, 10)\n['volatile acidity' 'residual sugar' 'free sulfur dioxide'\n 'total sulfur dioxide' 'density' 'sulphates' 'alcohol']\n0.7610954015395658\n",
          "output_type": "stream"
        }
      ]
    },
    {
      "cell_type": "code",
      "source": [
        "f1s[10],stds[10]=estimate(X[:,list(sb_.k_feature_idx_)],y)\n",
        "methods.append('SBS(mlxtend)')\n",
        "print(f1s[10],stds[10])"
      ],
      "metadata": {
        "id": "vQlISutYg10s",
        "outputId": "487c72ba-df5a-4ed1-e50f-2161c02cd67d",
        "execution": {
          "iopub.status.busy": "2024-03-13T05:37:18.080281Z",
          "iopub.execute_input": "2024-03-13T05:37:18.081257Z",
          "iopub.status.idle": "2024-03-13T05:37:19.274421Z",
          "shell.execute_reply.started": "2024-03-13T05:37:18.081229Z",
          "shell.execute_reply": "2024-03-13T05:37:19.273377Z"
        },
        "trusted": true
      },
      "execution_count": null,
      "outputs": [
        {
          "name": "stdout",
          "text": "0.7511189216842598 0.04954336786142185\n",
          "output_type": "stream"
        }
      ]
    },
    {
      "cell_type": "markdown",
      "source": [
        "## **Visualizing overall perfomance across methods**"
      ],
      "metadata": {
        "id": "MHCxbOUEg10s"
      }
    },
    {
      "cell_type": "code",
      "source": [
        "n_bars=len(f1s)\n",
        "colors=[\"r\", \"g\", \"b\", \"c\", \"m\",'orange','yellow','maroon','brown','purple','pink']\n",
        "fig=plt.figure(figsize=(10,10))\n",
        "ax=fig.add_subplot(1,1,1)\n",
        "for j in range(n_bars):\n",
        "    ax.barh(j,f1s[j],xerr=stds[j],color=colors[j],align=\"center\")\n",
        "ax.set_title(\"Feature Selection Results\")\n",
        "ax.set_xlim(left=np.min(f1s)* 0.9,right=np.max(f1s)*1.1)\n",
        "ax.set_yticks(range(n_bars))\n",
        "ax.set_xlabel(\"F1\")\n",
        "ax.invert_yaxis()\n",
        "x_labels=methods\n",
        "ax.set_yticklabels(x_labels)\n",
        "plt.show()"
      ],
      "metadata": {
        "id": "-8HgeuLfg10s",
        "outputId": "bfdfeec5-b263-459c-b973-a82fb59b6850",
        "execution": {
          "iopub.status.busy": "2024-03-13T05:37:19.275824Z",
          "iopub.execute_input": "2024-03-13T05:37:19.276692Z",
          "iopub.status.idle": "2024-03-13T05:37:19.662386Z",
          "shell.execute_reply.started": "2024-03-13T05:37:19.276652Z",
          "shell.execute_reply": "2024-03-13T05:37:19.661512Z"
        },
        "trusted": true
      },
      "execution_count": null,
      "outputs": [
        {
          "output_type": "display_data",
          "data": {
            "text/plain": "<Figure size 1000x1000 with 1 Axes>",
            "image/png": "[encoded data removed]"
          },
          "metadata": {}
        }
      ]
    },
    {
      "cell_type": "markdown",
      "source": [
        "# **Second dataset**"
      ],
      "metadata": {
        "id": "UCdpYQI2g10s"
      }
    },
    {
      "cell_type": "code",
      "source": [
        "methods=[]\n",
        "f1s=np.zeros(shape=11)\n",
        "stds=np.zeros(shape=11)"
      ],
      "metadata": {
        "id": "SatjaBKNg10s",
        "execution": {
          "iopub.status.busy": "2024-03-13T05:37:19.663621Z",
          "iopub.execute_input": "2024-03-13T05:37:19.663992Z",
          "iopub.status.idle": "2024-03-13T05:37:19.668778Z",
          "shell.execute_reply.started": "2024-03-13T05:37:19.663957Z",
          "shell.execute_reply": "2024-03-13T05:37:19.667885Z"
        },
        "trusted": true
      },
      "execution_count": null,
      "outputs": []
    },
    {
      "cell_type": "code",
      "source": [
        "X,y=make_classification(n_samples=101,n_features=16,n_informative=3,n_redundant=3)\n",
        "print(X)\n",
        "print(y)"
      ],
      "metadata": {
        "id": "UBxs-73vg10s",
        "outputId": "bb9c419c-36b3-4ea8-95a2-1305b0102f7a",
        "execution": {
          "iopub.status.busy": "2024-03-13T05:37:19.669900Z",
          "iopub.execute_input": "2024-03-13T05:37:19.670194Z",
          "iopub.status.idle": "2024-03-13T05:37:19.681776Z",
          "shell.execute_reply.started": "2024-03-13T05:37:19.670170Z",
          "shell.execute_reply": "2024-03-13T05:37:19.680889Z"
        },
        "trusted": true
      },
      "execution_count": null,
      "outputs": [
        {
          "name": "stdout",
          "text": "[[ 0.29576258  0.50042079 -0.9545061  ... -1.85736148  1.05474243\n  -1.13829876]\n [ 0.48611096  1.87908751  0.15246918 ...  1.11539959 -0.29348347\n   0.52351268]\n [ 0.18975343  0.57077833  1.56981484 ... -0.06541698 -0.31358219\n  -0.30707485]\n ...\n [-1.65286611  0.20355375  0.32963317 ... -1.01341179  0.0340746\n  -2.05322771]\n [-0.91452886 -2.2757841   1.77665465 ... -0.32852352  0.97191897\n   0.02906787]\n [ 0.59935633  0.35429941  0.0605154  ...  0.30135352 -0.42061113\n  -1.66369153]]\n[1 1 0 1 0 1 1 1 0 0 1 0 1 0 0 1 0 1 1 0 0 0 1 0 0 0 1 1 0 0 0 1 0 1 0 1 0\n 0 1 1 0 0 1 0 0 0 1 0 1 1 1 0 1 0 0 1 1 1 0 1 0 1 0 0 1 0 0 1 1 0 1 0 0 1\n 0 1 1 0 0 0 0 1 0 1 0 1 1 1 1 0 0 0 1 1 1 1 0 0 1 1 1]\n",
          "output_type": "stream"
        }
      ]
    },
    {
      "cell_type": "code",
      "source": [
        "f1s[0],stds[0]=estimate(X,y)\n",
        "methods.append('Original Dataset')\n",
        "print(estimate(X,y))"
      ],
      "metadata": {
        "id": "l0tg-SYtg10s",
        "outputId": "199bdc6f-143e-4f20-bb71-fb16a1be68ad",
        "execution": {
          "iopub.status.busy": "2024-03-13T05:37:19.684834Z",
          "iopub.execute_input": "2024-03-13T05:37:19.685161Z",
          "iopub.status.idle": "2024-03-13T05:37:21.750254Z",
          "shell.execute_reply.started": "2024-03-13T05:37:19.685136Z",
          "shell.execute_reply": "2024-03-13T05:37:21.749257Z"
        },
        "trusted": true
      },
      "execution_count": null,
      "outputs": [
        {
          "name": "stdout",
          "text": "(0.8488995215311004, 0.07190825663201028)\n",
          "output_type": "stream"
        }
      ]
    },
    {
      "cell_type": "markdown",
      "source": [
        "## **Univariate feature selection**"
      ],
      "metadata": {
        "id": "AtFDPfjIg10t"
      }
    },
    {
      "cell_type": "code",
      "source": [
        "n_features=3\n",
        "us=GenericUnivariateSelect(mode='k_best')\n",
        "us.fit(X,y)\n",
        "print(us.n_features_in_)\n",
        "print(us.scores_)\n",
        "ind=np.argsort(np.array(us.scores_))\n",
        "mask=(ind>len(ind)-n_features-1)"
      ],
      "metadata": {
        "id": "p-eEVR7og10t",
        "outputId": "354f1fe2-9244-4472-aa87-03536c36aed8",
        "execution": {
          "iopub.status.busy": "2024-03-13T05:37:21.751455Z",
          "iopub.execute_input": "2024-03-13T05:37:21.751750Z",
          "iopub.status.idle": "2024-03-13T05:37:21.759777Z",
          "shell.execute_reply.started": "2024-03-13T05:37:21.751725Z",
          "shell.execute_reply": "2024-03-13T05:37:21.758785Z"
        },
        "trusted": true
      },
      "execution_count": null,
      "outputs": [
        {
          "name": "stdout",
          "text": "16\n[1.01544749e-02 2.15810415e+01 1.69243145e+00 1.42589824e+01\n 8.06104296e+01 1.16024950e+00 7.11811186e-03 4.95024859e-01\n 1.58368474e-02 6.01179142e-01 1.28365503e+01 1.60485465e+00\n 5.10148004e-01 2.56999470e-01 1.73015490e+00 4.42548075e+00]\n",
          "output_type": "stream"
        }
      ]
    },
    {
      "cell_type": "code",
      "source": [
        "f1s[1],stds[1]=estimate(X[:,mask],y)\n",
        "methods.append('UnivariateFeatureSelector')\n",
        "print(f1s[1],stds[1])"
      ],
      "metadata": {
        "id": "FfEZ_1VIg10t",
        "outputId": "4ee932e0-c676-4f21-da85-ea4d5ad3f4ca",
        "execution": {
          "iopub.status.busy": "2024-03-13T05:37:21.761001Z",
          "iopub.execute_input": "2024-03-13T05:37:21.761354Z",
          "iopub.status.idle": "2024-03-13T05:37:22.758239Z",
          "shell.execute_reply.started": "2024-03-13T05:37:21.761309Z",
          "shell.execute_reply": "2024-03-13T05:37:22.757307Z"
        },
        "trusted": true
      },
      "execution_count": null,
      "outputs": [
        {
          "name": "stdout",
          "text": "0.8257319770013268 0.06502192062980432\n",
          "output_type": "stream"
        }
      ]
    },
    {
      "cell_type": "markdown",
      "source": [
        "## **Recurcive feature elimination**"
      ],
      "metadata": {
        "id": "soUqeZPGg10t"
      }
    },
    {
      "cell_type": "code",
      "source": [
        "n_features=3\n",
        "rfe=RFE(estimator=RandomForestClassifier(max_depth=3),n_features_to_select=n_features).fit(X,y)\n",
        "print(rfe.n_features_in_)\n",
        "print(rfe.n_features_)\n",
        "print(rfe.ranking_)\n",
        "print(rfe.estimator_.feature_importances_)\n",
        "mask=[True if x==1 else False for x in rfe.ranking_ ]"
      ],
      "metadata": {
        "id": "ta7TnUUKg10t",
        "outputId": "d00f0d83-3439-4b81-d725-2bd6ddd9e034",
        "execution": {
          "iopub.status.busy": "2024-03-13T05:37:22.759297Z",
          "iopub.execute_input": "2024-03-13T05:37:22.759551Z",
          "iopub.status.idle": "2024-03-13T05:37:25.674848Z",
          "shell.execute_reply.started": "2024-03-13T05:37:22.759530Z",
          "shell.execute_reply": "2024-03-13T05:37:25.673892Z"
        },
        "trusted": true
      },
      "execution_count": null,
      "outputs": [
        {
          "name": "stdout",
          "text": "16\n3\n[ 6  2 11  1  1 10  8  3  4 13  1 12  9  7 14  5]\n[0.30630102 0.45247631 0.24122267]\n",
          "output_type": "stream"
        }
      ]
    },
    {
      "cell_type": "code",
      "source": [
        "f1s[2],stds[2]=estimate(X[:,mask],y)\n",
        "methods.append('RFE')\n",
        "print(f1s[2],stds[2])"
      ],
      "metadata": {
        "id": "u3ubh-iNg10t",
        "outputId": "ba6f455a-7e45-4c88-fbc7-ec33eff37391",
        "execution": {
          "iopub.status.busy": "2024-03-13T05:37:25.676099Z",
          "iopub.execute_input": "2024-03-13T05:37:25.676416Z",
          "iopub.status.idle": "2024-03-13T05:37:26.693787Z",
          "shell.execute_reply.started": "2024-03-13T05:37:25.676387Z",
          "shell.execute_reply": "2024-03-13T05:37:26.692800Z"
        },
        "trusted": true
      },
      "execution_count": null,
      "outputs": [
        {
          "name": "stdout",
          "text": "0.8446198830409356 0.085032859467506\n",
          "output_type": "stream"
        }
      ]
    },
    {
      "cell_type": "markdown",
      "source": [
        "## **Recurcive feature elimination with cross-validation**"
      ],
      "metadata": {
        "id": "zrZ0YV65g10u"
      }
    },
    {
      "cell_type": "code",
      "source": [
        "rfecv=RFECV(RandomForestClassifier(max_depth=3),scoring='f1').fit(X,y)\n",
        "print(rfecv.n_features_in_)\n",
        "print(rfecv.n_features_)\n",
        "print(rfecv.ranking_)\n",
        "print(rfecv.estimator_.feature_importances_)\n",
        "mask=[True if x==1 else False for x in rfecv.ranking_ ]"
      ],
      "metadata": {
        "id": "y5Qhm3uag10u",
        "outputId": "c512db0a-cda2-471c-8284-682a73890b62",
        "execution": {
          "iopub.status.busy": "2024-03-13T05:37:26.695084Z",
          "iopub.execute_input": "2024-03-13T05:37:26.695477Z",
          "iopub.status.idle": "2024-03-13T05:37:46.170012Z",
          "shell.execute_reply.started": "2024-03-13T05:37:26.695442Z",
          "shell.execute_reply": "2024-03-13T05:37:46.168965Z"
        },
        "trusted": true
      },
      "execution_count": null,
      "outputs": [
        {
          "name": "stdout",
          "text": "16\n6\n[10  1  7  1  1  6  9  1  1 11  1  5  4  3  8  2]\n[0.15445606 0.17181309 0.36372753 0.06169775 0.06720253 0.18110305]\n",
          "output_type": "stream"
        }
      ]
    },
    {
      "cell_type": "code",
      "source": [
        "f1s[3],stds[3]=estimate(X[:,mask],y)\n",
        "methods.append('RFECV')\n",
        "print(f1s[3],stds[3])"
      ],
      "metadata": {
        "id": "yM9B9TH8g10u",
        "outputId": "a91e43e2-a54e-4624-c181-e3d5a19cbcdd",
        "execution": {
          "iopub.status.busy": "2024-03-13T05:37:46.170954Z",
          "iopub.execute_input": "2024-03-13T05:37:46.171204Z",
          "iopub.status.idle": "2024-03-13T05:37:47.191097Z",
          "shell.execute_reply.started": "2024-03-13T05:37:46.171182Z",
          "shell.execute_reply": "2024-03-13T05:37:47.190064Z"
        },
        "trusted": true
      },
      "execution_count": null,
      "outputs": [
        {
          "name": "stdout",
          "text": "0.8664433811802233 0.060612667407127424\n",
          "output_type": "stream"
        }
      ]
    },
    {
      "cell_type": "markdown",
      "source": [
        "## **Sequential feature selection**"
      ],
      "metadata": {
        "id": "nCcg610Wg10u"
      }
    },
    {
      "cell_type": "markdown",
      "source": [
        "### **Forward**"
      ],
      "metadata": {
        "id": "v5t8rFEgg10u"
      }
    },
    {
      "cell_type": "code",
      "source": [
        "sf=SequentialFeatureSelector(RandomForestClassifier(max_depth=3),n_features_to_select=3,direction='forward').fit(X,y)\n",
        "print(sf.n_features_in_)\n",
        "print(sf.n_features_to_select_)\n",
        "print(sf.support_)"
      ],
      "metadata": {
        "id": "8WfKL4UBg10u",
        "outputId": "f31fab66-ab7c-4593-f492-08a61db1372d",
        "execution": {
          "iopub.status.busy": "2024-03-13T05:37:47.192501Z",
          "iopub.execute_input": "2024-03-13T05:37:47.192905Z",
          "iopub.status.idle": "2024-03-13T05:38:32.780753Z",
          "shell.execute_reply.started": "2024-03-13T05:37:47.192869Z",
          "shell.execute_reply": "2024-03-13T05:38:32.779775Z"
        },
        "trusted": true
      },
      "execution_count": null,
      "outputs": [
        {
          "name": "stdout",
          "text": "16\n3\n[False  True False  True  True False False False False False False False\n False False False False]\n",
          "output_type": "stream"
        }
      ]
    },
    {
      "cell_type": "code",
      "source": [
        "f1s[4],stds[4]=estimate(X[:,sf.support_],y)\n",
        "methods.append('SFS(sklearn)')\n",
        "print(f1s[4],stds[4])"
      ],
      "metadata": {
        "id": "v8k3KirFg10v",
        "outputId": "81598d27-356a-4dc5-cd2c-a6f0397d5637",
        "execution": {
          "iopub.status.busy": "2024-03-13T05:38:32.781996Z",
          "iopub.execute_input": "2024-03-13T05:38:32.782297Z",
          "iopub.status.idle": "2024-03-13T05:38:33.856414Z",
          "shell.execute_reply.started": "2024-03-13T05:38:32.782273Z",
          "shell.execute_reply": "2024-03-13T05:38:33.855436Z"
        },
        "trusted": true
      },
      "execution_count": null,
      "outputs": [
        {
          "name": "stdout",
          "text": "0.8564017887856897 0.05995033631601408\n",
          "output_type": "stream"
        }
      ]
    },
    {
      "cell_type": "markdown",
      "source": [
        "### **Backward**"
      ],
      "metadata": {
        "id": "5qEra9Khg10x"
      }
    },
    {
      "cell_type": "code",
      "source": [
        "sb=SequentialFeatureSelector(RandomForestClassifier(max_depth=3),n_features_to_select=3,direction='backward').fit(X,y)\n",
        "print(sb.n_features_in_)\n",
        "print(sb.n_features_to_select_)\n",
        "print(sb.support_)"
      ],
      "metadata": {
        "id": "AsXZbsXsg10x",
        "outputId": "b519e17f-8b69-46e9-d112-857776c86d3c",
        "execution": {
          "iopub.status.busy": "2024-03-13T05:38:33.857508Z",
          "iopub.execute_input": "2024-03-13T05:38:33.857775Z",
          "iopub.status.idle": "2024-03-13T05:40:45.182087Z",
          "shell.execute_reply.started": "2024-03-13T05:38:33.857752Z",
          "shell.execute_reply": "2024-03-13T05:40:45.180999Z"
        },
        "trusted": true
      },
      "execution_count": null,
      "outputs": [
        {
          "name": "stdout",
          "text": "16\n3\n[False False False  True  True False False False False False False False\n False False False  True]\n",
          "output_type": "stream"
        }
      ]
    },
    {
      "cell_type": "code",
      "source": [
        "f1s[5],stds[5]=estimate(X[:,sb.support_],y)\n",
        "methods.append('SBS(sklearn)')\n",
        "print(f1s[5],stds[5])"
      ],
      "metadata": {
        "id": "4edLWauVg10x",
        "outputId": "a93270ab-b581-4321-b7a8-bc2b0e473434",
        "execution": {
          "iopub.status.busy": "2024-03-13T05:40:45.183219Z",
          "iopub.execute_input": "2024-03-13T05:40:45.183529Z",
          "iopub.status.idle": "2024-03-13T05:40:46.184306Z",
          "shell.execute_reply.started": "2024-03-13T05:40:45.183502Z",
          "shell.execute_reply": "2024-03-13T05:40:46.183325Z"
        },
        "trusted": true
      },
      "execution_count": null,
      "outputs": [
        {
          "name": "stdout",
          "text": "0.850125313283208 0.08896925406449645\n",
          "output_type": "stream"
        }
      ]
    },
    {
      "cell_type": "markdown",
      "source": [
        "## **Select from model**"
      ],
      "metadata": {
        "id": "MdnfHxfTg10x"
      }
    },
    {
      "cell_type": "markdown",
      "source": [
        "### **Logistic Regression**"
      ],
      "metadata": {
        "id": "jK5QSx1Yg10x"
      }
    },
    {
      "cell_type": "code",
      "source": [
        "sfm_lr=SelectFromModel(LogisticRegression(penalty='l1',solver='liblinear',C=0.1)).fit(X,y)\n",
        "print(sfm_lr.estimator_.coef_)\n",
        "print(sfm_lr.threshold_)\n",
        "print(sfm_lr.get_support())"
      ],
      "metadata": {
        "id": "O5p5wIMvg10x",
        "outputId": "bc754817-b3e3-42ac-9622-9289950d0a61",
        "execution": {
          "iopub.status.busy": "2024-03-13T05:40:46.185364Z",
          "iopub.execute_input": "2024-03-13T05:40:46.185627Z",
          "iopub.status.idle": "2024-03-13T05:40:46.193824Z",
          "shell.execute_reply.started": "2024-03-13T05:40:46.185604Z",
          "shell.execute_reply": "2024-03-13T05:40:46.192894Z"
        },
        "trusted": true
      },
      "execution_count": null,
      "outputs": [
        {
          "name": "stdout",
          "text": "[[ 0.          0.          0.          0.         -1.08287038  0.\n   0.          0.          0.          0.          0.          0.\n   0.          0.          0.          0.        ]]\n1e-05\n[False False False False  True False False False False False False False\n False False False False]\n",
          "output_type": "stream"
        }
      ]
    },
    {
      "cell_type": "code",
      "source": [
        "f1s[6],stds[6]=estimate(X[:,sfm_lr.get_support()],y)\n",
        "methods.append('SelectFromModel+LogisticRegression')\n",
        "print(f1s[6],stds[6])"
      ],
      "metadata": {
        "id": "kLo__WFqg10y",
        "outputId": "91ff93f0-f288-4619-e591-c3e1119951ff",
        "execution": {
          "iopub.status.busy": "2024-03-13T05:40:46.194725Z",
          "iopub.execute_input": "2024-03-13T05:40:46.195039Z",
          "iopub.status.idle": "2024-03-13T05:40:47.214740Z",
          "shell.execute_reply.started": "2024-03-13T05:40:46.194994Z",
          "shell.execute_reply": "2024-03-13T05:40:47.213645Z"
        },
        "trusted": true
      },
      "execution_count": null,
      "outputs": [
        {
          "name": "stdout",
          "text": "0.8091267811472415 0.06634667196884675\n",
          "output_type": "stream"
        }
      ]
    },
    {
      "cell_type": "markdown",
      "source": [
        "### **Random Forest**"
      ],
      "metadata": {
        "id": "QV1QGFQxg10y"
      }
    },
    {
      "cell_type": "code",
      "source": [
        "sfm_rf=SelectFromModel(RandomForestClassifier(max_depth=3)).fit(X,y)\n",
        "print(sfm_rf.estimator_.feature_importances_)\n",
        "print(sfm_rf.threshold_)\n",
        "print(sfm_rf.get_support())"
      ],
      "metadata": {
        "id": "YsPhrYj5g10y",
        "outputId": "d83938aa-f857-48d4-ed1c-0a9d42e2a435",
        "execution": {
          "iopub.status.busy": "2024-03-13T05:40:47.216237Z",
          "iopub.execute_input": "2024-03-13T05:40:47.216659Z",
          "iopub.status.idle": "2024-03-13T05:40:47.488704Z",
          "shell.execute_reply.started": "2024-03-13T05:40:47.216621Z",
          "shell.execute_reply": "2024-03-13T05:40:47.487797Z"
        },
        "trusted": true
      },
      "execution_count": null,
      "outputs": [
        {
          "name": "stdout",
          "text": "[0.03717633 0.10541847 0.01910554 0.13138898 0.29510062 0.02434194\n 0.02089363 0.03663494 0.03786499 0.01476782 0.14727366 0.02547095\n 0.02304512 0.02719647 0.01994039 0.03438016]\n0.06250000000000001\n[False  True False  True  True False False False False False  True False\n False False False False]\n",
          "output_type": "stream"
        }
      ]
    },
    {
      "cell_type": "code",
      "source": [
        "f1s[7],stds[7]=estimate(X[:,sfm_rf.get_support()],y)\n",
        "methods.append('SelectFromModel+RandomForestClassifier')\n",
        "print(f1s[7],stds[7])"
      ],
      "metadata": {
        "id": "ZALKWKd9g10y",
        "outputId": "0cea6e27-93a3-4da7-a4c5-d6f89fda865e",
        "execution": {
          "iopub.status.busy": "2024-03-13T05:40:47.490261Z",
          "iopub.execute_input": "2024-03-13T05:40:47.490680Z",
          "iopub.status.idle": "2024-03-13T05:40:48.560007Z",
          "shell.execute_reply.started": "2024-03-13T05:40:47.490645Z",
          "shell.execute_reply": "2024-03-13T05:40:48.559082Z"
        },
        "trusted": true
      },
      "execution_count": null,
      "outputs": [
        {
          "name": "stdout",
          "text": "0.8533714857553866 0.0614050697511893\n",
          "output_type": "stream"
        }
      ]
    },
    {
      "cell_type": "markdown",
      "source": [
        "## **ColumnSelector**"
      ],
      "metadata": {
        "id": "SYK47Cn3g10y"
      }
    },
    {
      "cell_type": "code",
      "source": [
        "n_features=3\n",
        "all_comb=list(combinations(range(X.shape[1]),r=n_features))\n",
        "print(all_comb)\n",
        "print(len(all_comb))"
      ],
      "metadata": {
        "id": "Ggd9sH3hg10y",
        "outputId": "df8bf841-0616-400b-fc01-f68ce2b572a4",
        "execution": {
          "iopub.status.busy": "2024-03-13T05:40:48.561384Z",
          "iopub.execute_input": "2024-03-13T05:40:48.561751Z",
          "iopub.status.idle": "2024-03-13T05:40:48.567820Z",
          "shell.execute_reply.started": "2024-03-13T05:40:48.561720Z",
          "shell.execute_reply": "2024-03-13T05:40:48.566976Z"
        },
        "trusted": true
      },
      "execution_count": null,
      "outputs": [
        {
          "name": "stdout",
          "text": "[(0, 1, 2), (0, 1, 3), (0, 1, 4), (0, 1, 5), (0, 1, 6), (0, 1, 7), (0, 1, 8), (0, 1, 9), (0, 1, 10), (0, 1, 11), (0, 1, 12), (0, 1, 13), (0, 1, 14), (0, 1, 15), (0, 2, 3), (0, 2, 4), (0, 2, 5), (0, 2, 6), (0, 2, 7), (0, 2, 8), (0, 2, 9), (0, 2, 10), (0, 2, 11), (0, 2, 12), (0, 2, 13), (0, 2, 14), (0, 2, 15), (0, 3, 4), (0, 3, 5), (0, 3, 6), (0, 3, 7), (0, 3, 8), (0, 3, 9), (0, 3, 10), (0, 3, 11), (0, 3, 12), (0, 3, 13), (0, 3, 14), (0, 3, 15), (0, 4, 5), (0, 4, 6), (0, 4, 7), (0, 4, 8), (0, 4, 9), (0, 4, 10), (0, 4, 11), (0, 4, 12), (0, 4, 13), (0, 4, 14), (0, 4, 15), (0, 5, 6), (0, 5, 7), (0, 5, 8), (0, 5, 9), (0, 5, 10), (0, 5, 11), (0, 5, 12), (0, 5, 13), (0, 5, 14), (0, 5, 15), (0, 6, 7), (0, 6, 8), (0, 6, 9), (0, 6, 10), (0, 6, 11), (0, 6, 12), (0, 6, 13), (0, 6, 14), (0, 6, 15), (0, 7, 8), (0, 7, 9), (0, 7, 10), (0, 7, 11), (0, 7, 12), (0, 7, 13), (0, 7, 14), (0, 7, 15), (0, 8, 9), (0, 8, 10), (0, 8, 11), (0, 8, 12), (0, 8, 13), (0, 8, 14), (0, 8, 15), (0, 9, 10), (0, 9, 11), (0, 9, 12), (0, 9, 13), (0, 9, 14), (0, 9, 15), (0, 10, 11), (0, 10, 12), (0, 10, 13), (0, 10, 14), (0, 10, 15), (0, 11, 12), (0, 11, 13), (0, 11, 14), (0, 11, 15), (0, 12, 13), (0, 12, 14), (0, 12, 15), (0, 13, 14), (0, 13, 15), (0, 14, 15), (1, 2, 3), (1, 2, 4), (1, 2, 5), (1, 2, 6), (1, 2, 7), (1, 2, 8), (1, 2, 9), (1, 2, 10), (1, 2, 11), (1, 2, 12), (1, 2, 13), (1, 2, 14), (1, 2, 15), (1, 3, 4), (1, 3, 5), (1, 3, 6), (1, 3, 7), (1, 3, 8), (1, 3, 9), (1, 3, 10), (1, 3, 11), (1, 3, 12), (1, 3, 13), (1, 3, 14), (1, 3, 15), (1, 4, 5), (1, 4, 6), (1, 4, 7), (1, 4, 8), (1, 4, 9), (1, 4, 10), (1, 4, 11), (1, 4, 12), (1, 4, 13), (1, 4, 14), (1, 4, 15), (1, 5, 6), (1, 5, 7), (1, 5, 8), (1, 5, 9), (1, 5, 10), (1, 5, 11), (1, 5, 12), (1, 5, 13), (1, 5, 14), (1, 5, 15), (1, 6, 7), (1, 6, 8), (1, 6, 9), (1, 6, 10), (1, 6, 11), (1, 6, 12), (1, 6, 13), (1, 6, 14), (1, 6, 15), (1, 7, 8), (1, 7, 9), (1, 7, 10), (1, 7, 11), (1, 7, 12), (1, 7, 13), (1, 7, 14), (1, 7, 15), (1, 8, 9), (1, 8, 10), (1, 8, 11), (1, 8, 12), (1, 8, 13), (1, 8, 14), (1, 8, 15), (1, 9, 10), (1, 9, 11), (1, 9, 12), (1, 9, 13), (1, 9, 14), (1, 9, 15), (1, 10, 11), (1, 10, 12), (1, 10, 13), (1, 10, 14), (1, 10, 15), (1, 11, 12), (1, 11, 13), (1, 11, 14), (1, 11, 15), (1, 12, 13), (1, 12, 14), (1, 12, 15), (1, 13, 14), (1, 13, 15), (1, 14, 15), (2, 3, 4), (2, 3, 5), (2, 3, 6), (2, 3, 7), (2, 3, 8), (2, 3, 9), (2, 3, 10), (2, 3, 11), (2, 3, 12), (2, 3, 13), (2, 3, 14), (2, 3, 15), (2, 4, 5), (2, 4, 6), (2, 4, 7), (2, 4, 8), (2, 4, 9), (2, 4, 10), (2, 4, 11), (2, 4, 12), (2, 4, 13), (2, 4, 14), (2, 4, 15), (2, 5, 6), (2, 5, 7), (2, 5, 8), (2, 5, 9), (2, 5, 10), (2, 5, 11), (2, 5, 12), (2, 5, 13), (2, 5, 14), (2, 5, 15), (2, 6, 7), (2, 6, 8), (2, 6, 9), (2, 6, 10), (2, 6, 11), (2, 6, 12), (2, 6, 13), (2, 6, 14), (2, 6, 15), (2, 7, 8), (2, 7, 9), (2, 7, 10), (2, 7, 11), (2, 7, 12), (2, 7, 13), (2, 7, 14), (2, 7, 15), (2, 8, 9), (2, 8, 10), (2, 8, 11), (2, 8, 12), (2, 8, 13), (2, 8, 14), (2, 8, 15), (2, 9, 10), (2, 9, 11), (2, 9, 12), (2, 9, 13), (2, 9, 14), (2, 9, 15), (2, 10, 11), (2, 10, 12), (2, 10, 13), (2, 10, 14), (2, 10, 15), (2, 11, 12), (2, 11, 13), (2, 11, 14), (2, 11, 15), (2, 12, 13), (2, 12, 14), (2, 12, 15), (2, 13, 14), (2, 13, 15), (2, 14, 15), (3, 4, 5), (3, 4, 6), (3, 4, 7), (3, 4, 8), (3, 4, 9), (3, 4, 10), (3, 4, 11), (3, 4, 12), (3, 4, 13), (3, 4, 14), (3, 4, 15), (3, 5, 6), (3, 5, 7), (3, 5, 8), (3, 5, 9), (3, 5, 10), (3, 5, 11), (3, 5, 12), (3, 5, 13), (3, 5, 14), (3, 5, 15), (3, 6, 7), (3, 6, 8), (3, 6, 9), (3, 6, 10), (3, 6, 11), (3, 6, 12), (3, 6, 13), (3, 6, 14), (3, 6, 15), (3, 7, 8), (3, 7, 9), (3, 7, 10), (3, 7, 11), (3, 7, 12), (3, 7, 13), (3, 7, 14), (3, 7, 15), (3, 8, 9), (3, 8, 10), (3, 8, 11), (3, 8, 12), (3, 8, 13), (3, 8, 14), (3, 8, 15), (3, 9, 10), (3, 9, 11), (3, 9, 12), (3, 9, 13), (3, 9, 14), (3, 9, 15), (3, 10, 11), (3, 10, 12), (3, 10, 13), (3, 10, 14), (3, 10, 15), (3, 11, 12), (3, 11, 13), (3, 11, 14), (3, 11, 15), (3, 12, 13), (3, 12, 14), (3, 12, 15), (3, 13, 14), (3, 13, 15), (3, 14, 15), (4, 5, 6), (4, 5, 7), (4, 5, 8), (4, 5, 9), (4, 5, 10), (4, 5, 11), (4, 5, 12), (4, 5, 13), (4, 5, 14), (4, 5, 15), (4, 6, 7), (4, 6, 8), (4, 6, 9), (4, 6, 10), (4, 6, 11), (4, 6, 12), (4, 6, 13), (4, 6, 14), (4, 6, 15), (4, 7, 8), (4, 7, 9), (4, 7, 10), (4, 7, 11), (4, 7, 12), (4, 7, 13), (4, 7, 14), (4, 7, 15), (4, 8, 9), (4, 8, 10), (4, 8, 11), (4, 8, 12), (4, 8, 13), (4, 8, 14), (4, 8, 15), (4, 9, 10), (4, 9, 11), (4, 9, 12), (4, 9, 13), (4, 9, 14), (4, 9, 15), (4, 10, 11), (4, 10, 12), (4, 10, 13), (4, 10, 14), (4, 10, 15), (4, 11, 12), (4, 11, 13), (4, 11, 14), (4, 11, 15), (4, 12, 13), (4, 12, 14), (4, 12, 15), (4, 13, 14), (4, 13, 15), (4, 14, 15), (5, 6, 7), (5, 6, 8), (5, 6, 9), (5, 6, 10), (5, 6, 11), (5, 6, 12), (5, 6, 13), (5, 6, 14), (5, 6, 15), (5, 7, 8), (5, 7, 9), (5, 7, 10), (5, 7, 11), (5, 7, 12), (5, 7, 13), (5, 7, 14), (5, 7, 15), (5, 8, 9), (5, 8, 10), (5, 8, 11), (5, 8, 12), (5, 8, 13), (5, 8, 14), (5, 8, 15), (5, 9, 10), (5, 9, 11), (5, 9, 12), (5, 9, 13), (5, 9, 14), (5, 9, 15), (5, 10, 11), (5, 10, 12), (5, 10, 13), (5, 10, 14), (5, 10, 15), (5, 11, 12), (5, 11, 13), (5, 11, 14), (5, 11, 15), (5, 12, 13), (5, 12, 14), (5, 12, 15), (5, 13, 14), (5, 13, 15), (5, 14, 15), (6, 7, 8), (6, 7, 9), (6, 7, 10), (6, 7, 11), (6, 7, 12), (6, 7, 13), (6, 7, 14), (6, 7, 15), (6, 8, 9), (6, 8, 10), (6, 8, 11), (6, 8, 12), (6, 8, 13), (6, 8, 14), (6, 8, 15), (6, 9, 10), (6, 9, 11), (6, 9, 12), (6, 9, 13), (6, 9, 14), (6, 9, 15), (6, 10, 11), (6, 10, 12), (6, 10, 13), (6, 10, 14), (6, 10, 15), (6, 11, 12), (6, 11, 13), (6, 11, 14), (6, 11, 15), (6, 12, 13), (6, 12, 14), (6, 12, 15), (6, 13, 14), (6, 13, 15), (6, 14, 15), (7, 8, 9), (7, 8, 10), (7, 8, 11), (7, 8, 12), (7, 8, 13), (7, 8, 14), (7, 8, 15), (7, 9, 10), (7, 9, 11), (7, 9, 12), (7, 9, 13), (7, 9, 14), (7, 9, 15), (7, 10, 11), (7, 10, 12), (7, 10, 13), (7, 10, 14), (7, 10, 15), (7, 11, 12), (7, 11, 13), (7, 11, 14), (7, 11, 15), (7, 12, 13), (7, 12, 14), (7, 12, 15), (7, 13, 14), (7, 13, 15), (7, 14, 15), (8, 9, 10), (8, 9, 11), (8, 9, 12), (8, 9, 13), (8, 9, 14), (8, 9, 15), (8, 10, 11), (8, 10, 12), (8, 10, 13), (8, 10, 14), (8, 10, 15), (8, 11, 12), (8, 11, 13), (8, 11, 14), (8, 11, 15), (8, 12, 13), (8, 12, 14), (8, 12, 15), (8, 13, 14), (8, 13, 15), (8, 14, 15), (9, 10, 11), (9, 10, 12), (9, 10, 13), (9, 10, 14), (9, 10, 15), (9, 11, 12), (9, 11, 13), (9, 11, 14), (9, 11, 15), (9, 12, 13), (9, 12, 14), (9, 12, 15), (9, 13, 14), (9, 13, 15), (9, 14, 15), (10, 11, 12), (10, 11, 13), (10, 11, 14), (10, 11, 15), (10, 12, 13), (10, 12, 14), (10, 12, 15), (10, 13, 14), (10, 13, 15), (10, 14, 15), (11, 12, 13), (11, 12, 14), (11, 12, 15), (11, 13, 14), (11, 13, 15), (11, 14, 15), (12, 13, 14), (12, 13, 15), (12, 14, 15), (13, 14, 15)]\n560\n",
          "output_type": "stream"
        }
      ]
    },
    {
      "cell_type": "code",
      "source": [
        "pipeline=make_pipeline(ColumnSelector(),RandomForestClassifier(max_depth=3))\n",
        "param_grid={'columnselector__cols':all_comb}\n",
        "grid=GridSearchCV(pipeline,param_grid,cv=5,scoring='f1')\n",
        "grid.fit(X,y)\n",
        "print('Best parameters:',grid.best_params_)\n",
        "print('Best performance:',grid.best_score_)"
      ],
      "metadata": {
        "id": "ASDuGTNrg10y",
        "outputId": "7dd69782-1669-424d-a80b-0abe4536dd09",
        "execution": {
          "iopub.status.busy": "2024-03-13T05:40:48.569132Z",
          "iopub.execute_input": "2024-03-13T05:40:48.569451Z",
          "iopub.status.idle": "2024-03-13T05:50:11.327978Z",
          "shell.execute_reply.started": "2024-03-13T05:40:48.569421Z",
          "shell.execute_reply": "2024-03-13T05:50:11.327055Z"
        },
        "trusted": true
      },
      "execution_count": null,
      "outputs": [
        {
          "name": "stdout",
          "text": "Best parameters: {'columnselector__cols': (1, 4, 12)}\nBest performance: 0.8919573443412453\n",
          "output_type": "stream"
        }
      ]
    },
    {
      "cell_type": "code",
      "source": [
        "f1s[8],stds[8]=estimate(X[:,list(grid.best_params_['columnselector__cols'])],y)\n",
        "methods.append('ColumnSelector+GridSearchCV')\n",
        "print(f1s[8],stds[8])"
      ],
      "metadata": {
        "id": "8jJU1159g10z",
        "outputId": "39124698-523d-41eb-cbcb-fe785da6fbf3",
        "execution": {
          "iopub.status.busy": "2024-03-13T05:50:11.329130Z",
          "iopub.execute_input": "2024-03-13T05:50:11.329419Z",
          "iopub.status.idle": "2024-03-13T05:50:12.316604Z",
          "shell.execute_reply.started": "2024-03-13T05:50:11.329393Z",
          "shell.execute_reply": "2024-03-13T05:50:12.315624Z"
        },
        "trusted": true
      },
      "execution_count": null,
      "outputs": [
        {
          "name": "stdout",
          "text": "0.8482775566366897 0.07982651754064793\n",
          "output_type": "stream"
        }
      ]
    },
    {
      "cell_type": "markdown",
      "source": [
        "## **Sequential feature selection(mlxtend)**"
      ],
      "metadata": {
        "id": "_kMiGPe6g10z"
      }
    },
    {
      "cell_type": "markdown",
      "source": [
        "### **Forward**"
      ],
      "metadata": {
        "id": "HnWQ9RCvg10z"
      }
    },
    {
      "cell_type": "code",
      "source": [
        "sf_=SFS(RandomForestClassifier(max_depth=3),k_features=3,forward=True,scoring='f1')\n",
        "sf_=sf_.fit(X, y)\n",
        "print(sf_.k_feature_idx_)\n",
        "print(sf_.k_score_)"
      ],
      "metadata": {
        "id": "h6lM_hsOg10z",
        "outputId": "164efe71-53f0-4eb5-ea31-431a77cb3ab1",
        "execution": {
          "iopub.status.busy": "2024-03-13T05:50:12.317614Z",
          "iopub.execute_input": "2024-03-13T05:50:12.317882Z",
          "iopub.status.idle": "2024-03-13T05:50:56.832690Z",
          "shell.execute_reply.started": "2024-03-13T05:50:12.317858Z",
          "shell.execute_reply": "2024-03-13T05:50:56.831733Z"
        },
        "trusted": true
      },
      "execution_count": null,
      "outputs": [
        {
          "name": "stdout",
          "text": "(3, 4, 12)\n0.8945029239766082\n",
          "output_type": "stream"
        }
      ]
    },
    {
      "cell_type": "code",
      "source": [
        "f1s[9],stds[9]=estimate(X[:,list(sf_.k_feature_idx_)],y)\n",
        "methods.append('SFS(mlxtend)')\n",
        "print(f1s[9],stds[9])"
      ],
      "metadata": {
        "id": "U07hD9ydg10z",
        "outputId": "0cdaaa38-ad36-4854-c67b-ab7df95ec14d",
        "execution": {
          "iopub.status.busy": "2024-03-13T05:50:56.833826Z",
          "iopub.execute_input": "2024-03-13T05:50:56.834127Z",
          "iopub.status.idle": "2024-03-13T05:50:57.871223Z",
          "shell.execute_reply.started": "2024-03-13T05:50:56.834101Z",
          "shell.execute_reply": "2024-03-13T05:50:57.870258Z"
        },
        "trusted": true
      },
      "execution_count": null,
      "outputs": [
        {
          "name": "stdout",
          "text": "0.8678863826232247 0.05603407213580532\n",
          "output_type": "stream"
        }
      ]
    },
    {
      "cell_type": "markdown",
      "source": [
        "### **Backward**"
      ],
      "metadata": {
        "id": "r4BW-EtKg10z"
      }
    },
    {
      "cell_type": "code",
      "source": [
        "sb_=SFS(RandomForestClassifier(max_depth=3),k_features=3,forward=False,scoring='f1')\n",
        "sb_=sb_.fit(X, y)\n",
        "print(sb_.k_feature_idx_)\n",
        "print(sb_.k_score_)"
      ],
      "metadata": {
        "id": "ermfnEfJg10z",
        "outputId": "c3bc0790-b6f7-4068-b423-6ee94a9180d2",
        "execution": {
          "iopub.status.busy": "2024-03-13T05:50:57.872356Z",
          "iopub.execute_input": "2024-03-13T05:50:57.872629Z",
          "iopub.status.idle": "2024-03-13T05:53:09.397940Z",
          "shell.execute_reply.started": "2024-03-13T05:50:57.872603Z",
          "shell.execute_reply": "2024-03-13T05:53:09.397042Z"
        },
        "trusted": true
      },
      "execution_count": null,
      "outputs": [
        {
          "name": "stdout",
          "text": "(3, 4, 12)\n0.8742355889724311\n",
          "output_type": "stream"
        }
      ]
    },
    {
      "cell_type": "code",
      "source": [
        "f1s[10],stds[10]=estimate(X[:,list(sb_.k_feature_idx_)],y)\n",
        "methods.append('SBS(mlxtend)')\n",
        "print(f1s[10],stds[10])"
      ],
      "metadata": {
        "id": "KrKnb0gdg100",
        "outputId": "797e92d8-52d3-4800-da53-b099f14ae19a",
        "execution": {
          "iopub.status.busy": "2024-03-13T05:53:09.399183Z",
          "iopub.execute_input": "2024-03-13T05:53:09.399854Z",
          "iopub.status.idle": "2024-03-13T05:53:10.384726Z",
          "shell.execute_reply.started": "2024-03-13T05:53:09.399809Z",
          "shell.execute_reply": "2024-03-13T05:53:10.383773Z"
        },
        "trusted": true
      },
      "execution_count": null,
      "outputs": [
        {
          "name": "stdout",
          "text": "0.8611636935475945 0.05886464300845011\n",
          "output_type": "stream"
        }
      ]
    },
    {
      "cell_type": "markdown",
      "source": [
        "## **Visualizing overall perfomance across methods**"
      ],
      "metadata": {
        "id": "OWrcXXoNg100"
      }
    },
    {
      "cell_type": "code",
      "source": [
        "n_bars=len(f1s)\n",
        "colors=[\"r\", \"g\", \"b\", \"c\", \"m\",'orange','yellow','maroon','brown','purple','pink']\n",
        "fig=plt.figure(figsize=(10,10))\n",
        "ax=fig.add_subplot(1,1,1)\n",
        "for j in range(n_bars):\n",
        "    ax.barh(j,f1s[j],xerr=stds[j],color=colors[j],align=\"center\")\n",
        "ax.set_title(\"Feature Selection Results\")\n",
        "ax.set_xlim(left=np.min(f1s)* 0.9,right=np.max(f1s)*1.1)\n",
        "ax.set_yticks(range(n_bars))\n",
        "ax.set_xlabel(\"F1\")\n",
        "ax.invert_yaxis()\n",
        "x_labels=methods\n",
        "ax.set_yticklabels(x_labels)\n",
        "plt.show()"
      ],
      "metadata": {
        "id": "8AXwBPYJg100",
        "outputId": "17e2dbc7-c1cc-4efb-e8b4-7d2a37c945d9",
        "execution": {
          "iopub.status.busy": "2024-03-13T05:53:10.385814Z",
          "iopub.execute_input": "2024-03-13T05:53:10.386087Z",
          "iopub.status.idle": "2024-03-13T05:53:10.758171Z",
          "shell.execute_reply.started": "2024-03-13T05:53:10.386063Z",
          "shell.execute_reply": "2024-03-13T05:53:10.757142Z"
        },
        "trusted": true
      },
      "execution_count": null,
      "outputs": [
        {
          "output_type": "display_data",
          "data": {
            "text/plain": "<Figure size 1000x1000 with 1 Axes>",
            "image/png": "[encoded data removed]"
          },
          "metadata": {}
        }
      ]
    },
    {
      "cell_type": "markdown",
      "source": [
        "# **Third dataset(number of features is bigger, than number of samples in dataset)**"
      ],
      "metadata": {
        "id": "piXtatEig100"
      }
    },
    {
      "cell_type": "code",
      "source": [
        "methods=[]\n",
        "f1s=np.zeros(shape=8)\n",
        "stds=np.zeros(shape=8)"
      ],
      "metadata": {
        "id": "paQXms6ng100",
        "execution": {
          "iopub.status.busy": "2024-03-13T05:53:10.759279Z",
          "iopub.execute_input": "2024-03-13T05:53:10.759552Z",
          "iopub.status.idle": "2024-03-13T05:53:10.764263Z",
          "shell.execute_reply.started": "2024-03-13T05:53:10.759527Z",
          "shell.execute_reply": "2024-03-13T05:53:10.763131Z"
        },
        "trusted": true
      },
      "execution_count": null,
      "outputs": []
    },
    {
      "cell_type": "code",
      "source": [
        "X,y=make_classification(n_samples=101,n_features=102,n_informative=3,n_redundant=3)\n",
        "print(X)\n",
        "print(y)"
      ],
      "metadata": {
        "id": "CxAnOiFEg100",
        "outputId": "167308e5-5c73-45f2-f52c-a0403471d94e",
        "execution": {
          "iopub.status.busy": "2024-03-13T05:53:10.765281Z",
          "iopub.execute_input": "2024-03-13T05:53:10.765569Z",
          "iopub.status.idle": "2024-03-13T05:53:10.781318Z",
          "shell.execute_reply.started": "2024-03-13T05:53:10.765538Z",
          "shell.execute_reply": "2024-03-13T05:53:10.780388Z"
        },
        "trusted": true
      },
      "execution_count": null,
      "outputs": [
        {
          "name": "stdout",
          "text": "[[ 0.97556828  0.71868411  0.13320874 ...  0.5990828  -0.50861244\n  -0.88374634]\n [-1.23988811 -0.14365425 -1.57164507 ...  0.98757052  1.11248672\n   1.00380561]\n [ 1.48931663 -0.50484081  1.63930503 ...  0.61603711  0.52809403\n  -1.63550019]\n ...\n [-1.5548892  -0.455391   -1.96779526 ...  1.31523254 -1.76948112\n   2.30475009]\n [ 0.05777842 -0.90098875 -1.14898886 ... -0.13746307  1.52356788\n   2.07458944]\n [-0.95586718 -0.85295478 -0.41826146 ...  0.63062636  1.00262248\n   0.55336319]]\n[0 1 0 1 1 0 0 1 0 0 1 1 0 1 1 0 1 1 0 1 0 0 0 1 1 0 0 0 1 0 0 1 1 0 1 0 0\n 1 1 0 1 1 0 1 1 1 1 1 1 1 1 0 0 0 0 0 0 0 1 0 0 1 0 0 0 0 1 0 1 1 0 0 0 1\n 1 0 0 0 1 1 1 0 1 0 0 0 1 0 0 0 0 0 1 1 1 0 1 1 1 1 1]\n",
          "output_type": "stream"
        }
      ]
    },
    {
      "cell_type": "code",
      "source": [
        "f1s[0],stds[0]=estimate(X,y)\n",
        "methods.append('Original Dataset')\n",
        "print(estimate(X,y))"
      ],
      "metadata": {
        "id": "MzT3x7wwg100",
        "outputId": "478a1cd6-5407-4b01-b17b-39854efdbfdb",
        "execution": {
          "iopub.status.busy": "2024-03-13T05:53:10.782420Z",
          "iopub.execute_input": "2024-03-13T05:53:10.782689Z",
          "iopub.status.idle": "2024-03-13T05:53:12.887569Z",
          "shell.execute_reply.started": "2024-03-13T05:53:10.782666Z",
          "shell.execute_reply": "2024-03-13T05:53:12.886668Z"
        },
        "trusted": true
      },
      "execution_count": null,
      "outputs": [
        {
          "name": "stdout",
          "text": "(0.8345098039215687, 0.07294820403281695)\n",
          "output_type": "stream"
        }
      ]
    },
    {
      "cell_type": "markdown",
      "source": [
        "## **Univariate feature selection**"
      ],
      "metadata": {
        "id": "3iihbpQIg100"
      }
    },
    {
      "cell_type": "code",
      "source": [
        "n_features=3\n",
        "us=GenericUnivariateSelect(mode='k_best')\n",
        "us.fit(X,y)\n",
        "print(us.n_features_in_)\n",
        "print(us.scores_)\n",
        "ind=np.argsort(np.array(us.scores_))\n",
        "mask=(ind>len(ind)-n_features-1)"
      ],
      "metadata": {
        "id": "bsGlJ9D2g101",
        "outputId": "0dc8228a-2db0-4536-dfbd-2c186209f740",
        "execution": {
          "iopub.status.busy": "2024-03-13T05:53:12.888634Z",
          "iopub.execute_input": "2024-03-13T05:53:12.888901Z",
          "iopub.status.idle": "2024-03-13T05:53:12.898071Z",
          "shell.execute_reply.started": "2024-03-13T05:53:12.888877Z",
          "shell.execute_reply": "2024-03-13T05:53:12.897103Z"
        },
        "trusted": true
      },
      "execution_count": null,
      "outputs": [
        {
          "name": "stdout",
          "text": "102\n[7.22682783e-02 1.27896972e-04 1.16894588e+02 3.01991477e-01\n 1.63711247e+00 5.55927714e-02 3.83635735e-01 1.57597547e+00\n 4.88515504e-01 9.67303026e-01 1.25674825e+00 7.17814777e-02\n 7.72351526e-01 3.89776789e-02 8.28429763e-02 1.16851993e-04\n 2.90749145e+00 1.74453912e+00 3.15353875e-02 1.82360689e-03\n 7.17643006e+00 3.00055487e+00 9.30464220e-01 2.22597696e+00\n 7.20715737e-02 9.57622329e-01 4.40526356e-01 9.67201347e+00\n 1.59462169e-01 6.96712095e-01 2.88406160e+00 2.53057837e+00\n 8.07238768e-01 1.54724828e+00 8.90943452e+00 3.90738185e-01\n 1.10688255e-01 2.76539375e-01 1.57613822e-01 2.02710807e+00\n 6.16752058e-01 1.34451390e+00 6.22251178e-02 5.01165342e+00\n 2.72241759e+00 2.63856167e-01 2.06101516e+00 5.37793964e-04\n 1.54400412e+00 1.50305179e-01 1.03675024e-01 1.73389558e-01\n 2.45528524e-01 3.19244546e-01 7.97105013e-02 1.67260743e-01\n 1.54445585e+00 2.69460853e-01 3.42185585e-02 6.56435468e-01\n 5.19169023e-01 1.26116126e+00 8.76992891e-01 5.79241717e-01\n 3.05290260e-01 3.82200808e-01 3.65791658e+01 3.46814675e+00\n 3.80755469e+00 1.10925993e+01 1.33446760e-01 1.93967329e+00\n 5.43108165e-02 6.56665289e-01 1.38838907e+00 1.42329459e-01\n 1.94455604e-02 6.04942728e-04 1.21117297e+01 4.93730053e-01\n 2.16123224e-01 1.90384879e+00 2.13487069e-01 1.87227581e+00\n 9.44427559e-02 1.74655403e+00 1.47099385e-02 1.66201747e-01\n 6.49744690e-01 3.17900424e-03 9.78088784e-02 7.60176869e-01\n 6.46629212e-01 9.60510030e+00 7.10520613e-01 3.64683996e-03\n 3.04268182e-01 9.00960692e-01 4.66893178e+00 2.73678600e+00\n 1.57441995e-01 1.80503191e-01]\n",
          "output_type": "stream"
        }
      ]
    },
    {
      "cell_type": "code",
      "source": [
        "f1s[1],stds[1]=estimate(X[:,mask],y)\n",
        "methods.append('UnivariateFeatureSelector')\n",
        "print(f1s[1],stds[1])"
      ],
      "metadata": {
        "id": "kWvTYursg101",
        "outputId": "efdbd80b-523f-404a-95d9-65b400ecb2b6",
        "execution": {
          "iopub.status.busy": "2024-03-13T05:53:12.899142Z",
          "iopub.execute_input": "2024-03-13T05:53:12.899445Z",
          "iopub.status.idle": "2024-03-13T05:53:13.960953Z",
          "shell.execute_reply.started": "2024-03-13T05:53:12.899421Z",
          "shell.execute_reply": "2024-03-13T05:53:13.959883Z"
        },
        "trusted": true
      },
      "execution_count": null,
      "outputs": [
        {
          "name": "stdout",
          "text": "0.6807017543859647 0.05131645748812477\n",
          "output_type": "stream"
        }
      ]
    },
    {
      "cell_type": "markdown",
      "source": [
        "## **Recurcive feature elimination**"
      ],
      "metadata": {
        "id": "-9gpz7m4g101"
      }
    },
    {
      "cell_type": "code",
      "source": [
        "n_features=3\n",
        "rfe=RFE(estimator=RandomForestClassifier(max_depth=3),n_features_to_select=n_features).fit(X,y)\n",
        "print(rfe.n_features_in_)\n",
        "print(rfe.n_features_)\n",
        "print(rfe.ranking_)\n",
        "print(rfe.estimator_.feature_importances_)\n",
        "mask=[True if x==1 else False for x in rfe.ranking_ ]"
      ],
      "metadata": {
        "id": "fmJPS9jUg101",
        "outputId": "faa8b170-0543-4cc2-ddb8-a635acc8fc35",
        "execution": {
          "iopub.status.busy": "2024-03-13T05:53:13.962287Z",
          "iopub.execute_input": "2024-03-13T05:53:13.962698Z",
          "iopub.status.idle": "2024-03-13T05:53:35.451438Z",
          "shell.execute_reply.started": "2024-03-13T05:53:13.962666Z",
          "shell.execute_reply": "2024-03-13T05:53:35.450438Z"
        },
        "trusted": true
      },
      "execution_count": null,
      "outputs": [
        {
          "name": "stdout",
          "text": "102\n3\n[ 75  77   1  55  24  72  64  20  36  82  23  99  15 100  92  70  32  81\n  97  67   1  96  98  51  50  45  84   4  39  57  68  12  33  41   7  49\n  27  86  18   5  73  35  69   8  34  87  37  71  53  76  56  29  44  48\n  60  66  79  40  80  17  16  25  59  62  54  46   1  30  21   3  28  42\n  83  93  13  14  91  85   2  43  63  38  78   6  94  10  47  89  58  88\n  90  31  19  11  61  52  74  22   9  65  26  95]\n[0.47677089 0.27636639 0.24686272]\n",
          "output_type": "stream"
        }
      ]
    },
    {
      "cell_type": "code",
      "source": [
        "f1s[2],stds[2]=estimate(X[:,mask],y)\n",
        "methods.append('RFE')\n",
        "print(f1s[2],stds[2])"
      ],
      "metadata": {
        "id": "nDmRp-u7g101",
        "outputId": "18c86677-4500-4b52-f47e-a862c354ad63",
        "execution": {
          "iopub.status.busy": "2024-03-13T05:53:35.452757Z",
          "iopub.execute_input": "2024-03-13T05:53:35.453075Z",
          "iopub.status.idle": "2024-03-13T05:53:36.511226Z",
          "shell.execute_reply.started": "2024-03-13T05:53:35.453047Z",
          "shell.execute_reply": "2024-03-13T05:53:36.510126Z"
        },
        "trusted": true
      },
      "execution_count": null,
      "outputs": [
        {
          "name": "stdout",
          "text": "0.9294736842105265 0.0397499107126299\n",
          "output_type": "stream"
        }
      ]
    },
    {
      "cell_type": "markdown",
      "source": [
        "## **Recurcive feature elimination with cross-validation**"
      ],
      "metadata": {
        "id": "0qqkZGCEg101"
      }
    },
    {
      "cell_type": "code",
      "source": [
        "rfecv=RFECV(RandomForestClassifier(max_depth=3),scoring='f1').fit(X,y)\n",
        "print(rfecv.n_features_in_)\n",
        "print(rfecv.n_features_)\n",
        "print(rfecv.ranking_)\n",
        "print(rfecv.estimator_.feature_importances_)\n",
        "mask=[True if x==1 else False for x in rfecv.ranking_ ]"
      ],
      "metadata": {
        "id": "mRq12a-Ng101",
        "outputId": "744f912d-73b7-49b3-fb37-87794f75d25b",
        "execution": {
          "iopub.status.busy": "2024-03-13T05:53:36.512326Z",
          "iopub.execute_input": "2024-03-13T05:53:36.512600Z",
          "iopub.status.idle": "2024-03-13T05:55:47.023172Z",
          "shell.execute_reply.started": "2024-03-13T05:53:36.512575Z",
          "shell.execute_reply": "2024-03-13T05:55:47.022116Z"
        },
        "trusted": true
      },
      "execution_count": null,
      "outputs": [
        {
          "name": "stdout",
          "text": "102\n12\n[90 52  1 73 28 60 71 24 30 37 25 77 16 48 59 23 89 49 88 47  1 26  7 44\n 85 55 63  1 10 61 72 12 50 67  1 46 39 58 13  1 45 20 40  1  2 86 19 54\n 70 81 79  3 15 68 82 78 27 76 53 18  6 42 74 80 29 87  1 21 14  1 32 36\n 56 57 69  4 51 64  1 11 83 41 66  5  9 35  8 43 17 65 91 22 31  1 34 62\n  1 75  1 33 84 38]\n[0.29261023 0.10953873 0.10158977 0.02212603 0.02152629 0.02645901\n 0.1688479  0.09117653 0.10066328 0.01333622 0.02293839 0.02918763]\n",
          "output_type": "stream"
        }
      ]
    },
    {
      "cell_type": "code",
      "source": [
        "f1s[3],stds[3]=estimate(X[:,mask],y)\n",
        "methods.append('RFECV')\n",
        "print(f1s[3],stds[3])"
      ],
      "metadata": {
        "id": "9nlKRCMzg102",
        "outputId": "b2c389a1-52fb-4f0b-a644-60e52edcb449",
        "execution": {
          "iopub.status.busy": "2024-03-13T05:55:47.024454Z",
          "iopub.execute_input": "2024-03-13T05:55:47.024846Z",
          "iopub.status.idle": "2024-03-13T05:55:48.076909Z",
          "shell.execute_reply.started": "2024-03-13T05:55:47.024809Z",
          "shell.execute_reply": "2024-03-13T05:55:48.075969Z"
        },
        "trusted": true
      },
      "execution_count": null,
      "outputs": [
        {
          "name": "stdout",
          "text": "0.9294736842105265 0.0397499107126299\n",
          "output_type": "stream"
        }
      ]
    },
    {
      "cell_type": "markdown",
      "source": [
        "## **Sequential feature selection**"
      ],
      "metadata": {
        "id": "XahtS6E7g102"
      }
    },
    {
      "cell_type": "markdown",
      "source": [
        "### **Forward**"
      ],
      "metadata": {
        "id": "8QQP2j37g102"
      }
    },
    {
      "cell_type": "code",
      "source": [
        "sf=SequentialFeatureSelector(RandomForestClassifier(max_depth=3),n_features_to_select=3,direction='forward').fit(X,y)\n",
        "print(sf.n_features_in_)\n",
        "print(sf.n_features_to_select_)\n",
        "print(sf.support_)"
      ],
      "metadata": {
        "id": "4EtDqjM7g102",
        "outputId": "900b25e3-c5f9-4828-e6d0-7d7dad3baf65",
        "execution": {
          "iopub.status.busy": "2024-03-13T05:55:48.078234Z",
          "iopub.execute_input": "2024-03-13T05:55:48.078887Z",
          "iopub.status.idle": "2024-03-13T06:00:47.450486Z",
          "shell.execute_reply.started": "2024-03-13T05:55:48.078850Z",
          "shell.execute_reply": "2024-03-13T06:00:47.449428Z"
        },
        "trusted": true
      },
      "execution_count": null,
      "outputs": [
        {
          "name": "stdout",
          "text": "102\n3\n[False False  True False False False False False False False False False\n False False False False False False False False False False False False\n False False False  True False False False False False False False False\n False False False False False False False False False False False False\n False False False False False False False False False False False False\n False False False False False False  True False False False False False\n False False False False False False False False False False False False\n False False False False False False False False False False False False\n False False False False False False]\n",
          "output_type": "stream"
        }
      ]
    },
    {
      "cell_type": "code",
      "source": [
        "f1s[4],stds[4]=estimate(X[:,sf.support_],y)\n",
        "methods.append('SFS(sklearn)')\n",
        "print(f1s[4],stds[4])"
      ],
      "metadata": {
        "id": "1ie8Y6e0g102",
        "outputId": "b309f9bd-6111-4569-bfc5-13fb4bc92166",
        "execution": {
          "iopub.status.busy": "2024-03-13T06:00:47.451643Z",
          "iopub.execute_input": "2024-03-13T06:00:47.451946Z",
          "iopub.status.idle": "2024-03-13T06:00:48.445223Z",
          "shell.execute_reply.started": "2024-03-13T06:00:47.451901Z",
          "shell.execute_reply": "2024-03-13T06:00:48.444293Z"
        },
        "trusted": true
      },
      "execution_count": null,
      "outputs": [
        {
          "name": "stdout",
          "text": "0.9209022556390977 0.04877700391144577\n",
          "output_type": "stream"
        }
      ]
    },
    {
      "cell_type": "markdown",
      "source": [
        "## **Select from model**"
      ],
      "metadata": {
        "id": "bkzXfjFqg102"
      }
    },
    {
      "cell_type": "markdown",
      "source": [
        "### **Logistic Regression**"
      ],
      "metadata": {
        "id": "eGqQA38Sg102"
      }
    },
    {
      "cell_type": "code",
      "source": [
        "sfm_lr=SelectFromModel(LogisticRegression(penalty='l1',solver='liblinear',C=0.1)).fit(X,y)\n",
        "print(sfm_lr.estimator_.coef_)\n",
        "print(sfm_lr.threshold_)\n",
        "print(sfm_lr.get_support())"
      ],
      "metadata": {
        "id": "wRW7yjyRg102",
        "outputId": "94649fa4-5c7f-461f-ada8-102346ecb510",
        "execution": {
          "iopub.status.busy": "2024-03-13T06:00:48.446354Z",
          "iopub.execute_input": "2024-03-13T06:00:48.446644Z",
          "iopub.status.idle": "2024-03-13T06:00:48.455981Z",
          "shell.execute_reply.started": "2024-03-13T06:00:48.446619Z",
          "shell.execute_reply": "2024-03-13T06:00:48.454990Z"
        },
        "trusted": true
      },
      "execution_count": null,
      "outputs": [
        {
          "name": "stdout",
          "text": "[[ 0.          0.         -1.33615014  0.          0.          0.\n   0.          0.          0.          0.          0.          0.\n   0.          0.          0.          0.          0.          0.\n   0.          0.          0.          0.          0.          0.\n   0.          0.          0.          0.          0.          0.\n   0.          0.          0.          0.          0.          0.\n   0.          0.          0.          0.          0.          0.\n   0.          0.          0.          0.          0.          0.\n   0.          0.          0.          0.          0.          0.\n   0.          0.          0.          0.          0.          0.\n   0.          0.          0.          0.          0.          0.\n   0.          0.          0.          0.          0.          0.\n   0.          0.          0.          0.          0.          0.\n  -0.13373185  0.          0.          0.          0.          0.\n   0.          0.          0.          0.          0.          0.\n   0.          0.          0.          0.          0.          0.\n   0.          0.          0.          0.          0.          0.        ]]\n1e-05\n[False False  True False False False False False False False False False\n False False False False False False False False False False False False\n False False False False False False False False False False False False\n False False False False False False False False False False False False\n False False False False False False False False False False False False\n False False False False False False False False False False False False\n False False False False False False  True False False False False False\n False False False False False False False False False False False False\n False False False False False False]\n",
          "output_type": "stream"
        }
      ]
    },
    {
      "cell_type": "code",
      "source": [
        "f1s[5],stds[5]=estimate(X[:,sfm_lr.get_support()],y)\n",
        "methods.append('SelectFromModel+LogisticRegression')\n",
        "print(f1s[5],stds[5])"
      ],
      "metadata": {
        "id": "45go0esOg103",
        "outputId": "9b475463-49ad-4ee5-bea0-488868deae5a",
        "execution": {
          "iopub.status.busy": "2024-03-13T06:00:48.457226Z",
          "iopub.execute_input": "2024-03-13T06:00:48.457553Z",
          "iopub.status.idle": "2024-03-13T06:00:49.445281Z",
          "shell.execute_reply.started": "2024-03-13T06:00:48.457523Z",
          "shell.execute_reply": "2024-03-13T06:00:49.444388Z"
        },
        "trusted": true
      },
      "execution_count": null,
      "outputs": [
        {
          "name": "stdout",
          "text": "0.8912781954887219 0.05769734928418627\n",
          "output_type": "stream"
        }
      ]
    },
    {
      "cell_type": "markdown",
      "source": [
        "### **Random Forest**"
      ],
      "metadata": {
        "id": "POB6Yn4Zg103"
      }
    },
    {
      "cell_type": "code",
      "source": [
        "sfm_rf=SelectFromModel(RandomForestClassifier(max_depth=3)).fit(X,y)\n",
        "print(sfm_rf.estimator_.feature_importances_)\n",
        "print(sfm_rf.threshold_)\n",
        "print(sfm_rf.get_support())"
      ],
      "metadata": {
        "id": "spUk76yyg103",
        "outputId": "59b14780-d072-4ed1-f739-5088b1e3b80b",
        "execution": {
          "iopub.status.busy": "2024-03-13T06:00:49.446449Z",
          "iopub.execute_input": "2024-03-13T06:00:49.446789Z",
          "iopub.status.idle": "2024-03-13T06:00:49.684357Z",
          "shell.execute_reply.started": "2024-03-13T06:00:49.446762Z",
          "shell.execute_reply": "2024-03-13T06:00:49.683284Z"
        },
        "trusted": true
      },
      "execution_count": null,
      "outputs": [
        {
          "name": "stdout",
          "text": "[0.0026958  0.00228535 0.19696475 0.00605441 0.00506194 0.00955131\n 0.00146036 0.00565062 0.00492848 0.00370517 0.00583601 0.00647462\n 0.01014163 0.00546049 0.00185859 0.01351857 0.0080337  0.00253578\n 0.         0.00275732 0.04073163 0.00495319 0.00784091 0.00898494\n 0.00304351 0.00732657 0.00222642 0.0473912  0.00277872 0.00642925\n 0.00596963 0.00540844 0.00202641 0.00193743 0.02500952 0.00415215\n 0.00083939 0.00398656 0.00338863 0.00978313 0.00634263 0.00441596\n 0.00595877 0.01723858 0.00856689 0.00063232 0.00748245 0.01096137\n 0.00177018 0.00122898 0.0017835  0.00979969 0.00183218 0.00562392\n 0.00369873 0.00194665 0.00152838 0.00395585 0.00110121 0.00097639\n 0.00347079 0.00859846 0.00283059 0.00400741 0.00403111 0.\n 0.08496264 0.00855666 0.00727408 0.02805717 0.01050206 0.00546914\n 0.00255986 0.00361493 0.00833597 0.01031117 0.00349781 0.00102028\n 0.06940111 0.01181399 0.00292464 0.00300268 0.00160511 0.01051867\n 0.00638909 0.01170322 0.00404434 0.00772619 0.00255239 0.00142837\n 0.00552579 0.00653088 0.00364208 0.02316649 0.00456489 0.00373849\n 0.00299528 0.00418135 0.01056715 0.0073842  0.00672797 0.0047383 ]\n0.00980392156862745\n[False False  True False False False False False False False False False\n  True False False  True False False False False  True False False False\n False False False  True False False False False False False  True False\n False False False False False False False  True False False False  True\n False False False False False False False False False False False False\n False False False False False False  True False False  True  True False\n False False False  True False False  True  True False False False  True\n False  True False False False False False False False  True False False\n False False  True False False False]\n",
          "output_type": "stream"
        }
      ]
    },
    {
      "cell_type": "code",
      "source": [
        "f1s[6],stds[6]=estimate(X[:,sfm_rf.get_support()],y)\n",
        "methods.append('SelectFromModel+RandomForest')\n",
        "print(f1s[6],stds[6])"
      ],
      "metadata": {
        "id": "YCVaEUHfg103",
        "outputId": "4541bea3-aa89-41ca-8e15-4f35422e5197",
        "execution": {
          "iopub.status.busy": "2024-03-13T06:00:49.687365Z",
          "iopub.execute_input": "2024-03-13T06:00:49.687663Z",
          "iopub.status.idle": "2024-03-13T06:00:50.702064Z",
          "shell.execute_reply.started": "2024-03-13T06:00:49.687628Z",
          "shell.execute_reply": "2024-03-13T06:00:50.701158Z"
        },
        "trusted": true
      },
      "execution_count": null,
      "outputs": [
        {
          "name": "stdout",
          "text": "0.9209022556390977 0.04877700391144577\n",
          "output_type": "stream"
        }
      ]
    },
    {
      "cell_type": "markdown",
      "source": [
        "## **Sequential feature selection(mlxtend)**"
      ],
      "metadata": {
        "id": "11YftIKwg103"
      }
    },
    {
      "cell_type": "markdown",
      "source": [
        "### **Forward**"
      ],
      "metadata": {
        "id": "L-_KMgRJg103"
      }
    },
    {
      "cell_type": "code",
      "source": [
        "sf_=SFS(RandomForestClassifier(max_depth=3),k_features=3,forward=True,floating=False,scoring='f1')\n",
        "sf_=sf_.fit(X, y)\n",
        "print(sf_.k_feature_idx_)\n",
        "print(sf_.k_score_)"
      ],
      "metadata": {
        "id": "mJJN_yvqg103",
        "outputId": "dc0617a9-9a4f-4803-8b78-3a075e4aefbf",
        "execution": {
          "iopub.status.busy": "2024-03-13T06:00:50.703273Z",
          "iopub.execute_input": "2024-03-13T06:00:50.704045Z",
          "iopub.status.idle": "2024-03-13T06:05:52.239776Z",
          "shell.execute_reply.started": "2024-03-13T06:00:50.704008Z",
          "shell.execute_reply": "2024-03-13T06:05:52.238836Z"
        },
        "trusted": true
      },
      "execution_count": null,
      "outputs": [
        {
          "name": "stdout",
          "text": "(2, 20, 28)\n0.9399498746867169\n",
          "output_type": "stream"
        }
      ]
    },
    {
      "cell_type": "code",
      "source": [
        "f1s[7],stds[7]=estimate(X[:,list(sf_.k_feature_idx_)],y)\n",
        "methods.append('SFS(mlxtend)')\n",
        "print(f1s[7],stds[7])"
      ],
      "metadata": {
        "id": "IehTtt8Eg104",
        "outputId": "f44793f9-dd3b-4a09-82a8-4e72ccfee8b9",
        "execution": {
          "iopub.status.busy": "2024-03-13T06:05:52.241112Z",
          "iopub.execute_input": "2024-03-13T06:05:52.241459Z",
          "iopub.status.idle": "2024-03-13T06:05:53.260873Z",
          "shell.execute_reply.started": "2024-03-13T06:05:52.241426Z",
          "shell.execute_reply": "2024-03-13T06:05:53.259902Z"
        },
        "trusted": true
      },
      "execution_count": null,
      "outputs": [
        {
          "name": "stdout",
          "text": "0.9294736842105265 0.0397499107126299\n",
          "output_type": "stream"
        }
      ]
    },
    {
      "cell_type": "markdown",
      "source": [
        "## **Visualizing overall perfomance across methods**"
      ],
      "metadata": {
        "id": "71XpVvKJg104"
      }
    },
    {
      "cell_type": "code",
      "source": [
        "n_bars=len(f1s)\n",
        "colors=[\"r\", \"g\", \"b\", \"c\", \"m\",'orange','yellow','maroon']\n",
        "fig=plt.figure(figsize=(10,10))\n",
        "ax=fig.add_subplot(1,1,1)\n",
        "for j in range(n_bars):\n",
        "    ax.barh(j,f1s[j],xerr=stds[j],color=colors[j],align=\"center\")\n",
        "ax.set_title(\"Feature Selection Results\")\n",
        "ax.set_xlim(left=np.min(f1s)* 0.9,right=np.max(f1s)*1.1)\n",
        "ax.set_yticks(range(n_bars))\n",
        "ax.set_xlabel(\"F1\")\n",
        "ax.invert_yaxis()\n",
        "x_labels=methods\n",
        "ax.set_yticklabels(x_labels)\n",
        "plt.show()"
      ],
      "metadata": {
        "id": "xHkPjA-_g104",
        "outputId": "3e21f06a-46fc-4d5a-a2f0-559fba413179",
        "execution": {
          "iopub.status.busy": "2024-03-13T06:05:53.262262Z",
          "iopub.execute_input": "2024-03-13T06:05:53.262914Z",
          "iopub.status.idle": "2024-03-13T06:05:53.598066Z",
          "shell.execute_reply.started": "2024-03-13T06:05:53.262876Z",
          "shell.execute_reply": "2024-03-13T06:05:53.597154Z"
        },
        "trusted": true
      },
      "execution_count": null,
      "outputs": [
        {
          "output_type": "display_data",
          "data": {
            "text/plain": "<Figure size 1000x1000 with 1 Axes>",
            "image/png": "[encoded data removed]"
          },
          "metadata": {}
        }
      ]
    }
  ]
}